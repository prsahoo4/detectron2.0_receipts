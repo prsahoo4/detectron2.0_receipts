{
 "cells": [
  {
   "cell_type": "code",
   "execution_count": 1,
   "metadata": {
    "id": "hdCaHGCUA-4X"
   },
   "outputs": [],
   "source": [
    "#### installing necessary libraries\n",
    "# ! python3 -m spacy download en_core_web_lg\n",
    "# ! pip install paddlepaddle == 2.0\n",
    "# ! pip install paddleocr \n",
    "# ! pip install borb==2.0.27\n",
    "# ! pip install pytesseract\n",
    "# ! pip install ftfy\n",
    "# ! pip install tesseract\n",
    "# ! sudo apt install tesseract-ocr\n",
    "# ! pip install keras-ocr\n",
    "# ! python -m pip install spacy\n",
    "# ! pip install nltk\n",
    "# ! pip install pyforest\n",
    "# ! sudo apt-get install tesseract-ocr\n",
    "# ! pip install pytesseract==0.3.9\n",
    "# ! python -m spacy train config.cfg --output ./models --paths.train ./train.spacy --paths.dev ./dev.spacy\n",
    "# ! pip install datefinder\n",
    "# ! pip install pillow\n",
    "# ! pip install lexnlp\n",
    "# ! pip install pdf2image\n",
    "# ! pip install pytesseract"
   ]
  },
  {
   "cell_type": "code",
   "execution_count": 2,
   "metadata": {
    "id": "WXQF6isSyGWi"
   },
   "outputs": [],
   "source": [
    "# print(\"Restarting of kernel...\") \n",
    "# get_ipython().kernel.do_shutdown(True)"
   ]
  },
  {
   "cell_type": "code",
   "execution_count": 8,
   "metadata": {
    "colab": {
     "base_uri": "https://localhost:8080/"
    },
    "id": "nbc-pftqDOQW",
    "outputId": "18ecf9a3-e802-4503-ca64-7a5c50b31ffe"
   },
   "outputs": [
    {
     "name": "stdout",
     "output_type": "stream",
     "text": [
      "Looking in indexes: https://pypi.org/simple, https://us-python.pkg.dev/colab-wheels/public/simple/\n",
      "Requirement already satisfied: paddlepaddle in /usr/local/lib/python3.7/dist-packages (2.4.0)\n",
      "Requirement already satisfied: paddleocr in /usr/local/lib/python3.7/dist-packages (2.6.1.0)\n",
      "Requirement already satisfied: paddle-bfloat==0.1.7 in /usr/local/lib/python3.7/dist-packages (from paddlepaddle) (0.1.7)\n",
      "Requirement already satisfied: decorator in /usr/local/lib/python3.7/dist-packages (from paddlepaddle) (4.4.2)\n",
      "Requirement already satisfied: requests>=2.20.0 in /usr/local/lib/python3.7/dist-packages (from paddlepaddle) (2.24.0)\n",
      "Requirement already satisfied: opt-einsum==3.3.0 in /usr/local/lib/python3.7/dist-packages (from paddlepaddle) (3.3.0)\n",
      "Requirement already satisfied: protobuf<=3.20.0,>=3.1.0 in /usr/local/lib/python3.7/dist-packages (from paddlepaddle) (3.19.6)\n",
      "Requirement already satisfied: six in /usr/local/lib/python3.7/dist-packages (from paddlepaddle) (1.15.0)\n",
      "Requirement already satisfied: numpy>=1.13 in /usr/local/lib/python3.7/dist-packages (from paddlepaddle) (1.21.6)\n",
      "Requirement already satisfied: astor in /usr/local/lib/python3.7/dist-packages (from paddlepaddle) (0.8.1)\n",
      "Requirement already satisfied: Pillow in /usr/local/lib/python3.7/dist-packages (from paddlepaddle) (9.3.0)\n",
      "Requirement already satisfied: idna<3,>=2.5 in /usr/local/lib/python3.7/dist-packages (from requests>=2.20.0->paddlepaddle) (2.10)\n",
      "Requirement already satisfied: chardet<4,>=3.0.2 in /usr/local/lib/python3.7/dist-packages (from requests>=2.20.0->paddlepaddle) (3.0.4)\n",
      "Requirement already satisfied: certifi>=2017.4.17 in /usr/local/lib/python3.7/dist-packages (from requests>=2.20.0->paddlepaddle) (2022.9.24)\n",
      "Requirement already satisfied: urllib3!=1.25.0,!=1.25.1,<1.26,>=1.21.1 in /usr/local/lib/python3.7/dist-packages (from requests>=2.20.0->paddlepaddle) (1.24.3)\n",
      "Requirement already satisfied: lxml in /usr/local/lib/python3.7/dist-packages (from paddleocr) (4.9.1)\n",
      "Requirement already satisfied: fonttools>=4.24.0 in /usr/local/lib/python3.7/dist-packages (from paddleocr) (4.38.0)\n",
      "Requirement already satisfied: pyclipper in /usr/local/lib/python3.7/dist-packages (from paddleocr) (1.3.0.post4)\n",
      "Requirement already satisfied: python-docx in /usr/local/lib/python3.7/dist-packages (from paddleocr) (0.8.11)\n",
      "Requirement already satisfied: imgaug in /usr/local/lib/python3.7/dist-packages (from paddleocr) (0.4.0)\n",
      "Requirement already satisfied: lmdb in /usr/local/lib/python3.7/dist-packages (from paddleocr) (0.99)\n",
      "Requirement already satisfied: scikit-image in /usr/local/lib/python3.7/dist-packages (from paddleocr) (0.18.3)\n",
      "Requirement already satisfied: fire>=0.3.0 in /usr/local/lib/python3.7/dist-packages (from paddleocr) (0.4.0)\n",
      "Requirement already satisfied: rapidfuzz in /usr/local/lib/python3.7/dist-packages (from paddleocr) (2.13.2)\n",
      "Requirement already satisfied: cython in /usr/local/lib/python3.7/dist-packages (from paddleocr) (0.29.32)\n",
      "Requirement already satisfied: openpyxl in /usr/local/lib/python3.7/dist-packages (from paddleocr) (3.0.10)\n",
      "Requirement already satisfied: tqdm in /usr/local/lib/python3.7/dist-packages (from paddleocr) (4.64.1)\n",
      "Requirement already satisfied: visualdl in /usr/local/lib/python3.7/dist-packages (from paddleocr) (2.4.1)\n",
      "Requirement already satisfied: opencv-contrib-python in /usr/local/lib/python3.7/dist-packages (from paddleocr) (4.6.0.66)\n",
      "Requirement already satisfied: PyMuPDF==1.19.0 in /usr/local/lib/python3.7/dist-packages (from paddleocr) (1.19.0)\n",
      "Requirement already satisfied: lanms-neo==1.0.2 in /usr/local/lib/python3.7/dist-packages (from paddleocr) (1.0.2)\n",
      "Requirement already satisfied: shapely in /usr/local/lib/python3.7/dist-packages (from paddleocr) (1.8.5.post1)\n",
      "Requirement already satisfied: pdf2docx in /usr/local/lib/python3.7/dist-packages (from paddleocr) (0.5.6)\n",
      "Requirement already satisfied: Polygon3 in /usr/local/lib/python3.7/dist-packages (from paddleocr) (3.0.9.1)\n",
      "Requirement already satisfied: opencv-python in /usr/local/lib/python3.7/dist-packages (from paddleocr) (4.6.0.66)\n",
      "Requirement already satisfied: premailer in /usr/local/lib/python3.7/dist-packages (from paddleocr) (3.10.0)\n",
      "Requirement already satisfied: attrdict in /usr/local/lib/python3.7/dist-packages (from paddleocr) (2.0.1)\n",
      "Requirement already satisfied: beautifulsoup4 in /usr/local/lib/python3.7/dist-packages (from paddleocr) (4.6.3)\n",
      "Requirement already satisfied: termcolor in /usr/local/lib/python3.7/dist-packages (from fire>=0.3.0->paddleocr) (2.1.0)\n",
      "Requirement already satisfied: scipy in /usr/local/lib/python3.7/dist-packages (from imgaug->paddleocr) (1.5.1)\n",
      "Requirement already satisfied: imageio in /usr/local/lib/python3.7/dist-packages (from imgaug->paddleocr) (2.9.0)\n",
      "Requirement already satisfied: matplotlib in /usr/local/lib/python3.7/dist-packages (from imgaug->paddleocr) (3.2.2)\n",
      "Requirement already satisfied: networkx>=2.0 in /usr/local/lib/python3.7/dist-packages (from scikit-image->paddleocr) (2.6.3)\n",
      "Requirement already satisfied: PyWavelets>=1.1.1 in /usr/local/lib/python3.7/dist-packages (from scikit-image->paddleocr) (1.3.0)\n",
      "Requirement already satisfied: tifffile>=2019.7.26 in /usr/local/lib/python3.7/dist-packages (from scikit-image->paddleocr) (2021.11.2)\n",
      "Requirement already satisfied: kiwisolver>=1.0.1 in /usr/local/lib/python3.7/dist-packages (from matplotlib->imgaug->paddleocr) (1.4.4)\n",
      "Requirement already satisfied: cycler>=0.10 in /usr/local/lib/python3.7/dist-packages (from matplotlib->imgaug->paddleocr) (0.11.0)\n",
      "Requirement already satisfied: python-dateutil>=2.1 in /usr/local/lib/python3.7/dist-packages (from matplotlib->imgaug->paddleocr) (2.8.2)\n",
      "Requirement already satisfied: pyparsing!=2.0.4,!=2.1.2,!=2.1.6,>=2.0.1 in /usr/local/lib/python3.7/dist-packages (from matplotlib->imgaug->paddleocr) (3.0.9)\n",
      "Requirement already satisfied: typing-extensions in /usr/local/lib/python3.7/dist-packages (from kiwisolver>=1.0.1->matplotlib->imgaug->paddleocr) (4.1.1)\n",
      "Requirement already satisfied: et-xmlfile in /usr/local/lib/python3.7/dist-packages (from openpyxl->paddleocr) (1.1.0)\n",
      "Requirement already satisfied: cachetools in /usr/local/lib/python3.7/dist-packages (from premailer->paddleocr) (5.2.0)\n",
      "Requirement already satisfied: cssselect in /usr/local/lib/python3.7/dist-packages (from premailer->paddleocr) (1.2.0)\n",
      "Requirement already satisfied: cssutils in /usr/local/lib/python3.7/dist-packages (from premailer->paddleocr) (2.6.0)\n",
      "Requirement already satisfied: importlib-metadata in /usr/local/lib/python3.7/dist-packages (from cssutils->premailer->paddleocr) (4.13.0)\n",
      "Requirement already satisfied: zipp>=0.5 in /usr/local/lib/python3.7/dist-packages (from importlib-metadata->cssutils->premailer->paddleocr) (3.10.0)\n",
      "Requirement already satisfied: packaging in /usr/local/lib/python3.7/dist-packages (from visualdl->paddleocr) (21.3)\n",
      "Requirement already satisfied: pandas in /usr/local/lib/python3.7/dist-packages (from visualdl->paddleocr) (0.24.2)\n",
      "Requirement already satisfied: Flask-Babel>=1.0.0 in /usr/local/lib/python3.7/dist-packages (from visualdl->paddleocr) (2.0.0)\n",
      "Requirement already satisfied: flask>=1.1.1 in /usr/local/lib/python3.7/dist-packages (from visualdl->paddleocr) (1.1.4)\n",
      "Requirement already satisfied: multiprocess in /usr/local/lib/python3.7/dist-packages (from visualdl->paddleocr) (0.70.14)\n",
      "Requirement already satisfied: bce-python-sdk in /usr/local/lib/python3.7/dist-packages (from visualdl->paddleocr) (0.8.74)\n",
      "Requirement already satisfied: itsdangerous<2.0,>=0.24 in /usr/local/lib/python3.7/dist-packages (from flask>=1.1.1->visualdl->paddleocr) (1.1.0)\n",
      "Requirement already satisfied: Werkzeug<2.0,>=0.15 in /usr/local/lib/python3.7/dist-packages (from flask>=1.1.1->visualdl->paddleocr) (1.0.1)\n",
      "Requirement already satisfied: click<8.0,>=5.1 in /usr/local/lib/python3.7/dist-packages (from flask>=1.1.1->visualdl->paddleocr) (7.1.2)\n",
      "Requirement already satisfied: Jinja2<3.0,>=2.10.1 in /usr/local/lib/python3.7/dist-packages (from flask>=1.1.1->visualdl->paddleocr) (2.11.3)\n",
      "Requirement already satisfied: pytz in /usr/local/lib/python3.7/dist-packages (from Flask-Babel>=1.0.0->visualdl->paddleocr) (2022.6)\n",
      "Requirement already satisfied: Babel>=2.3 in /usr/local/lib/python3.7/dist-packages (from Flask-Babel>=1.0.0->visualdl->paddleocr) (2.11.0)\n",
      "Requirement already satisfied: MarkupSafe>=0.23 in /usr/local/lib/python3.7/dist-packages (from Jinja2<3.0,>=2.10.1->flask>=1.1.1->visualdl->paddleocr) (2.0.1)\n",
      "Requirement already satisfied: future>=0.6.0 in /usr/local/lib/python3.7/dist-packages (from bce-python-sdk->visualdl->paddleocr) (0.16.0)\n",
      "Requirement already satisfied: pycryptodome>=3.8.0 in /usr/local/lib/python3.7/dist-packages (from bce-python-sdk->visualdl->paddleocr) (3.15.0)\n",
      "Requirement already satisfied: dill>=0.3.6 in /usr/local/lib/python3.7/dist-packages (from multiprocess->visualdl->paddleocr) (0.3.6)\n",
      "Looking in indexes: https://pypi.org/simple, https://us-python.pkg.dev/colab-wheels/public/simple/\n",
      "Requirement already satisfied: numpy in /usr/local/lib/python3.7/dist-packages (1.21.6)\n"
     ]
    },
    {
     "name": "stderr",
     "output_type": "stream",
     "text": [
      "[nltk_data] Downloading package punkt to /root/nltk_data...\n",
      "[nltk_data]   Package punkt is already up-to-date!\n"
     ]
    },
    {
     "data": {
      "text/plain": [
       "True"
      ]
     },
     "execution_count": 8,
     "metadata": {},
     "output_type": "execute_result"
    }
   ],
   "source": [
    "#### importing libraries\n",
    "# !apt -qqy install xorg python3-pip\n",
    "!pip install paddlepaddle paddleocr\n",
    "!pip install -U numpy\n",
    "from pyforest import *\n",
    "import cv2\n",
    "import numpy as np\n",
    "import pytesseract\n",
    "from PIL import Image\n",
    "import imutils\n",
    "from imutils.perspective import four_point_transform\n",
    "import argparse\n",
    "import re\n",
    "from PIL import Image\n",
    "from matplotlib import pyplot as plt\n",
    "import os\n",
    "from paddleocr import PaddleOCR\n",
    "import random\n",
    "%matplotlib inline\n",
    "import sys\n",
    "import nltk\n",
    "import warnings\n",
    "warnings.filterwarnings('ignore')\n",
    "from borb.pdf.document.document import Document\n",
    "import typing\n",
    "from borb.pdf.pdf import PDF\n",
    "from borb.toolkit.text.simple_text_extraction import SimpleTextExtraction\n",
    "from borb.toolkit.ocr.ocr_as_optional_content_group import OCRAsOptionalContentGroup\n",
    "from pathlib import Path\n",
    "import ftfy\n",
    "import unicodedata\n",
    "from paddleocr import PaddleOCR, draw_ocr # main OCR dependencies\n",
    "from matplotlib import pyplot as plt # plot images\n",
    "import cv2 #opencv\n",
    "import pandas as pd\n",
    "import nltk\n",
    "nltk.download('punkt')"
   ]
  },
  {
   "cell_type": "code",
   "execution_count": 4,
   "metadata": {
    "colab": {
     "base_uri": "https://localhost:8080/"
    },
    "id": "efkoH1LZDB_D",
    "outputId": "98e63691-4581-4345-eb0f-c86c5b37389e"
   },
   "outputs": [
    {
     "name": "stdout",
     "output_type": "stream",
     "text": [
      "Reading package lists... Done\n",
      "Building dependency tree       \n",
      "Reading state information... Done\n",
      "poppler-utils is already the newest version (0.62.0-2ubuntu2.14).\n",
      "The following package was automatically installed and is no longer required:\n",
      "  libnvidia-common-460\n",
      "Use 'apt autoremove' to remove it.\n",
      "0 upgraded, 0 newly installed, 0 to remove and 5 not upgraded.\n",
      "/content/drive/MyDrive/Colab Notebooks/CPSE 4830 OCR Final Project/installation files/requirements/poppler-0.68.0/bin\n"
     ]
    }
   ],
   "source": [
    "#### path to files and dataset\n",
    "\n",
    "path = '/content/drive/MyDrive/Colab Notebooks/CPSE 4830 OCR Final Project/installation files/'\n",
    "sys.path.append(path)"
   ]
  },
  {
   "cell_type": "code",
   "execution_count": 5,
   "metadata": {
    "id": "ycY2WbanFMON"
   },
   "outputs": [],
   "source": [
    "# #### paddle ocr approach\n",
    "\n",
    "# def getPaddle(img_path):\n",
    "#   ocr_model = PaddleOCR(lang='en')\n",
    "#   %matplotlib inline\n",
    "#   result = ocr_model.ocr(img_path)\n",
    "#   # draw result\n",
    "#   result = result[0]\n",
    "#   image = Image.open(img_path).convert('RGB')\n",
    "#   boxes = [line[0] for line in result]\n",
    "#   txts = [line[1][0] for line in result]\n",
    "#   scores = [line[1][1] for line in result]\n",
    "#   font_path = os.path.join(path, 'fonts/', 'latin.ttf')\n",
    "#   print(txts)\n",
    "#   # Visualize our image and detections\n",
    "#   plt.figure(figsize=(25,18))\n",
    "#   im_show = draw_ocr(image, boxes, txts, scores, font_path=font_path)\n",
    "#   im_show = Image.fromarray(im_show)\n",
    "#   plt.imshow(im_show) \n",
    "\n",
    "# filename = imgnumber + '.jpg'\n",
    "# img_path = jpg_path + filename\n",
    "# getPaddle(img_path)"
   ]
  },
  {
   "cell_type": "code",
   "execution_count": 6,
   "metadata": {
    "id": "r_bhLCbTXl4B"
   },
   "outputs": [],
   "source": [
    "# #### paddleOCR Image extraction \n",
    "\"\"\"loading all images\"\"\"\n",
    "def loadImagesFromjpg(directory: str = 'files/jpg'):\n",
    "    print(\"loading invoices from\", directory)\n",
    "    subDirectories = os.listdir(directory)\n",
    "    images = dict()\n",
    "    for subdir in subDirectories:\n",
    "        path = f'{directory}/{subdir}'\n",
    "        if not os.path.isdir(path):\n",
    "            continue\n",
    "        files = os.listdir(path)\n",
    "        for file in files:\n",
    "            if not file.endswith('.jpg'):\n",
    "                continue\n",
    "            filename = f'{path}/{file}'\n",
    "            images[filename] = subdir\n",
    "\n",
    "    return getImgText(images)\n",
    "\n",
    "\"\"\"extracting text from images\"\"\"\n",
    "def getImgText(images):\n",
    "  \"\"\"dictionary of image text\"\"\"\n",
    "  image_text = {}\n",
    "  for image, type in images.items():\n",
    "    ocr_model = PaddleOCR(lang='en', show_log=False)\n",
    "    sentence = ''\n",
    "    result = ocr_model.ocr(image)\n",
    "    result = result[0]\n",
    "    for res in result:\n",
    "        sentence += ' ' + res[1][0] + ' '\n",
    "    image_text[image[-95:]] = sentence\n",
    "  return image_text\n",
    "\n",
    "image_text = loadImagesFromjpg(path +'files/jpg')\n",
    "image_text"
   ]
  },
  {
   "cell_type": "code",
   "execution_count": null,
   "metadata": {
    "colab": {
     "base_uri": "https://localhost:8080/",
     "height": 206
    },
    "id": "JnUoNOfXisWI",
    "outputId": "2d6820f1-11a3-4235-fa3f-403ab557a9b4"
   },
   "outputs": [
    {
     "data": {
      "application/javascript": [
       "\n",
       "        if (window._pyforest_update_imports_cell) { window._pyforest_update_imports_cell('import pandas as pd'); }\n",
       "    "
      ],
      "text/plain": [
       "<IPython.core.display.Javascript object>"
      ]
     },
     "metadata": {},
     "output_type": "display_data"
    },
    {
     "data": {
      "text/html": [
       "\n",
       "  <div id=\"df-779e5faa-f434-4bcd-bcc0-ac810768e9dd\">\n",
       "    <div class=\"colab-df-container\">\n",
       "      <div>\n",
       "<style scoped>\n",
       "    .dataframe tbody tr th:only-of-type {\n",
       "        vertical-align: middle;\n",
       "    }\n",
       "\n",
       "    .dataframe tbody tr th {\n",
       "        vertical-align: top;\n",
       "    }\n",
       "\n",
       "    .dataframe thead th {\n",
       "        text-align: right;\n",
       "    }\n",
       "</style>\n",
       "<table border=\"1\" class=\"dataframe\">\n",
       "  <thead>\n",
       "    <tr style=\"text-align: right;\">\n",
       "      <th></th>\n",
       "      <th>image_type</th>\n",
       "      <th>extracted_text</th>\n",
       "    </tr>\n",
       "  </thead>\n",
       "  <tbody>\n",
       "    <tr>\n",
       "      <th>0</th>\n",
       "      <td>drive/MyDrive/Colab Notebooks/CPSE 4830 OCR Fi...</td>\n",
       "      <td>MAHAVEERS CHEFS CHOICE  10227 KING GEORGE BLV...</td>\n",
       "    </tr>\n",
       "    <tr>\n",
       "      <th>1</th>\n",
       "      <td>drive/MyDrive/Colab Notebooks/CPSE 4830 OCR Fi...</td>\n",
       "      <td>BHARAT PARMAR SWEETS &amp;  13745 72 AVE UNIT  V3...</td>\n",
       "    </tr>\n",
       "    <tr>\n",
       "      <th>2</th>\n",
       "      <td>drive/MyDrive/Colab Notebooks/CPSE 4830 OCR Fi...</td>\n",
       "      <td>NAHM THAI BISTRO  650AVE UNT V3T  SURREY  BC ...</td>\n",
       "    </tr>\n",
       "    <tr>\n",
       "      <th>3</th>\n",
       "      <td>rive/MyDrive/Colab Notebooks/CPSE 4830 OCR Fin...</td>\n",
       "      <td>PACIFIC CABS CAR 44  3-17943 55 AVE  V3S6C4  ...</td>\n",
       "    </tr>\n",
       "    <tr>\n",
       "      <th>4</th>\n",
       "      <td>drive/MyDrive/Colab Notebooks/CPSE 4830 OCR Fi...</td>\n",
       "      <td>TOMOKAZU  1128 W BROADWAY #2 V6H1G5  VANCOUVE...</td>\n",
       "    </tr>\n",
       "  </tbody>\n",
       "</table>\n",
       "</div>\n",
       "      <button class=\"colab-df-convert\" onclick=\"convertToInteractive('df-779e5faa-f434-4bcd-bcc0-ac810768e9dd')\"\n",
       "              title=\"Convert this dataframe to an interactive table.\"\n",
       "              style=\"display:none;\">\n",
       "        \n",
       "  <svg xmlns=\"http://www.w3.org/2000/svg\" height=\"24px\"viewBox=\"0 0 24 24\"\n",
       "       width=\"24px\">\n",
       "    <path d=\"M0 0h24v24H0V0z\" fill=\"none\"/>\n",
       "    <path d=\"M18.56 5.44l.94 2.06.94-2.06 2.06-.94-2.06-.94-.94-2.06-.94 2.06-2.06.94zm-11 1L8.5 8.5l.94-2.06 2.06-.94-2.06-.94L8.5 2.5l-.94 2.06-2.06.94zm10 10l.94 2.06.94-2.06 2.06-.94-2.06-.94-.94-2.06-.94 2.06-2.06.94z\"/><path d=\"M17.41 7.96l-1.37-1.37c-.4-.4-.92-.59-1.43-.59-.52 0-1.04.2-1.43.59L10.3 9.45l-7.72 7.72c-.78.78-.78 2.05 0 2.83L4 21.41c.39.39.9.59 1.41.59.51 0 1.02-.2 1.41-.59l7.78-7.78 2.81-2.81c.8-.78.8-2.07 0-2.86zM5.41 20L4 18.59l7.72-7.72 1.47 1.35L5.41 20z\"/>\n",
       "  </svg>\n",
       "      </button>\n",
       "      \n",
       "  <style>\n",
       "    .colab-df-container {\n",
       "      display:flex;\n",
       "      flex-wrap:wrap;\n",
       "      gap: 12px;\n",
       "    }\n",
       "\n",
       "    .colab-df-convert {\n",
       "      background-color: #E8F0FE;\n",
       "      border: none;\n",
       "      border-radius: 50%;\n",
       "      cursor: pointer;\n",
       "      display: none;\n",
       "      fill: #1967D2;\n",
       "      height: 32px;\n",
       "      padding: 0 0 0 0;\n",
       "      width: 32px;\n",
       "    }\n",
       "\n",
       "    .colab-df-convert:hover {\n",
       "      background-color: #E2EBFA;\n",
       "      box-shadow: 0px 1px 2px rgba(60, 64, 67, 0.3), 0px 1px 3px 1px rgba(60, 64, 67, 0.15);\n",
       "      fill: #174EA6;\n",
       "    }\n",
       "\n",
       "    [theme=dark] .colab-df-convert {\n",
       "      background-color: #3B4455;\n",
       "      fill: #D2E3FC;\n",
       "    }\n",
       "\n",
       "    [theme=dark] .colab-df-convert:hover {\n",
       "      background-color: #434B5C;\n",
       "      box-shadow: 0px 1px 3px 1px rgba(0, 0, 0, 0.15);\n",
       "      filter: drop-shadow(0px 1px 2px rgba(0, 0, 0, 0.3));\n",
       "      fill: #FFFFFF;\n",
       "    }\n",
       "  </style>\n",
       "\n",
       "      <script>\n",
       "        const buttonEl =\n",
       "          document.querySelector('#df-779e5faa-f434-4bcd-bcc0-ac810768e9dd button.colab-df-convert');\n",
       "        buttonEl.style.display =\n",
       "          google.colab.kernel.accessAllowed ? 'block' : 'none';\n",
       "\n",
       "        async function convertToInteractive(key) {\n",
       "          const element = document.querySelector('#df-779e5faa-f434-4bcd-bcc0-ac810768e9dd');\n",
       "          const dataTable =\n",
       "            await google.colab.kernel.invokeFunction('convertToInteractive',\n",
       "                                                     [key], {});\n",
       "          if (!dataTable) return;\n",
       "\n",
       "          const docLinkHtml = 'Like what you see? Visit the ' +\n",
       "            '<a target=\"_blank\" href=https://colab.research.google.com/notebooks/data_table.ipynb>data table notebook</a>'\n",
       "            + ' to learn more about interactive tables.';\n",
       "          element.innerHTML = '';\n",
       "          dataTable['output_type'] = 'display_data';\n",
       "          await google.colab.output.renderOutput(dataTable, element);\n",
       "          const docLink = document.createElement('div');\n",
       "          docLink.innerHTML = docLinkHtml;\n",
       "          element.appendChild(docLink);\n",
       "        }\n",
       "      </script>\n",
       "    </div>\n",
       "  </div>\n",
       "  "
      ],
      "text/plain": [
       "                                          image_type  \\\n",
       "0  drive/MyDrive/Colab Notebooks/CPSE 4830 OCR Fi...   \n",
       "1  drive/MyDrive/Colab Notebooks/CPSE 4830 OCR Fi...   \n",
       "2  drive/MyDrive/Colab Notebooks/CPSE 4830 OCR Fi...   \n",
       "3  rive/MyDrive/Colab Notebooks/CPSE 4830 OCR Fin...   \n",
       "4  drive/MyDrive/Colab Notebooks/CPSE 4830 OCR Fi...   \n",
       "\n",
       "                                      extracted_text  \n",
       "0   MAHAVEERS CHEFS CHOICE  10227 KING GEORGE BLV...  \n",
       "1   BHARAT PARMAR SWEETS &  13745 72 AVE UNIT  V3...  \n",
       "2   NAHM THAI BISTRO  650AVE UNT V3T  SURREY  BC ...  \n",
       "3   PACIFIC CABS CAR 44  3-17943 55 AVE  V3S6C4  ...  \n",
       "4   TOMOKAZU  1128 W BROADWAY #2 V6H1G5  VANCOUVE...  "
      ]
     },
     "execution_count": 18,
     "metadata": {},
     "output_type": "execute_result"
    }
   ],
   "source": [
    "#### creating dataframe from extracted text dictionary\n",
    "image_text_df = pd.DataFrame.from_dict(image_text,orient='index').reset_index()\n",
    "image_text_df.rename(columns = {'index':'image_type',0:'extracted_text'},inplace = True)\n",
    "image_text_df.head()"
   ]
  },
  {
   "cell_type": "markdown",
   "metadata": {
    "id": "JeRsFe8gihWH"
   },
   "source": [
    "extract csv to work locally"
   ]
  },
  {
   "cell_type": "code",
   "execution_count": null,
   "metadata": {
    "id": "S_3rTmbxg2aO"
   },
   "outputs": [],
   "source": [
    "#### train test split\n",
    "random.seed(234)\n",
    "# Shuffle your dataset \n",
    "shuffle_df = image_text_df.sample(frac=1)\n",
    "# Define a size for your train set \n",
    "train_size = int(0.7 * len(image_text_df))\n",
    "# Split your dataset \n",
    "train_set = shuffle_df[:train_size]\n",
    "test_set = shuffle_df[train_size:]"
   ]
  },
  {
   "cell_type": "code",
   "execution_count": null,
   "metadata": {
    "id": "fhqXbYpPqMbV"
   },
   "outputs": [],
   "source": [
    "#### saving dataframe for local runtime\n",
    "train_set.to_csv('/content/drive/MyDrive/Colab Notebooks/CPSE 4830 OCR Final Project/installation files/files/derived dataframes/train_df.csv')\n",
    "test_set.to_csv('/content/drive/MyDrive/Colab Notebooks/CPSE 4830 OCR Final Project/installation files/files/derived dataframes/test_df.csv')"
   ]
  }
 ],
 "metadata": {
  "accelerator": "GPU",
  "colab": {
   "collapsed_sections": [],
   "provenance": []
  },
  "kernelspec": {
   "display_name": "Python 3 (ipykernel)",
   "language": "python",
   "name": "python3"
  },
  "language_info": {
   "codemirror_mode": {
    "name": "ipython",
    "version": 3
   },
   "file_extension": ".py",
   "mimetype": "text/x-python",
   "name": "python",
   "nbconvert_exporter": "python",
   "pygments_lexer": "ipython3",
   "version": "3.10.6"
  }
 },
 "nbformat": 4,
 "nbformat_minor": 1
}
