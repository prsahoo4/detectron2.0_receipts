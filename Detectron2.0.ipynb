{
 "cells": [
  {
   "cell_type": "code",
   "execution_count": 4,
   "id": "68eed044",
   "metadata": {},
   "outputs": [
    {
     "name": "stdout",
     "output_type": "stream",
     "text": [
      "Collecting git+https://github.com/facebookresearch/detectron2.git\n",
      "  Cloning https://github.com/facebookresearch/detectron2.git to /private/var/folders/c7/mj5j7pjj74s0m10__w_qqlbc0000gn/T/pip-req-build-lrpaagx9\n",
      "  Running command git clone --filter=blob:none --quiet https://github.com/facebookresearch/detectron2.git /private/var/folders/c7/mj5j7pjj74s0m10__w_qqlbc0000gn/T/pip-req-build-lrpaagx9\n",
      "  Resolved https://github.com/facebookresearch/detectron2.git to commit 115dc5c8bfd434f9a3f5070147d863d9419cfb7e\n",
      "  Preparing metadata (setup.py) ... \u001b[?25ldone\n",
      "\u001b[?25hRequirement already satisfied: Pillow>=7.1 in /Users/pritiranjansahoo/miniforge3/envs/legion3.0/lib/python3.10/site-packages (from detectron2==0.6) (9.2.0)\n",
      "Requirement already satisfied: matplotlib in /Users/pritiranjansahoo/miniforge3/envs/legion3.0/lib/python3.10/site-packages (from detectron2==0.6) (3.6.1)\n",
      "Collecting pycocotools>=2.0.2\n",
      "  Downloading pycocotools-2.0.6.tar.gz (24 kB)\n",
      "  Installing build dependencies ... \u001b[?25ldone\n",
      "\u001b[?25h  Getting requirements to build wheel ... \u001b[?25ldone\n",
      "\u001b[?25h  Preparing metadata (pyproject.toml) ... \u001b[?25ldone\n",
      "\u001b[?25hRequirement already satisfied: termcolor>=1.1 in /Users/pritiranjansahoo/miniforge3/envs/legion3.0/lib/python3.10/site-packages (from detectron2==0.6) (2.0.1)\n",
      "Collecting yacs>=0.1.8\n",
      "  Downloading yacs-0.1.8-py3-none-any.whl (14 kB)\n",
      "Requirement already satisfied: tabulate in /Users/pritiranjansahoo/miniforge3/envs/legion3.0/lib/python3.10/site-packages (from detectron2==0.6) (0.9.0)\n",
      "Requirement already satisfied: cloudpickle in /Users/pritiranjansahoo/miniforge3/envs/legion3.0/lib/python3.10/site-packages (from detectron2==0.6) (2.2.0)\n",
      "Requirement already satisfied: tqdm>4.29.0 in /Users/pritiranjansahoo/miniforge3/envs/legion3.0/lib/python3.10/site-packages (from detectron2==0.6) (4.64.1)\n",
      "Requirement already satisfied: tensorboard in /Users/pritiranjansahoo/miniforge3/envs/legion3.0/lib/python3.10/site-packages (from detectron2==0.6) (2.10.1)\n",
      "Collecting fvcore<0.1.6,>=0.1.5\n",
      "  Downloading fvcore-0.1.5.post20221122.tar.gz (50 kB)\n",
      "\u001b[2K     \u001b[90m━━━━━━━━━━━━━━━━━━━━━━━━━━━━━━━━━━━━━━━━\u001b[0m \u001b[32m50.2/50.2 kB\u001b[0m \u001b[31m4.3 MB/s\u001b[0m eta \u001b[36m0:00:00\u001b[0m\n",
      "\u001b[?25h  Preparing metadata (setup.py) ... \u001b[?25ldone\n",
      "\u001b[?25hCollecting iopath<0.1.10,>=0.1.7\n",
      "  Downloading iopath-0.1.9-py3-none-any.whl (27 kB)\n",
      "Collecting omegaconf>=2.1\n",
      "  Downloading omegaconf-2.3.0-py3-none-any.whl (79 kB)\n",
      "\u001b[2K     \u001b[90m━━━━━━━━━━━━━━━━━━━━━━━━━━━━━━━━━━━━━━━━\u001b[0m \u001b[32m79.5/79.5 kB\u001b[0m \u001b[31m7.9 MB/s\u001b[0m eta \u001b[36m0:00:00\u001b[0m\n",
      "\u001b[?25hCollecting hydra-core>=1.1\n",
      "  Downloading hydra_core-1.3.0-py3-none-any.whl (153 kB)\n",
      "\u001b[2K     \u001b[90m━━━━━━━━━━━━━━━━━━━━━━━━━━━━━━━━━━━━━━\u001b[0m \u001b[32m153.8/153.8 kB\u001b[0m \u001b[31m13.6 MB/s\u001b[0m eta \u001b[36m0:00:00\u001b[0m\n",
      "\u001b[?25hRequirement already satisfied: black in /Users/pritiranjansahoo/miniforge3/envs/legion3.0/lib/python3.10/site-packages (from detectron2==0.6) (22.10.0)\n",
      "Collecting timm\n",
      "  Downloading timm-0.6.12-py3-none-any.whl (549 kB)\n",
      "\u001b[2K     \u001b[90m━━━━━━━━━━━━━━━━━━━━━━━━━━━━━━━━━━━━━━\u001b[0m \u001b[32m549.1/549.1 kB\u001b[0m \u001b[31m19.8 MB/s\u001b[0m eta \u001b[36m0:00:00\u001b[0m\n",
      "\u001b[?25hRequirement already satisfied: packaging in /Users/pritiranjansahoo/miniforge3/envs/legion3.0/lib/python3.10/site-packages (from detectron2==0.6) (20.9)\n",
      "Requirement already satisfied: numpy in /Users/pritiranjansahoo/miniforge3/envs/legion3.0/lib/python3.10/site-packages (from fvcore<0.1.6,>=0.1.5->detectron2==0.6) (1.23.5)\n",
      "Requirement already satisfied: pyyaml>=5.1 in /Users/pritiranjansahoo/miniforge3/envs/legion3.0/lib/python3.10/site-packages (from fvcore<0.1.6,>=0.1.5->detectron2==0.6) (6.0)\n",
      "Collecting antlr4-python3-runtime==4.9.*\n",
      "  Downloading antlr4-python3-runtime-4.9.3.tar.gz (117 kB)\n",
      "\u001b[2K     \u001b[90m━━━━━━━━━━━━━━━━━━━━━━━━━━━━━━━━━━━━━━\u001b[0m \u001b[32m117.0/117.0 kB\u001b[0m \u001b[31m12.0 MB/s\u001b[0m eta \u001b[36m0:00:00\u001b[0m\n",
      "\u001b[?25h  Preparing metadata (setup.py) ... \u001b[?25ldone\n",
      "\u001b[?25hRequirement already satisfied: portalocker in /Users/pritiranjansahoo/miniforge3/envs/legion3.0/lib/python3.10/site-packages (from iopath<0.1.10,>=0.1.7->detectron2==0.6) (2.6.0)\n",
      "Requirement already satisfied: fonttools>=4.22.0 in /Users/pritiranjansahoo/miniforge3/envs/legion3.0/lib/python3.10/site-packages (from matplotlib->detectron2==0.6) (4.37.4)\n",
      "Requirement already satisfied: cycler>=0.10 in /Users/pritiranjansahoo/miniforge3/envs/legion3.0/lib/python3.10/site-packages (from matplotlib->detectron2==0.6) (0.11.0)\n",
      "Requirement already satisfied: kiwisolver>=1.0.1 in /Users/pritiranjansahoo/miniforge3/envs/legion3.0/lib/python3.10/site-packages (from matplotlib->detectron2==0.6) (1.4.4)\n",
      "Requirement already satisfied: contourpy>=1.0.1 in /Users/pritiranjansahoo/miniforge3/envs/legion3.0/lib/python3.10/site-packages (from matplotlib->detectron2==0.6) (1.0.5)\n",
      "Requirement already satisfied: pyparsing>=2.2.1 in /Users/pritiranjansahoo/miniforge3/envs/legion3.0/lib/python3.10/site-packages (from matplotlib->detectron2==0.6) (3.0.9)\n",
      "Requirement already satisfied: python-dateutil>=2.7 in /Users/pritiranjansahoo/miniforge3/envs/legion3.0/lib/python3.10/site-packages (from matplotlib->detectron2==0.6) (2.8.2)\n",
      "Requirement already satisfied: click>=8.0.0 in /Users/pritiranjansahoo/miniforge3/envs/legion3.0/lib/python3.10/site-packages (from black->detectron2==0.6) (8.1.3)\n",
      "Requirement already satisfied: platformdirs>=2 in /Users/pritiranjansahoo/miniforge3/envs/legion3.0/lib/python3.10/site-packages (from black->detectron2==0.6) (2.5.4)\n",
      "Requirement already satisfied: tomli>=1.1.0 in /Users/pritiranjansahoo/miniforge3/envs/legion3.0/lib/python3.10/site-packages (from black->detectron2==0.6) (2.0.1)\n",
      "Requirement already satisfied: mypy-extensions>=0.4.3 in /Users/pritiranjansahoo/miniforge3/envs/legion3.0/lib/python3.10/site-packages (from black->detectron2==0.6) (0.4.3)\n",
      "Requirement already satisfied: pathspec>=0.9.0 in /Users/pritiranjansahoo/miniforge3/envs/legion3.0/lib/python3.10/site-packages (from black->detectron2==0.6) (0.10.2)\n",
      "Requirement already satisfied: wheel>=0.26 in /Users/pritiranjansahoo/miniforge3/envs/legion3.0/lib/python3.10/site-packages (from tensorboard->detectron2==0.6) (0.38.4)\n",
      "Requirement already satisfied: requests<3,>=2.21.0 in /Users/pritiranjansahoo/miniforge3/envs/legion3.0/lib/python3.10/site-packages (from tensorboard->detectron2==0.6) (2.28.1)\n",
      "Requirement already satisfied: markdown>=2.6.8 in /Users/pritiranjansahoo/miniforge3/envs/legion3.0/lib/python3.10/site-packages (from tensorboard->detectron2==0.6) (3.4.1)\n",
      "Requirement already satisfied: tensorboard-plugin-wit>=1.6.0 in /Users/pritiranjansahoo/miniforge3/envs/legion3.0/lib/python3.10/site-packages (from tensorboard->detectron2==0.6) (1.8.1)\n",
      "Requirement already satisfied: protobuf<3.20,>=3.9.2 in /Users/pritiranjansahoo/miniforge3/envs/legion3.0/lib/python3.10/site-packages (from tensorboard->detectron2==0.6) (3.19.6)\n",
      "Requirement already satisfied: setuptools>=41.0.0 in /Users/pritiranjansahoo/miniforge3/envs/legion3.0/lib/python3.10/site-packages (from tensorboard->detectron2==0.6) (65.6.3)\n",
      "Requirement already satisfied: werkzeug>=1.0.1 in /Users/pritiranjansahoo/miniforge3/envs/legion3.0/lib/python3.10/site-packages (from tensorboard->detectron2==0.6) (2.2.2)\n",
      "Requirement already satisfied: google-auth<3,>=1.6.3 in /Users/pritiranjansahoo/miniforge3/envs/legion3.0/lib/python3.10/site-packages (from tensorboard->detectron2==0.6) (2.12.0)\n",
      "Requirement already satisfied: absl-py>=0.4 in /Users/pritiranjansahoo/miniforge3/envs/legion3.0/lib/python3.10/site-packages (from tensorboard->detectron2==0.6) (1.3.0)\n",
      "Requirement already satisfied: tensorboard-data-server<0.7.0,>=0.6.0 in /Users/pritiranjansahoo/miniforge3/envs/legion3.0/lib/python3.10/site-packages (from tensorboard->detectron2==0.6) (0.6.1)\n",
      "Requirement already satisfied: grpcio>=1.24.3 in /Users/pritiranjansahoo/miniforge3/envs/legion3.0/lib/python3.10/site-packages (from tensorboard->detectron2==0.6) (1.42.0)\n",
      "Requirement already satisfied: google-auth-oauthlib<0.5,>=0.4.1 in /Users/pritiranjansahoo/miniforge3/envs/legion3.0/lib/python3.10/site-packages (from tensorboard->detectron2==0.6) (0.4.6)\n",
      "Requirement already satisfied: torch>=1.7 in /Users/pritiranjansahoo/miniforge3/envs/legion3.0/lib/python3.10/site-packages (from timm->detectron2==0.6) (1.12.1)\n",
      "Requirement already satisfied: torchvision in /Users/pritiranjansahoo/miniforge3/envs/legion3.0/lib/python3.10/site-packages (from timm->detectron2==0.6) (0.14.0)\n",
      "Requirement already satisfied: huggingface-hub in /Users/pritiranjansahoo/miniforge3/envs/legion3.0/lib/python3.10/site-packages (from timm->detectron2==0.6) (0.10.1)\n",
      "Requirement already satisfied: six>=1.9.0 in /Users/pritiranjansahoo/miniforge3/envs/legion3.0/lib/python3.10/site-packages (from google-auth<3,>=1.6.3->tensorboard->detectron2==0.6) (1.16.0)\n"
     ]
    },
    {
     "name": "stdout",
     "output_type": "stream",
     "text": [
      "Requirement already satisfied: cachetools<6.0,>=2.0.0 in /Users/pritiranjansahoo/miniforge3/envs/legion3.0/lib/python3.10/site-packages (from google-auth<3,>=1.6.3->tensorboard->detectron2==0.6) (5.2.0)\n",
      "Requirement already satisfied: rsa<5,>=3.1.4 in /Users/pritiranjansahoo/miniforge3/envs/legion3.0/lib/python3.10/site-packages (from google-auth<3,>=1.6.3->tensorboard->detectron2==0.6) (4.9)\n",
      "Requirement already satisfied: pyasn1-modules>=0.2.1 in /Users/pritiranjansahoo/miniforge3/envs/legion3.0/lib/python3.10/site-packages (from google-auth<3,>=1.6.3->tensorboard->detectron2==0.6) (0.2.8)\n",
      "Requirement already satisfied: requests-oauthlib>=0.7.0 in /Users/pritiranjansahoo/miniforge3/envs/legion3.0/lib/python3.10/site-packages (from google-auth-oauthlib<0.5,>=0.4.1->tensorboard->detectron2==0.6) (1.3.1)\n",
      "Requirement already satisfied: urllib3<1.27,>=1.21.1 in /Users/pritiranjansahoo/miniforge3/envs/legion3.0/lib/python3.10/site-packages (from requests<3,>=2.21.0->tensorboard->detectron2==0.6) (1.26.12)\n",
      "Requirement already satisfied: charset-normalizer<3,>=2 in /Users/pritiranjansahoo/miniforge3/envs/legion3.0/lib/python3.10/site-packages (from requests<3,>=2.21.0->tensorboard->detectron2==0.6) (2.1.1)\n",
      "Requirement already satisfied: certifi>=2017.4.17 in /Users/pritiranjansahoo/miniforge3/envs/legion3.0/lib/python3.10/site-packages (from requests<3,>=2.21.0->tensorboard->detectron2==0.6) (2022.9.24)\n",
      "Requirement already satisfied: idna<4,>=2.5 in /Users/pritiranjansahoo/miniforge3/envs/legion3.0/lib/python3.10/site-packages (from requests<3,>=2.21.0->tensorboard->detectron2==0.6) (3.4)\n",
      "Requirement already satisfied: typing-extensions in /Users/pritiranjansahoo/miniforge3/envs/legion3.0/lib/python3.10/site-packages (from torch>=1.7->timm->detectron2==0.6) (4.4.0)\n",
      "Requirement already satisfied: MarkupSafe>=2.1.1 in /Users/pritiranjansahoo/miniforge3/envs/legion3.0/lib/python3.10/site-packages (from werkzeug>=1.0.1->tensorboard->detectron2==0.6) (2.1.1)\n",
      "Requirement already satisfied: filelock in /Users/pritiranjansahoo/miniforge3/envs/legion3.0/lib/python3.10/site-packages (from huggingface-hub->timm->detectron2==0.6) (3.8.0)\n",
      "Requirement already satisfied: pyasn1<0.5.0,>=0.4.6 in /Users/pritiranjansahoo/miniforge3/envs/legion3.0/lib/python3.10/site-packages (from pyasn1-modules>=0.2.1->google-auth<3,>=1.6.3->tensorboard->detectron2==0.6) (0.4.8)\n",
      "Requirement already satisfied: oauthlib>=3.0.0 in /Users/pritiranjansahoo/miniforge3/envs/legion3.0/lib/python3.10/site-packages (from requests-oauthlib>=0.7.0->google-auth-oauthlib<0.5,>=0.4.1->tensorboard->detectron2==0.6) (3.2.1)\n",
      "Building wheels for collected packages: detectron2, fvcore, antlr4-python3-runtime, pycocotools\n",
      "  Building wheel for detectron2 (setup.py) ... \u001b[?25ldone\n",
      "\u001b[?25h  Created wheel for detectron2: filename=detectron2-0.6-cp310-cp310-macosx_11_0_arm64.whl size=850395 sha256=916933475e98852f8091890f9985d419ffd2f794a7ea79eefe9a70eb7b5c9a62\n",
      "  Stored in directory: /private/var/folders/c7/mj5j7pjj74s0m10__w_qqlbc0000gn/T/pip-ephem-wheel-cache-v31hgw5n/wheels/47/e5/15/94c80df2ba85500c5d76599cc307c0a7079d0e221bb6fc4375\n",
      "  Building wheel for fvcore (setup.py) ... \u001b[?25ldone\n",
      "\u001b[?25h  Created wheel for fvcore: filename=fvcore-0.1.5.post20221122-py3-none-any.whl size=61458 sha256=d65f313d661ffdcb38cc5667fc70e87196974e2c706bac9f8317cee83fba423b\n",
      "  Stored in directory: /Users/pritiranjansahoo/Library/Caches/pip/wheels/ab/6e/17/e1b7e37b8381ddab1302572d133035f8962f7bbd1642c26670\n",
      "  Building wheel for antlr4-python3-runtime (setup.py) ... \u001b[?25ldone\n",
      "\u001b[?25h  Created wheel for antlr4-python3-runtime: filename=antlr4_python3_runtime-4.9.3-py3-none-any.whl size=144554 sha256=1c71ff0e2f66a93ab7534b3eea978a5cab76e2960ba9a4ee5db0c74818acd3bd\n",
      "  Stored in directory: /Users/pritiranjansahoo/Library/Caches/pip/wheels/48/6a/c2/acb58c7afdf57e4cddf5e1513f5a2d62aa8e98f82a00c76d7c\n",
      "  Building wheel for pycocotools (pyproject.toml) ... \u001b[?25ldone\n",
      "\u001b[?25h  Created wheel for pycocotools: filename=pycocotools-2.0.6-cp310-cp310-macosx_11_0_arm64.whl size=81652 sha256=80665b61eaee05ed8c604b700875810bcaa0a91c80c3ab129c2aed7159ed13e7\n",
      "  Stored in directory: /Users/pritiranjansahoo/Library/Caches/pip/wheels/89/5c/59/e3cd7600cf164a071163f9fed6550a29185d64345591f7d9fe\n",
      "Successfully built detectron2 fvcore antlr4-python3-runtime pycocotools\n",
      "Installing collected packages: antlr4-python3-runtime, yacs, omegaconf, iopath, hydra-core, fvcore, timm, pycocotools, detectron2\n",
      "  Attempting uninstall: iopath\n",
      "    Found existing installation: iopath 0.1.10\n",
      "    Uninstalling iopath-0.1.10:\n",
      "      Successfully uninstalled iopath-0.1.10\n",
      "Successfully installed antlr4-python3-runtime-4.9.3 detectron2-0.6 fvcore-0.1.5.post20221122 hydra-core-1.3.0 iopath-0.1.9 omegaconf-2.3.0 pycocotools-2.0.6 timm-0.6.12 yacs-0.1.8\n"
     ]
    }
   ],
   "source": [
    "#### Detectron2.0 install\n",
    "!python -m pip install 'git+https://github.com/facebookresearch/detectron2.git'"
   ]
  },
  {
   "cell_type": "code",
   "execution_count": 6,
   "id": "68a6c0ea",
   "metadata": {},
   "outputs": [
    {
     "name": "stderr",
     "output_type": "stream",
     "text": [
      "/Users/pritiranjansahoo/miniforge3/envs/legion3.0/lib/python3.10/site-packages/torchvision/io/image.py:13: UserWarning: Failed to load image Python extension: dlopen(/Users/pritiranjansahoo/miniforge3/envs/legion3.0/lib/python3.10/site-packages/torchvision/image.so, 0x0006): Symbol not found: __ZN2at4_ops19empty_memory_format4callEN3c108ArrayRefINS2_6SymIntEEENS2_8optionalINS2_10ScalarTypeEEENS6_INS2_6LayoutEEENS6_INS2_6DeviceEEENS6_IbEENS6_INS2_12MemoryFormatEEE\n",
      "  Referenced from: <D9493EF5-8DAB-3A5D-85D5-684F04544B84> /Users/pritiranjansahoo/miniforge3/envs/legion3.0/lib/python3.10/site-packages/torchvision/image.so\n",
      "  Expected in:     <BB02660F-1D5B-3388-B48B-486877D726F6> /Users/pritiranjansahoo/miniforge3/envs/legion3.0/lib/python3.10/site-packages/torch/lib/libtorch_cpu.dylib\n",
      "  warn(f\"Failed to load image Python extension: {e}\")\n"
     ]
    }
   ],
   "source": [
    "#### Libraries\n",
    "import detectron2\n",
    "from detectron2.utils.logger import setup_logger\n",
    "setup_logger()\n",
    "\n",
    "# import some common libraries\n",
    "import numpy as np\n",
    "import cv2\n",
    "import random\n",
    "#from google.colab.patches import cv2_imshow\n",
    "\n",
    "# import some common detectron2 utilities\n",
    "from detectron2 import model_zoo\n",
    "from detectron2.engine import DefaultPredictor\n",
    "from detectron2.config import get_cfg\n",
    "from detectron2.utils.visualizer import Visualizer\n",
    "from detectron2.data import MetadataCatalog\n",
    "from detectron2.data.catalog import DatasetCatalog"
   ]
  },
  {
   "cell_type": "code",
   "execution_count": 93,
   "id": "8e8167ea",
   "metadata": {},
   "outputs": [
    {
     "data": {
      "application/javascript": [
       "\n",
       "        if (window._pyforest_update_imports_cell) { window._pyforest_update_imports_cell('import os\\nimport sys'); }\n",
       "    "
      ],
      "text/plain": [
       "<IPython.core.display.Javascript object>"
      ]
     },
     "metadata": {},
     "output_type": "display_data"
    }
   ],
   "source": [
    "#### trimming images\n",
    "path = '../documentations and prior code/Team project/files/jpg/all/'\n",
    "output_path = '../documentations and prior code/Team project/files/jpg/preprocessed_images/'\n",
    "sys.path.append(path)\n",
    "\n",
    "import cv2\n",
    "import numpy as np\n",
    "from PIL import Image\n",
    "import imutils\n",
    "from imutils.perspective import four_point_transform\n",
    "import argparse\n",
    "import re\n",
    "\n",
    "def processImage(img_path,filename, show=0):\n",
    "    # Read image with opencv\n",
    "    img = cv2.imread(img_path)\n",
    "    img, arraytoPrint = croppingImage(img)\n",
    "    cv2.imwrite(output_path+filename, img)\n",
    "    if show==1:\n",
    "        cv2.imshow(\"image\",img)\n",
    "        cv2.waitKey(0)\n",
    "    #return img\n",
    "\n",
    "def croppingImage(img):\n",
    "    arraytoPrint = []\n",
    "    orig = img\n",
    "    image = orig.copy()\n",
    "    input_width = int(image.shape[1]/2)\n",
    "    input_height = int(image.shape[0]/2)\n",
    "    image = cv2.resize(image, (input_width, input_height))\n",
    "    orig_image = image.copy()\n",
    "    ratio = orig.shape[1] / float(image.shape[1])\n",
    "\n",
    "    # convert the image to grayscale, blur it, and apply edge detection\n",
    "    # to reveal the outline\n",
    "    gray = cv2.cvtColor(image, cv2.COLOR_BGR2GRAY)\n",
    "    blurred = cv2.GaussianBlur(gray, (5, 5), 1)\n",
    "\n",
    "    # Detect white regions\n",
    "    rectKernel = cv2.getStructuringElement(cv2.MORPH_RECT, (50, 100))\n",
    "    dilated = cv2.dilate(blurred, rectKernel)\n",
    "    \n",
    "    #edge\n",
    "    edged = cv2.Canny(blurred, 30, 150)\n",
    "\n",
    "    for i in range(input_height):\n",
    "        if (i != 0) & (i != input_height-1):\n",
    "            edged[i,0] = 255\n",
    "            edged[i,input_width-1] = 255\n",
    "        if (i == 0) | (i == input_height-1):\n",
    "            edged[i,] = np.repeat(255, input_width)\n",
    "\n",
    "    # detect contours in the edge map, sort them by size (in descending\n",
    "    # order), and grab the largest contours\n",
    "    cnts = cv2.findContours(edged.copy(), cv2.RETR_LIST, cv2.CHAIN_APPROX_SIMPLE)\n",
    "    cnts = imutils.grab_contours(cnts)\n",
    "    cnts = sorted(cnts, key=cv2.contourArea, reverse=True)\n",
    "    \n",
    "    # initialize a contour\n",
    "    imageCnt = None\n",
    "\n",
    "    # loop over the contours\n",
    "    for c in cnts:\n",
    "        peri = cv2.arcLength(c, True)# approximate the contour\n",
    "        approx = cv2.approxPolyDP(c, 0.05* peri, True)\n",
    " \n",
    "        # Evaluating area of approx\n",
    "        a_list = []\n",
    "        b_list = []\n",
    "        for i in approx:\n",
    "            a = i[0][0]\n",
    "            b = i[0][1]\n",
    "            a_list.append(a) \n",
    "            b_list.append(b)\n",
    "        area = (max(a_list) - min(a_list)) * (max(b_list) - min(b_list))\n",
    "        if (len(approx) == 4) & (area < 0.99*(input_height-1)*(input_width-1)):\n",
    "            if area >= 10000: \n",
    "                imageCnt = approx\n",
    "                break\n",
    "            if area < 10000:\n",
    "                imageCnt = np.array([[[input_width-1, 0]], [[0, 0]], [[0, input_height-1]],\n",
    "                                     [[input_width-1, input_height-1]]], dtype = 'int32')\n",
    "\n",
    "    output = image.copy()\n",
    "    cv2.drawContours(output, [imageCnt], -1, (0, 255, 0), 2)\n",
    "    output = cv2.resize(output, None, fx=0.3,fy=0.3)\n",
    "    arraytoPrint.append(['Outline/Borders',output])\n",
    "\n",
    "    cropped = four_point_transform(image, imageCnt.reshape(4, 2))\n",
    "    # show transformed image\n",
    "    output = cv2.resize(cropped, None, fx=0.3,fy=0.3)\n",
    "\n",
    "    arraytoPrint.append(['Cropped',output])\n",
    "    #1 showimage(\"cropped\", output)\n",
    "    #  cv2.waitKey(0)\n",
    "    return cropped, arraytoPrint"
   ]
  },
  {
   "cell_type": "code",
   "execution_count": 94,
   "id": "cc85b63f",
   "metadata": {},
   "outputs": [
    {
     "name": "stdout",
     "output_type": "stream",
     "text": [
      "--- Start processing the image ---\n",
      "loading invoices from ../documentations and prior code/Team project/files/jpg/all/\n"
     ]
    },
    {
     "data": {
      "application/javascript": [
       "\n",
       "        if (window._pyforest_update_imports_cell) { window._pyforest_update_imports_cell('import os\\nimport sys'); }\n",
       "    "
      ],
      "text/plain": [
       "<IPython.core.display.Javascript object>"
      ]
     },
     "metadata": {},
     "output_type": "display_data"
    },
    {
     "name": "stderr",
     "output_type": "stream",
     "text": [
      "Corrupt JPEG data: 7089 extraneous bytes before marker 0xd0\n"
     ]
    },
    {
     "data": {
      "text/plain": [
       "True"
      ]
     },
     "execution_count": 94,
     "metadata": {},
     "output_type": "execute_result"
    }
   ],
   "source": [
    "#### preprocessing\n",
    "\n",
    "print ('--- Start processing the image ---')\n",
    "jpg_path = path\n",
    "\n",
    "\"\"\"loading all images\"\"\"\n",
    "def loadImagesFromjpg(directory):\n",
    "    print(\"loading invoices from\", directory)\n",
    "    files = os.listdir(directory)\n",
    "    for file in files:\n",
    "        if not file.endswith('.jpg'):\n",
    "            continue\n",
    "        filename = f'{file}'\n",
    "        processImage(directory + filename,filename,0 )\n",
    "    return True\n",
    "\n",
    "loadImagesFromjpg(jpg_path)"
   ]
  },
  {
   "cell_type": "code",
   "execution_count": 98,
   "id": "4cf3fed4",
   "metadata": {},
   "outputs": [
    {
     "name": "stdout",
     "output_type": "stream",
     "text": [
      "tensor([[[ 0.7647,  1.5733],\n",
      "         [-0.9110, -0.6892],\n",
      "         [ 0.6521, -1.0874],\n",
      "         [-0.8866,  0.6378],\n",
      "         [ 0.2679, -0.9309]],\n",
      "\n",
      "        [[-0.3121, -0.5707],\n",
      "         [-0.7031,  0.0121],\n",
      "         [ 0.7592,  0.7969],\n",
      "         [ 0.2684,  0.2374],\n",
      "         [-0.2452,  0.6432]],\n",
      "\n",
      "        [[ 0.0248,  0.0024],\n",
      "         [-0.8785,  1.5179],\n",
      "         [-1.5664,  1.0685],\n",
      "         [-0.2634, -0.2735],\n",
      "         [ 0.5853, -0.4334]]])\n",
      "[[0, 0, 1, 1, 2, 2, 3, 3, 4, 4], [0, 0, 1, 1, 2, 2, 3, 3, 4, 4], [0, 0, 1, 1, 2, 2, 3, 3, 4, 4]]\n"
     ]
    }
   ],
   "source": [
    "import torch\n",
    "\n",
    "# Define a matrix of tensors\n",
    "target_matrix = torch.randn(3, 5, 2)\n",
    "print(target_matrix)\n",
    "# Use torch.where to compute the element-wise maximum\n",
    "results = [torch.where(t)[0].tolist() for t in target_matrix]\n",
    "\n",
    "# Print the results\n",
    "print(results)"
   ]
  },
  {
   "cell_type": "code",
   "execution_count": 101,
   "id": "a5cd306c",
   "metadata": {},
   "outputs": [
    {
     "name": "stdout",
     "output_type": "stream",
     "text": [
      "(tensor([0, 0, 1, 1, 2, 2, 3, 3, 4, 4]), tensor([0, 1, 0, 1, 0, 1, 0, 1, 0, 1]))\n",
      "(tensor([0, 0, 1, 1, 2, 2, 3, 3, 4, 4]), tensor([0, 1, 0, 1, 0, 1, 0, 1, 0, 1]))\n",
      "(tensor([0, 0, 1, 1, 2, 2, 3, 3, 4, 4]), tensor([0, 1, 0, 1, 0, 1, 0, 1, 0, 1]))\n"
     ]
    }
   ],
   "source": [
    "for t in target_matrix:\n",
    "    print(torch.where(t))"
   ]
  }
 ],
 "metadata": {
  "kernelspec": {
   "display_name": "Python 3 (ipykernel)",
   "language": "python",
   "name": "python3"
  },
  "language_info": {
   "codemirror_mode": {
    "name": "ipython",
    "version": 3
   },
   "file_extension": ".py",
   "mimetype": "text/x-python",
   "name": "python",
   "nbconvert_exporter": "python",
   "pygments_lexer": "ipython3",
   "version": "3.10.8"
  }
 },
 "nbformat": 4,
 "nbformat_minor": 5
}
