{
 "cells": [
  {
   "cell_type": "code",
   "execution_count": 1,
   "id": "5f6f5f86",
   "metadata": {},
   "outputs": [],
   "source": [
    "#### installing necessary libraries\n",
    "# ! python3 -m spacy download en_core_web_lg\n",
    "# ! python3 -m pip install paddlepaddle\n",
    "# ! pip3 install paddleocr\n",
    "# ! pip3 install borb==2.0.27\n",
    "# ! pip3 install pytesseract\n",
    "# ! pip3 install ftfy\n",
    "# ! pip3 install tesseract\n",
    "# ! sudo apt install tesseract-ocr\n",
    "# ! pip install keras-ocr\n",
    "# ! python3 -m pip install spacy\n",
    "# ! pip install nltk\n",
    "# ! pip install pyforest\n",
    "# ! python -m spacy train config.cfg --output ./models --paths.train ./train.spacy --paths.dev ./dev.spacy\n",
    "# ! pip install datefinder\n",
    "# ! pip install pillow\n",
    "# ! pip install lexnlp"
   ]
  },
  {
   "cell_type": "code",
   "execution_count": 2,
   "id": "c20561e4",
   "metadata": {},
   "outputs": [],
   "source": [
    "#### Necessary Imports\n",
    "\n",
    "import argparse\n",
    "import re\n",
    "import string\n",
    "import sys\n",
    "import warnings\n",
    "from urllib.parse import urlparse\n",
    "import cv2\n",
    "import datefinder\n",
    "import imutils\n",
    "import numpy as np\n",
    "import pytesseract\n",
    "from imutils.perspective import four_point_transform\n",
    "from matplotlib import pyplot as plt\n",
    "from nltk.corpus import stopwords, wordnet\n",
    "from sklearn.feature_extraction.text import CountVectorizer\n",
    "from nltk.stem import WordNetLemmatizer\n",
    "from PIL import Image\n",
    "from pyforest import *\n",
    "warnings.filterwarnings(\"ignore\")\n",
    "%matplotlib inline\n",
    "from wordcloud import STOPWORDS, WordCloud"
   ]
  },
  {
   "cell_type": "code",
   "execution_count": 3,
   "id": "7857ca31",
   "metadata": {},
   "outputs": [
    {
     "data": {
      "application/javascript": [
       "\n",
       "        if (window._pyforest_update_imports_cell) { window._pyforest_update_imports_cell('import sys'); }\n",
       "    "
      ],
      "text/plain": [
       "<IPython.core.display.Javascript object>"
      ]
     },
     "metadata": {},
     "output_type": "display_data"
    }
   ],
   "source": [
    "#### reading dataset extracted from images\n",
    "\n",
    "path = \"../documentations and prior code/datasets_extracted/\"\n",
    "sys.path.append(path)\n",
    "train_csv = path + \"train_df.csv\"\n",
    "test_csv = path + \"test_df.csv\""
   ]
  },
  {
   "cell_type": "code",
   "execution_count": 4,
   "id": "5cd06b5b",
   "metadata": {},
   "outputs": [
    {
     "data": {
      "application/javascript": [
       "\n",
       "        if (window._pyforest_update_imports_cell) { window._pyforest_update_imports_cell('import pandas as pd\\nimport sys'); }\n",
       "    "
      ],
      "text/plain": [
       "<IPython.core.display.Javascript object>"
      ]
     },
     "metadata": {},
     "output_type": "display_data"
    },
    {
     "data": {
      "application/javascript": [
       "\n",
       "        if (window._pyforest_update_imports_cell) { window._pyforest_update_imports_cell('import pandas as pd\\nimport sys'); }\n",
       "    "
      ],
      "text/plain": [
       "<IPython.core.display.Javascript object>"
      ]
     },
     "metadata": {},
     "output_type": "display_data"
    },
    {
     "data": {
      "text/html": [
       "<div>\n",
       "<style scoped>\n",
       "    .dataframe tbody tr th:only-of-type {\n",
       "        vertical-align: middle;\n",
       "    }\n",
       "\n",
       "    .dataframe tbody tr th {\n",
       "        vertical-align: top;\n",
       "    }\n",
       "\n",
       "    .dataframe thead th {\n",
       "        text-align: right;\n",
       "    }\n",
       "</style>\n",
       "<table border=\"1\" class=\"dataframe\">\n",
       "  <thead>\n",
       "    <tr style=\"text-align: right;\">\n",
       "      <th></th>\n",
       "      <th>image_type</th>\n",
       "      <th>extracted_text</th>\n",
       "    </tr>\n",
       "  </thead>\n",
       "  <tbody>\n",
       "    <tr>\n",
       "      <th>0</th>\n",
       "      <td>Final Project/installation files/files/jpg//te...</td>\n",
       "      <td>PATSARA THAI RESTAURAN  528 CARNARVON ST V3L1...</td>\n",
       "    </tr>\n",
       "    <tr>\n",
       "      <th>1</th>\n",
       "      <td>l Project/installation files/files/jpg//testin...</td>\n",
       "      <td>VRAKBANK  ALKANZJEWELLERY LL  PURCHASE  00  0...</td>\n",
       "    </tr>\n",
       "    <tr>\n",
       "      <th>2</th>\n",
       "      <td>l Project/installation files/files/jpg//testin...</td>\n",
       "      <td>GRASS ROOTS CATEKSA  12666 T2ND AVE. CEDAR  S...</td>\n",
       "    </tr>\n",
       "    <tr>\n",
       "      <th>3</th>\n",
       "      <td>Final Project/installation files/files/jpg//te...</td>\n",
       "      <td>World Famous Chicken  World Ltd  Address:1-12...</td>\n",
       "    </tr>\n",
       "  </tbody>\n",
       "</table>\n",
       "</div>"
      ],
      "text/plain": [
       "                                          image_type  \\\n",
       "0  Final Project/installation files/files/jpg//te...   \n",
       "1  l Project/installation files/files/jpg//testin...   \n",
       "2  l Project/installation files/files/jpg//testin...   \n",
       "3  Final Project/installation files/files/jpg//te...   \n",
       "\n",
       "                                      extracted_text  \n",
       "0   PATSARA THAI RESTAURAN  528 CARNARVON ST V3L1...  \n",
       "1   VRAKBANK  ALKANZJEWELLERY LL  PURCHASE  00  0...  \n",
       "2   GRASS ROOTS CATEKSA  12666 T2ND AVE. CEDAR  S...  \n",
       "3   World Famous Chicken  World Ltd  Address:1-12...  "
      ]
     },
     "metadata": {},
     "output_type": "display_data"
    },
    {
     "data": {
      "text/html": [
       "<div>\n",
       "<style scoped>\n",
       "    .dataframe tbody tr th:only-of-type {\n",
       "        vertical-align: middle;\n",
       "    }\n",
       "\n",
       "    .dataframe tbody tr th {\n",
       "        vertical-align: top;\n",
       "    }\n",
       "\n",
       "    .dataframe thead th {\n",
       "        text-align: right;\n",
       "    }\n",
       "</style>\n",
       "<table border=\"1\" class=\"dataframe\">\n",
       "  <thead>\n",
       "    <tr style=\"text-align: right;\">\n",
       "      <th></th>\n",
       "      <th>image_type</th>\n",
       "      <th>extracted_text</th>\n",
       "    </tr>\n",
       "  </thead>\n",
       "  <tbody>\n",
       "    <tr>\n",
       "      <th>0</th>\n",
       "      <td>drive/MyDrive/Colab Notebooks/CPSE 4830 OCR Fi...</td>\n",
       "      <td>CHEF S KEBAB  6225 FRASERHWY  SURREY BC V4N O...</td>\n",
       "    </tr>\n",
       "    <tr>\n",
       "      <th>1</th>\n",
       "      <td>rive/MyDrive/Colab Notebooks/CPSE 4830 OCR Fin...</td>\n",
       "      <td>YELLOW CAB #300  1441 CLARK DR  VANCOUVER  BC...</td>\n",
       "    </tr>\n",
       "    <tr>\n",
       "      <th>2</th>\n",
       "      <td>drive/MyDrive/Colab Notebooks/CPSE 4830 OCR Fi...</td>\n",
       "      <td>Quick 60  QUESADA-BURRITOS&amp;TACOS  AcrossSurre...</td>\n",
       "    </tr>\n",
       "    <tr>\n",
       "      <th>3</th>\n",
       "      <td>e/MyDrive/Colab Notebooks/CPSE 4830 OCR Final ...</td>\n",
       "      <td>800 Carnavon Street, Unit 230  New Westminste...</td>\n",
       "    </tr>\n",
       "    <tr>\n",
       "      <th>4</th>\n",
       "      <td>drive/MyDrive/Colab Notebooks/CPSE 4830 OCR Fi...</td>\n",
       "      <td>Shawarna Palace  115-7218 King George Blvd  S...</td>\n",
       "    </tr>\n",
       "    <tr>\n",
       "      <th>5</th>\n",
       "      <td>drive/MyDrive/Colab Notebooks/CPSE 4830 OCR Fi...</td>\n",
       "      <td>SHAWARMA PALACE  7218 KING GEORGE BLVD  SUITE...</td>\n",
       "    </tr>\n",
       "    <tr>\n",
       "      <th>6</th>\n",
       "      <td>ive/MyDrive/Colab Notebooks/CPSE 4830 OCR Fina...</td>\n",
       "      <td>Quick 68  CHRONIC  TACOS  ServerSharandeep  P...</td>\n",
       "    </tr>\n",
       "    <tr>\n",
       "      <th>7</th>\n",
       "      <td>drive/MyDrive/Colab Notebooks/CPSE 4830 OCR Fi...</td>\n",
       "      <td>Canada Computers  5068-B Kingsway  Burnaby,BC...</td>\n",
       "    </tr>\n",
       "    <tr>\n",
       "      <th>8</th>\n",
       "      <td>ve/MyDrive/Colab Notebooks/CPSE 4830 OCR Final...</td>\n",
       "      <td>** Pick-up **  Take-Out  02/01/2020 11:05 AM ...</td>\n",
       "    </tr>\n",
       "    <tr>\n",
       "      <th>9</th>\n",
       "      <td>rive/MyDrive/Colab Notebooks/CPSE 4830 OCR Fin...</td>\n",
       "      <td>GULBERG TANDOOR &amp; DONAIR  119-12578 72ND AVEN...</td>\n",
       "    </tr>\n",
       "    <tr>\n",
       "      <th>10</th>\n",
       "      <td>drive/MyDrive/Colab Notebooks/CPSE 4830 OCR Fi...</td>\n",
       "      <td>MANCHUWCK  480Kingsway34  Eunaby BCV5H4P  604...</td>\n",
       "    </tr>\n",
       "    <tr>\n",
       "      <th>11</th>\n",
       "      <td>drive/MyDrive/Colab Notebooks/CPSE 4830 OCR Fi...</td>\n",
       "      <td>DONAIR DUDE  NEW WESTMINSTER  #230-800 CARNAR...</td>\n",
       "    </tr>\n",
       "    <tr>\n",
       "      <th>12</th>\n",
       "      <td>drive/MyDrive/Colab Notebooks/CPSE 4830 OCR Fi...</td>\n",
       "      <td>Store #5621  Church's Chicken  15318 Fraser H...</td>\n",
       "    </tr>\n",
       "    <tr>\n",
       "      <th>13</th>\n",
       "      <td>/drive/MyDrive/Colab Notebooks/CPSE 4830 OCR F...</td>\n",
       "      <td>SARAVANAA BHAVAN  8701 120 ST  DELTA  BC  CAR...</td>\n",
       "    </tr>\n",
       "    <tr>\n",
       "      <th>14</th>\n",
       "      <td>drive/MyDrive/Colab Notebooks/CPSE 4830 OCR Fi...</td>\n",
       "      <td>Scott R  Tandoori Flame  11970 88th Ave  Deit...</td>\n",
       "    </tr>\n",
       "    <tr>\n",
       "      <th>15</th>\n",
       "      <td>/drive/MyDrive/Colab Notebooks/CPSE 4830 OCR F...</td>\n",
       "      <td>Web Pickup 98  Freshslice Pizza  King George ...</td>\n",
       "    </tr>\n",
       "    <tr>\n",
       "      <th>16</th>\n",
       "      <td>drive/MyDrive/Colab Notebooks/CPSE 4830 OCR Fi...</td>\n",
       "      <td>Dine-In gs  Charleya Grilled Subs Central Cit...</td>\n",
       "    </tr>\n",
       "    <tr>\n",
       "      <th>17</th>\n",
       "      <td>e/MyDrive/Colab Notebooks/CPSE 4830 OCR Final ...</td>\n",
       "      <td>Quick 08  InvoiceHeader  Server:Kai  Printed ...</td>\n",
       "    </tr>\n",
       "    <tr>\n",
       "      <th>18</th>\n",
       "      <td>drive/MyDrive/Colab Notebooks/CPSE 4830 OCR Fi...</td>\n",
       "      <td>TOMOKAZU  1128 W BROADWAY #2 V6H1G5  VANCOUVE...</td>\n",
       "    </tr>\n",
       "    <tr>\n",
       "      <th>19</th>\n",
       "      <td>drive/MyDrive/Colab Notebooks/CPSE 4830 OCR Fi...</td>\n",
       "      <td>FRESHSLICE PIZZA  9908 KING GEORGE BLVD  SUIT...</td>\n",
       "    </tr>\n",
       "    <tr>\n",
       "      <th>20</th>\n",
       "      <td>rive/MyDrive/Colab Notebooks/CPSE 4830 OCR Fin...</td>\n",
       "      <td>SHAWARMA PALACE  7218 KING GEORGE BLVD  SUITE...</td>\n",
       "    </tr>\n",
       "    <tr>\n",
       "      <th>21</th>\n",
       "      <td>ve/MyDrive/Colab Notebooks/CPSE 4830 OCR Final...</td>\n",
       "      <td>** Pick-up **  Take-Out  02/17/202006:22 PM  ...</td>\n",
       "    </tr>\n",
       "    <tr>\n",
       "      <th>22</th>\n",
       "      <td>rive/MyDrive/Colab Notebooks/CPSE 4830 OCR Fin...</td>\n",
       "      <td>*x PURCHASE xx  Panda Express #2226  Bellingh...</td>\n",
       "    </tr>\n",
       "    <tr>\n",
       "      <th>23</th>\n",
       "      <td>drive/MyDrive/Colab Notebooks/CPSE 4830 OCR Fi...</td>\n",
       "      <td>SAL Y LIMON  UNIT5, 701KINGSWAY &amp;FRASER  VANC...</td>\n",
       "    </tr>\n",
       "    <tr>\n",
       "      <th>24</th>\n",
       "      <td>rive/MyDrive/Colab Notebooks/CPSE 4830 OCR Fin...</td>\n",
       "      <td>TRANSACTIONRECORD  PARDESI SWEETS&amp;RESTAURANT ...</td>\n",
       "    </tr>\n",
       "    <tr>\n",
       "      <th>25</th>\n",
       "      <td>drive/MyDrive/Colab Notebooks/CPSE 4830 OCR Fi...</td>\n",
       "      <td>Dine In 21  Freshslice Pizza  King George Sky...</td>\n",
       "    </tr>\n",
       "    <tr>\n",
       "      <th>26</th>\n",
       "      <td>drive/MyDrive/Colab Notebooks/CPSE 4830 OCR Fi...</td>\n",
       "      <td>MR. SHAWRMA  11960 HAMMERSMITH WAY  UNI  RICH...</td>\n",
       "    </tr>\n",
       "    <tr>\n",
       "      <th>27</th>\n",
       "      <td>drive/MyDrive/Colab Notebooks/CPSE 4830 OCR Fi...</td>\n",
       "      <td>NANRVEERS CHEFS CHUICE  10227 KING GEORGE BLV...</td>\n",
       "    </tr>\n",
       "    <tr>\n",
       "      <th>28</th>\n",
       "      <td>rive/MyDrive/Colab Notebooks/CPSE 4830 OCR Fin...</td>\n",
       "      <td>BHARAT PARMAR SWEETS &amp;  13745 72AVE UNIT  V3W...</td>\n",
       "    </tr>\n",
       "    <tr>\n",
       "      <th>29</th>\n",
       "      <td>drive/MyDrive/Colab Notebooks/CPSE 4830 OCR Fi...</td>\n",
       "      <td>MAINKABABHUT  219 F.49TH VANC  604 322-8715  ...</td>\n",
       "    </tr>\n",
       "    <tr>\n",
       "      <th>30</th>\n",
       "      <td>drive/MyDrive/Colab Notebooks/CPSE 4830 OCR Fi...</td>\n",
       "      <td>Store #  #5621  Church's Chicken  15318 Frase...</td>\n",
       "    </tr>\n",
       "    <tr>\n",
       "      <th>31</th>\n",
       "      <td>drive/MyDrive/Colab Notebooks/CPSE 4830 OCR Fi...</td>\n",
       "      <td>Store #5621  Church's Chicken  15318 Fraser H...</td>\n",
       "    </tr>\n",
       "    <tr>\n",
       "      <th>32</th>\n",
       "      <td>/MyDrive/Colab Notebooks/CPSE 4830 OCR Final P...</td>\n",
       "      <td>CK ACKNOWLEDGES RECEIPT  OODS ANDYOR SERVICES...</td>\n",
       "    </tr>\n",
       "    <tr>\n",
       "      <th>33</th>\n",
       "      <td>drive/MyDrive/Colab Notebooks/CPSE 4830 OCR Fi...</td>\n",
       "      <td>BHARAT PARMAR SWEETS &amp;  1374572 AVE UNIT  V3W...</td>\n",
       "    </tr>\n",
       "    <tr>\n",
       "      <th>34</th>\n",
       "      <td>drive/MyDrive/Colab Notebooks/CPSE 4830 OCR Fi...</td>\n",
       "      <td>GULBERG TANDOOR &amp; DONAIR  119-12578 72ND AVEN...</td>\n",
       "    </tr>\n",
       "    <tr>\n",
       "      <th>35</th>\n",
       "      <td>drive/MyDrive/Colab Notebooks/CPSE 4830 OCR Fi...</td>\n",
       "      <td>CHEF S ERAB  577  638475398.cT00  CAI  PH.504...</td>\n",
       "    </tr>\n",
       "  </tbody>\n",
       "</table>\n",
       "</div>"
      ],
      "text/plain": [
       "                                           image_type  \\\n",
       "0   drive/MyDrive/Colab Notebooks/CPSE 4830 OCR Fi...   \n",
       "1   rive/MyDrive/Colab Notebooks/CPSE 4830 OCR Fin...   \n",
       "2   drive/MyDrive/Colab Notebooks/CPSE 4830 OCR Fi...   \n",
       "3   e/MyDrive/Colab Notebooks/CPSE 4830 OCR Final ...   \n",
       "4   drive/MyDrive/Colab Notebooks/CPSE 4830 OCR Fi...   \n",
       "5   drive/MyDrive/Colab Notebooks/CPSE 4830 OCR Fi...   \n",
       "6   ive/MyDrive/Colab Notebooks/CPSE 4830 OCR Fina...   \n",
       "7   drive/MyDrive/Colab Notebooks/CPSE 4830 OCR Fi...   \n",
       "8   ve/MyDrive/Colab Notebooks/CPSE 4830 OCR Final...   \n",
       "9   rive/MyDrive/Colab Notebooks/CPSE 4830 OCR Fin...   \n",
       "10  drive/MyDrive/Colab Notebooks/CPSE 4830 OCR Fi...   \n",
       "11  drive/MyDrive/Colab Notebooks/CPSE 4830 OCR Fi...   \n",
       "12  drive/MyDrive/Colab Notebooks/CPSE 4830 OCR Fi...   \n",
       "13  /drive/MyDrive/Colab Notebooks/CPSE 4830 OCR F...   \n",
       "14  drive/MyDrive/Colab Notebooks/CPSE 4830 OCR Fi...   \n",
       "15  /drive/MyDrive/Colab Notebooks/CPSE 4830 OCR F...   \n",
       "16  drive/MyDrive/Colab Notebooks/CPSE 4830 OCR Fi...   \n",
       "17  e/MyDrive/Colab Notebooks/CPSE 4830 OCR Final ...   \n",
       "18  drive/MyDrive/Colab Notebooks/CPSE 4830 OCR Fi...   \n",
       "19  drive/MyDrive/Colab Notebooks/CPSE 4830 OCR Fi...   \n",
       "20  rive/MyDrive/Colab Notebooks/CPSE 4830 OCR Fin...   \n",
       "21  ve/MyDrive/Colab Notebooks/CPSE 4830 OCR Final...   \n",
       "22  rive/MyDrive/Colab Notebooks/CPSE 4830 OCR Fin...   \n",
       "23  drive/MyDrive/Colab Notebooks/CPSE 4830 OCR Fi...   \n",
       "24  rive/MyDrive/Colab Notebooks/CPSE 4830 OCR Fin...   \n",
       "25  drive/MyDrive/Colab Notebooks/CPSE 4830 OCR Fi...   \n",
       "26  drive/MyDrive/Colab Notebooks/CPSE 4830 OCR Fi...   \n",
       "27  drive/MyDrive/Colab Notebooks/CPSE 4830 OCR Fi...   \n",
       "28  rive/MyDrive/Colab Notebooks/CPSE 4830 OCR Fin...   \n",
       "29  drive/MyDrive/Colab Notebooks/CPSE 4830 OCR Fi...   \n",
       "30  drive/MyDrive/Colab Notebooks/CPSE 4830 OCR Fi...   \n",
       "31  drive/MyDrive/Colab Notebooks/CPSE 4830 OCR Fi...   \n",
       "32  /MyDrive/Colab Notebooks/CPSE 4830 OCR Final P...   \n",
       "33  drive/MyDrive/Colab Notebooks/CPSE 4830 OCR Fi...   \n",
       "34  drive/MyDrive/Colab Notebooks/CPSE 4830 OCR Fi...   \n",
       "35  drive/MyDrive/Colab Notebooks/CPSE 4830 OCR Fi...   \n",
       "\n",
       "                                       extracted_text  \n",
       "0    CHEF S KEBAB  6225 FRASERHWY  SURREY BC V4N O...  \n",
       "1    YELLOW CAB #300  1441 CLARK DR  VANCOUVER  BC...  \n",
       "2    Quick 60  QUESADA-BURRITOS&TACOS  AcrossSurre...  \n",
       "3    800 Carnavon Street, Unit 230  New Westminste...  \n",
       "4    Shawarna Palace  115-7218 King George Blvd  S...  \n",
       "5    SHAWARMA PALACE  7218 KING GEORGE BLVD  SUITE...  \n",
       "6    Quick 68  CHRONIC  TACOS  ServerSharandeep  P...  \n",
       "7    Canada Computers  5068-B Kingsway  Burnaby,BC...  \n",
       "8    ** Pick-up **  Take-Out  02/01/2020 11:05 AM ...  \n",
       "9    GULBERG TANDOOR & DONAIR  119-12578 72ND AVEN...  \n",
       "10   MANCHUWCK  480Kingsway34  Eunaby BCV5H4P  604...  \n",
       "11   DONAIR DUDE  NEW WESTMINSTER  #230-800 CARNAR...  \n",
       "12   Store #5621  Church's Chicken  15318 Fraser H...  \n",
       "13   SARAVANAA BHAVAN  8701 120 ST  DELTA  BC  CAR...  \n",
       "14   Scott R  Tandoori Flame  11970 88th Ave  Deit...  \n",
       "15   Web Pickup 98  Freshslice Pizza  King George ...  \n",
       "16   Dine-In gs  Charleya Grilled Subs Central Cit...  \n",
       "17   Quick 08  InvoiceHeader  Server:Kai  Printed ...  \n",
       "18   TOMOKAZU  1128 W BROADWAY #2 V6H1G5  VANCOUVE...  \n",
       "19   FRESHSLICE PIZZA  9908 KING GEORGE BLVD  SUIT...  \n",
       "20   SHAWARMA PALACE  7218 KING GEORGE BLVD  SUITE...  \n",
       "21   ** Pick-up **  Take-Out  02/17/202006:22 PM  ...  \n",
       "22   *x PURCHASE xx  Panda Express #2226  Bellingh...  \n",
       "23   SAL Y LIMON  UNIT5, 701KINGSWAY &FRASER  VANC...  \n",
       "24   TRANSACTIONRECORD  PARDESI SWEETS&RESTAURANT ...  \n",
       "25   Dine In 21  Freshslice Pizza  King George Sky...  \n",
       "26   MR. SHAWRMA  11960 HAMMERSMITH WAY  UNI  RICH...  \n",
       "27   NANRVEERS CHEFS CHUICE  10227 KING GEORGE BLV...  \n",
       "28   BHARAT PARMAR SWEETS &  13745 72AVE UNIT  V3W...  \n",
       "29   MAINKABABHUT  219 F.49TH VANC  604 322-8715  ...  \n",
       "30   Store #  #5621  Church's Chicken  15318 Frase...  \n",
       "31   Store #5621  Church's Chicken  15318 Fraser H...  \n",
       "32   CK ACKNOWLEDGES RECEIPT  OODS ANDYOR SERVICES...  \n",
       "33   BHARAT PARMAR SWEETS &  1374572 AVE UNIT  V3W...  \n",
       "34   GULBERG TANDOOR & DONAIR  119-12578 72ND AVEN...  \n",
       "35   CHEF S ERAB  577  638475398.cT00  CAI  PH.504...  "
      ]
     },
     "metadata": {},
     "output_type": "display_data"
    }
   ],
   "source": [
    "#### extracted data train and test\n",
    "\n",
    "train_df = pd.read_csv(train_csv)\n",
    "train_df = train_df.iloc[:, 1:]\n",
    "test_df = pd.read_csv(test_csv)\n",
    "test_df = test_df.iloc[:, 1:]\n",
    "display(\n",
    "    train_df,\n",
    "    test_df,\n",
    ")"
   ]
  },
  {
   "cell_type": "code",
   "execution_count": 5,
   "id": "fc9f4e6d",
   "metadata": {},
   "outputs": [
    {
     "data": {
      "text/html": [
       "<div>\n",
       "<style scoped>\n",
       "    .dataframe tbody tr th:only-of-type {\n",
       "        vertical-align: middle;\n",
       "    }\n",
       "\n",
       "    .dataframe tbody tr th {\n",
       "        vertical-align: top;\n",
       "    }\n",
       "\n",
       "    .dataframe thead th {\n",
       "        text-align: right;\n",
       "    }\n",
       "</style>\n",
       "<table border=\"1\" class=\"dataframe\">\n",
       "  <thead>\n",
       "    <tr style=\"text-align: right;\">\n",
       "      <th></th>\n",
       "      <th>image_type</th>\n",
       "      <th>extracted_text</th>\n",
       "      <th>text_length</th>\n",
       "    </tr>\n",
       "  </thead>\n",
       "  <tbody>\n",
       "    <tr>\n",
       "      <th>0</th>\n",
       "      <td>Final Project/installation files/files/jpg//te...</td>\n",
       "      <td>PATSARA THAI RESTAURAN  528 CARNARVON ST V3L1...</td>\n",
       "      <td>370</td>\n",
       "    </tr>\n",
       "    <tr>\n",
       "      <th>1</th>\n",
       "      <td>l Project/installation files/files/jpg//testin...</td>\n",
       "      <td>VRAKBANK  ALKANZJEWELLERY LL  PURCHASE  00  0...</td>\n",
       "      <td>227</td>\n",
       "    </tr>\n",
       "    <tr>\n",
       "      <th>2</th>\n",
       "      <td>l Project/installation files/files/jpg//testin...</td>\n",
       "      <td>GRASS ROOTS CATEKSA  12666 T2ND AVE. CEDAR  S...</td>\n",
       "      <td>349</td>\n",
       "    </tr>\n",
       "    <tr>\n",
       "      <th>3</th>\n",
       "      <td>Final Project/installation files/files/jpg//te...</td>\n",
       "      <td>World Famous Chicken  World Ltd  Address:1-12...</td>\n",
       "      <td>587</td>\n",
       "    </tr>\n",
       "  </tbody>\n",
       "</table>\n",
       "</div>"
      ],
      "text/plain": [
       "                                          image_type  \\\n",
       "0  Final Project/installation files/files/jpg//te...   \n",
       "1  l Project/installation files/files/jpg//testin...   \n",
       "2  l Project/installation files/files/jpg//testin...   \n",
       "3  Final Project/installation files/files/jpg//te...   \n",
       "\n",
       "                                      extracted_text  text_length  \n",
       "0   PATSARA THAI RESTAURAN  528 CARNARVON ST V3L1...          370  \n",
       "1   VRAKBANK  ALKANZJEWELLERY LL  PURCHASE  00  0...          227  \n",
       "2   GRASS ROOTS CATEKSA  12666 T2ND AVE. CEDAR  S...          349  \n",
       "3   World Famous Chicken  World Ltd  Address:1-12...          587  "
      ]
     },
     "execution_count": 5,
     "metadata": {},
     "output_type": "execute_result"
    }
   ],
   "source": [
    "#### extracting length of each description\n",
    "\n",
    "train_df[\"text_length\"] = train_df[\"extracted_text\"].apply(len)\n",
    "train_df.head(10)"
   ]
  },
  {
   "cell_type": "code",
   "execution_count": 6,
   "id": "8ff9dad8",
   "metadata": {},
   "outputs": [
    {
     "data": {
      "application/javascript": [
       "\n",
       "        if (window._pyforest_update_imports_cell) { window._pyforest_update_imports_cell('import pandas as pd\\nimport sys\\nimport seaborn as sns'); }\n",
       "    "
      ],
      "text/plain": [
       "<IPython.core.display.Javascript object>"
      ]
     },
     "metadata": {},
     "output_type": "display_data"
    },
    {
     "data": {
      "text/plain": [
       "<AxesSubplot: xlabel='text_length', ylabel='Density'>"
      ]
     },
     "execution_count": 6,
     "metadata": {},
     "output_type": "execute_result"
    },
    {
     "data": {
      "image/png": "[encoded data removed]",
      "text/plain": [
       "<Figure size 640x480 with 1 Axes>"
      ]
     },
     "metadata": {},
     "output_type": "display_data"
    }
   ],
   "source": [
    "#### distribution of lengths\n",
    "\n",
    "sns.distplot(train_df[\"text_length\"])"
   ]
  },
  {
   "cell_type": "code",
   "execution_count": 7,
   "id": "8c21b6dc",
   "metadata": {
    "scrolled": false
   },
   "outputs": [
    {
     "data": {
      "application/javascript": [
       "\n",
       "        if (window._pyforest_update_imports_cell) { window._pyforest_update_imports_cell('import pandas as pd\\nimport sys\\nimport seaborn as sns\\nfrom sklearn.feature_extraction.text import CountVectorizer'); }\n",
       "    "
      ],
      "text/plain": [
       "<IPython.core.display.Javascript object>"
      ]
     },
     "metadata": {},
     "output_type": "display_data"
    },
    {
     "data": {
      "application/javascript": [
       "\n",
       "        if (window._pyforest_update_imports_cell) { window._pyforest_update_imports_cell('import numpy as np\\nimport seaborn as sns\\nfrom sklearn.feature_extraction.text import CountVectorizer\\nimport pandas as pd\\nimport sys'); }\n",
       "    "
      ],
      "text/plain": [
       "<IPython.core.display.Javascript object>"
      ]
     },
     "metadata": {},
     "output_type": "display_data"
    },
    {
     "data": {
      "application/javascript": [
       "\n",
       "        if (window._pyforest_update_imports_cell) { window._pyforest_update_imports_cell('import numpy as np\\nimport seaborn as sns\\nfrom sklearn.feature_extraction.text import CountVectorizer\\nimport pandas as pd\\nimport sys'); }\n",
       "    "
      ],
      "text/plain": [
       "<IPython.core.display.Javascript object>"
      ]
     },
     "metadata": {},
     "output_type": "display_data"
    },
    {
     "data": {
      "application/javascript": [
       "\n",
       "        if (window._pyforest_update_imports_cell) { window._pyforest_update_imports_cell('import numpy as np\\nimport seaborn as sns\\nfrom sklearn.feature_extraction.text import CountVectorizer\\nimport pandas as pd\\nimport sys'); }\n",
       "    "
      ],
      "text/plain": [
       "<IPython.core.display.Javascript object>"
      ]
     },
     "metadata": {},
     "output_type": "display_data"
    },
    {
     "data": {
      "application/javascript": [
       "\n",
       "        if (window._pyforest_update_imports_cell) { window._pyforest_update_imports_cell('import numpy as np\\nimport seaborn as sns\\nfrom sklearn.feature_extraction.text import CountVectorizer\\nimport pandas as pd\\nimport sys'); }\n",
       "    "
      ],
      "text/plain": [
       "<IPython.core.display.Javascript object>"
      ]
     },
     "metadata": {},
     "output_type": "display_data"
    },
    {
     "data": {
      "application/javascript": [
       "\n",
       "        if (window._pyforest_update_imports_cell) { window._pyforest_update_imports_cell('import numpy as np\\nimport seaborn as sns\\nfrom sklearn.feature_extraction.text import CountVectorizer\\nimport pandas as pd\\nimport sys'); }\n",
       "    "
      ],
      "text/plain": [
       "<IPython.core.display.Javascript object>"
      ]
     },
     "metadata": {},
     "output_type": "display_data"
    },
    {
     "data": {
      "application/javascript": [
       "\n",
       "        if (window._pyforest_update_imports_cell) { window._pyforest_update_imports_cell('import numpy as np\\nimport seaborn as sns\\nfrom sklearn.feature_extraction.text import CountVectorizer\\nimport pandas as pd\\nimport sys'); }\n",
       "    "
      ],
      "text/plain": [
       "<IPython.core.display.Javascript object>"
      ]
     },
     "metadata": {},
     "output_type": "display_data"
    },
    {
     "data": {
      "application/javascript": [
       "\n",
       "        if (window._pyforest_update_imports_cell) { window._pyforest_update_imports_cell('import numpy as np\\nimport matplotlib.pyplot as plt\\nimport seaborn as sns\\nfrom sklearn.feature_extraction.text import CountVectorizer\\nimport pandas as pd\\nimport sys'); }\n",
       "    "
      ],
      "text/plain": [
       "<IPython.core.display.Javascript object>"
      ]
     },
     "metadata": {},
     "output_type": "display_data"
    },
    {
     "data": {
      "application/javascript": [
       "\n",
       "        if (window._pyforest_update_imports_cell) { window._pyforest_update_imports_cell('import numpy as np\\nimport matplotlib.pyplot as plt\\nimport seaborn as sns\\nfrom sklearn.feature_extraction.text import CountVectorizer\\nimport pandas as pd\\nimport sys'); }\n",
       "    "
      ],
      "text/plain": [
       "<IPython.core.display.Javascript object>"
      ]
     },
     "metadata": {},
     "output_type": "display_data"
    },
    {
     "data": {
      "image/png": "[encoded data removed]",
      "text/plain": [
       "<Figure size 1000x400 with 1 Axes>"
      ]
     },
     "metadata": {},
     "output_type": "display_data"
    }
   ],
   "source": [
    "#### most common word \n",
    "\n",
    "def get_top_n_words(\n",
    "    n_top_words,\n",
    "    count_vectorizer,\n",
    "    text_data,\n",
    "):\n",
    "    \"\"\"\n",
    "    returns a tuple of the top n words in a sample and their\n",
    "    accompanying counts, given a CountVectorizer object and text sample\n",
    "    \"\"\"\n",
    "    vectorized_headlines = count_vectorizer.fit_transform(text_data.values)\n",
    "    vectorized_total = np.sum(\n",
    "        vectorized_headlines,\n",
    "        axis=0,\n",
    "    )\n",
    "    word_indices = np.flip(\n",
    "        np.argsort(vectorized_total)[0, :],\n",
    "        1,\n",
    "    )\n",
    "    word_values = np.flip(\n",
    "        np.sort(vectorized_total)[0, :],\n",
    "        1,\n",
    "    )\n",
    "\n",
    "    word_vectors = np.zeros(\n",
    "        (\n",
    "            n_top_words,\n",
    "            vectorized_headlines.shape[1],\n",
    "        )\n",
    "    )\n",
    "    for i in range(n_top_words):\n",
    "        word_vectors[\n",
    "            i,\n",
    "            word_indices[0, i],\n",
    "        ] = 1\n",
    "\n",
    "    words = [\n",
    "        word[0].encode(\"ascii\").decode(\"utf-8\")\n",
    "        for word in count_vectorizer.inverse_transform(word_vectors)\n",
    "    ]\n",
    "\n",
    "    return (\n",
    "        words,\n",
    "        word_values[\n",
    "            0,\n",
    "            :n_top_words,\n",
    "        ].tolist()[0],\n",
    "    )\n",
    "\n",
    "\n",
    "\"\"\" calling the above function \"\"\"\n",
    "\n",
    "count_vectorizer = CountVectorizer(stop_words=\"english\")\n",
    "(words, word_values,) = get_top_n_words(\n",
    "    n_top_words=50,\n",
    "    count_vectorizer=count_vectorizer,\n",
    "    text_data=train_df[\"extracted_text\"],\n",
    ")\n",
    "\n",
    "\"\"\"plotting Top Common Words\"\"\"\n",
    "\n",
    "(\n",
    "    fig,\n",
    "    ax,\n",
    ") = plt.subplots(figsize=(10, 4))\n",
    "ax.bar(\n",
    "    range(len(words)),\n",
    "    word_values,\n",
    ")\n",
    "ax.set_xticks(range(len(words)))\n",
    "ax.set_xticklabels(\n",
    "    words,\n",
    "    rotation=\"vertical\",\n",
    ")\n",
    "ax.set_title(\"Top words in the dataset (excluding stop words)\")\n",
    "ax.set_xlabel(\"Word\")\n",
    "ax.set_ylabel(\"Number of occurences\")\n",
    "plt.show()"
   ]
  },
  {
   "cell_type": "code",
   "execution_count": 8,
   "id": "4eb103df",
   "metadata": {},
   "outputs": [],
   "source": [
    "def token_message(\n",
    "    message,\n",
    "):\n",
    "    \"\"\"Tokening messages\"\"\"\n",
    "    \n",
    "    punc_removed = [w for w in message]\n",
    "    punc_removed_join = \"\".join(punc_removed)\n",
    "    punc_removed_join_clean = [\n",
    "        word\n",
    "        for word in punc_removed_join.split()\n",
    "        if word.lower() not in stopwords.words(\"english\")\n",
    "    ]\n",
    "    punc_removed_clean_word = [word for word in punc_removed_join_clean if len(word) > 1]\n",
    "    return punc_removed_clean_word\n",
    "\n",
    "\n",
    "train_df[\"token_text\"] = train_df[\"extracted_text\"].apply(token_message)"
   ]
  },
  {
   "cell_type": "code",
   "execution_count": 9,
   "id": "31f52d99",
   "metadata": {},
   "outputs": [],
   "source": [
    "def lemmatizing(\n",
    "    words,\n",
    "):\n",
    "    \"\"\"Lemmatizing tokens\"\"\"\n",
    "    \n",
    "    lemmatizer = WordNetLemmatizer()\n",
    "    lemma_list = []\n",
    "    for word in words:\n",
    "        lemma_list.append(lemmatizer.lemmatize(word))\n",
    "    return lemma_list\n",
    "\n",
    "\n",
    "train_df[\"lemma_text\"] = train_df[\"token_text\"].apply(lemmatizing)"
   ]
  },
  {
   "cell_type": "code",
   "execution_count": 10,
   "id": "6350e2cf",
   "metadata": {},
   "outputs": [
    {
     "data": {
      "application/javascript": [
       "\n",
       "        if (window._pyforest_update_imports_cell) { window._pyforest_update_imports_cell('import numpy as np\\nimport matplotlib.pyplot as plt\\nimport seaborn as sns\\nfrom sklearn.feature_extraction.text import CountVectorizer\\nimport pandas as pd\\nimport sys'); }\n",
       "    "
      ],
      "text/plain": [
       "<IPython.core.display.Javascript object>"
      ]
     },
     "metadata": {},
     "output_type": "display_data"
    },
    {
     "data": {
      "application/javascript": [
       "\n",
       "        if (window._pyforest_update_imports_cell) { window._pyforest_update_imports_cell('import numpy as np\\nimport matplotlib.pyplot as plt\\nimport seaborn as sns\\nfrom sklearn.feature_extraction.text import CountVectorizer\\nimport pandas as pd\\nimport sys'); }\n",
       "    "
      ],
      "text/plain": [
       "<IPython.core.display.Javascript object>"
      ]
     },
     "metadata": {},
     "output_type": "display_data"
    },
    {
     "data": {
      "application/javascript": [
       "\n",
       "        if (window._pyforest_update_imports_cell) { window._pyforest_update_imports_cell('import numpy as np\\nimport matplotlib.pyplot as plt\\nimport seaborn as sns\\nfrom sklearn.feature_extraction.text import CountVectorizer\\nimport pandas as pd\\nimport sys'); }\n",
       "    "
      ],
      "text/plain": [
       "<IPython.core.display.Javascript object>"
      ]
     },
     "metadata": {},
     "output_type": "display_data"
    },
    {
     "data": {
      "application/javascript": [
       "\n",
       "        if (window._pyforest_update_imports_cell) { window._pyforest_update_imports_cell('import numpy as np\\nimport matplotlib.pyplot as plt\\nimport seaborn as sns\\nfrom sklearn.feature_extraction.text import CountVectorizer\\nimport pandas as pd\\nimport sys'); }\n",
       "    "
      ],
      "text/plain": [
       "<IPython.core.display.Javascript object>"
      ]
     },
     "metadata": {},
     "output_type": "display_data"
    },
    {
     "data": {
      "application/javascript": [
       "\n",
       "        if (window._pyforest_update_imports_cell) { window._pyforest_update_imports_cell('import numpy as np\\nimport matplotlib.pyplot as plt\\nimport seaborn as sns\\nfrom sklearn.feature_extraction.text import CountVectorizer\\nimport pandas as pd\\nimport sys'); }\n",
       "    "
      ],
      "text/plain": [
       "<IPython.core.display.Javascript object>"
      ]
     },
     "metadata": {},
     "output_type": "display_data"
    },
    {
     "data": {
      "application/javascript": [
       "\n",
       "        if (window._pyforest_update_imports_cell) { window._pyforest_update_imports_cell('import numpy as np\\nimport matplotlib.pyplot as plt\\nimport seaborn as sns\\nfrom sklearn.feature_extraction.text import CountVectorizer\\nimport pandas as pd\\nimport sys'); }\n",
       "    "
      ],
      "text/plain": [
       "<IPython.core.display.Javascript object>"
      ]
     },
     "metadata": {},
     "output_type": "display_data"
    },
    {
     "ename": "IndexError",
     "evalue": "index 157 is out of bounds for axis 1 with size 157",
     "output_type": "error",
     "traceback": [
      "\u001b[0;31m---------------------------------------------------------------------------\u001b[0m",
      "\u001b[0;31mIndexError\u001b[0m                                Traceback (most recent call last)",
      "Cell \u001b[0;32mIn [10], line 3\u001b[0m\n\u001b[1;32m      1\u001b[0m \u001b[38;5;66;03m#### Plotting wordcloud\u001b[39;00m\n\u001b[0;32m----> 3\u001b[0m (words, word_values,) \u001b[38;5;241m=\u001b[39m \u001b[43mget_top_n_words\u001b[49m\u001b[43m(\u001b[49m\n\u001b[1;32m      4\u001b[0m \u001b[43m    \u001b[49m\u001b[43mn_top_words\u001b[49m\u001b[38;5;241;43m=\u001b[39;49m\u001b[38;5;241;43m200\u001b[39;49m\u001b[43m,\u001b[49m\n\u001b[1;32m      5\u001b[0m \u001b[43m    \u001b[49m\u001b[43mcount_vectorizer\u001b[49m\u001b[38;5;241;43m=\u001b[39;49m\u001b[43mcount_vectorizer\u001b[49m\u001b[43m,\u001b[49m\n\u001b[1;32m      6\u001b[0m \u001b[43m    \u001b[49m\u001b[43mtext_data\u001b[49m\u001b[38;5;241;43m=\u001b[39;49m\u001b[43mtrain_df\u001b[49m\u001b[43m[\u001b[49m\u001b[38;5;124;43m\"\u001b[39;49m\u001b[38;5;124;43mextracted_text\u001b[39;49m\u001b[38;5;124;43m\"\u001b[39;49m\u001b[43m]\u001b[49m\u001b[43m,\u001b[49m\n\u001b[1;32m      7\u001b[0m \u001b[43m)\u001b[49m\n\u001b[1;32m     10\u001b[0m STOPWORDS \u001b[38;5;241m=\u001b[39m \u001b[38;5;28mset\u001b[39m(STOPWORDS)\n\u001b[1;32m     11\u001b[0m warnings\u001b[38;5;241m.\u001b[39mfilterwarnings(\u001b[38;5;124m\"\u001b[39m\u001b[38;5;124mignore\u001b[39m\u001b[38;5;124m\"\u001b[39m)\n",
      "Cell \u001b[0;32mIn [7], line 35\u001b[0m, in \u001b[0;36mget_top_n_words\u001b[0;34m(n_top_words, count_vectorizer, text_data)\u001b[0m\n\u001b[1;32m     26\u001b[0m word_vectors \u001b[38;5;241m=\u001b[39m np\u001b[38;5;241m.\u001b[39mzeros(\n\u001b[1;32m     27\u001b[0m     (\n\u001b[1;32m     28\u001b[0m         n_top_words,\n\u001b[1;32m     29\u001b[0m         vectorized_headlines\u001b[38;5;241m.\u001b[39mshape[\u001b[38;5;241m1\u001b[39m],\n\u001b[1;32m     30\u001b[0m     )\n\u001b[1;32m     31\u001b[0m )\n\u001b[1;32m     32\u001b[0m \u001b[38;5;28;01mfor\u001b[39;00m i \u001b[38;5;129;01min\u001b[39;00m \u001b[38;5;28mrange\u001b[39m(n_top_words):\n\u001b[1;32m     33\u001b[0m     word_vectors[\n\u001b[1;32m     34\u001b[0m         i,\n\u001b[0;32m---> 35\u001b[0m         \u001b[43mword_indices\u001b[49m\u001b[43m[\u001b[49m\u001b[38;5;241;43m0\u001b[39;49m\u001b[43m,\u001b[49m\u001b[43m \u001b[49m\u001b[43mi\u001b[49m\u001b[43m]\u001b[49m,\n\u001b[1;32m     36\u001b[0m     ] \u001b[38;5;241m=\u001b[39m \u001b[38;5;241m1\u001b[39m\n\u001b[1;32m     38\u001b[0m words \u001b[38;5;241m=\u001b[39m [\n\u001b[1;32m     39\u001b[0m     word[\u001b[38;5;241m0\u001b[39m]\u001b[38;5;241m.\u001b[39mencode(\u001b[38;5;124m\"\u001b[39m\u001b[38;5;124mascii\u001b[39m\u001b[38;5;124m\"\u001b[39m)\u001b[38;5;241m.\u001b[39mdecode(\u001b[38;5;124m\"\u001b[39m\u001b[38;5;124mutf-8\u001b[39m\u001b[38;5;124m\"\u001b[39m)\n\u001b[1;32m     40\u001b[0m     \u001b[38;5;28;01mfor\u001b[39;00m word \u001b[38;5;129;01min\u001b[39;00m count_vectorizer\u001b[38;5;241m.\u001b[39minverse_transform(word_vectors)\n\u001b[1;32m     41\u001b[0m ]\n\u001b[1;32m     43\u001b[0m \u001b[38;5;28;01mreturn\u001b[39;00m (\n\u001b[1;32m     44\u001b[0m     words,\n\u001b[1;32m     45\u001b[0m     word_values[\n\u001b[0;32m   (...)\u001b[0m\n\u001b[1;32m     48\u001b[0m     ]\u001b[38;5;241m.\u001b[39mtolist()[\u001b[38;5;241m0\u001b[39m],\n\u001b[1;32m     49\u001b[0m )\n",
      "File \u001b[0;32m~/miniforge3/envs/legion3.0/lib/python3.10/site-packages/numpy/matrixlib/defmatrix.py:193\u001b[0m, in \u001b[0;36mmatrix.__getitem__\u001b[0;34m(self, index)\u001b[0m\n\u001b[1;32m    190\u001b[0m \u001b[38;5;28mself\u001b[39m\u001b[38;5;241m.\u001b[39m_getitem \u001b[38;5;241m=\u001b[39m \u001b[38;5;28;01mTrue\u001b[39;00m\n\u001b[1;32m    192\u001b[0m \u001b[38;5;28;01mtry\u001b[39;00m:\n\u001b[0;32m--> 193\u001b[0m     out \u001b[38;5;241m=\u001b[39m \u001b[43mN\u001b[49m\u001b[38;5;241;43m.\u001b[39;49m\u001b[43mndarray\u001b[49m\u001b[38;5;241;43m.\u001b[39;49m\u001b[38;5;21;43m__getitem__\u001b[39;49m\u001b[43m(\u001b[49m\u001b[38;5;28;43mself\u001b[39;49m\u001b[43m,\u001b[49m\u001b[43m \u001b[49m\u001b[43mindex\u001b[49m\u001b[43m)\u001b[49m\n\u001b[1;32m    194\u001b[0m \u001b[38;5;28;01mfinally\u001b[39;00m:\n\u001b[1;32m    195\u001b[0m     \u001b[38;5;28mself\u001b[39m\u001b[38;5;241m.\u001b[39m_getitem \u001b[38;5;241m=\u001b[39m \u001b[38;5;28;01mFalse\u001b[39;00m\n",
      "\u001b[0;31mIndexError\u001b[0m: index 157 is out of bounds for axis 1 with size 157"
     ]
    }
   ],
   "source": [
    "#### Plotting wordcloud\n",
    "\n",
    "(words, word_values,) = get_top_n_words(\n",
    "    n_top_words=200,\n",
    "    count_vectorizer=count_vectorizer,\n",
    "    text_data=train_df[\"extracted_text\"],\n",
    ")\n",
    "\n",
    "\n",
    "STOPWORDS = set(STOPWORDS)\n",
    "warnings.filterwarnings(\"ignore\")\n",
    "wordcloud2 = WordCloud(\n",
    "    width=2000,\n",
    "    height=2000,\n",
    "    background_color=\"white\",\n",
    "    stopwords=set(STOPWORDS),\n",
    "    min_font_size=10,\n",
    ").generate(\",\".join(words))\n",
    "plt.figure(figsize=(12, 12))\n",
    "plt.imshow(\n",
    "    wordcloud2,\n",
    "    interpolation=\"bilinear\",\n",
    ")\n",
    "plt.axis(\"off\")\n",
    "plt.show()"
   ]
  },
  {
   "cell_type": "code",
   "execution_count": 11,
   "id": "96bdb8ca",
   "metadata": {},
   "outputs": [
    {
     "data": {
      "application/javascript": [
       "\n",
       "        if (window._pyforest_update_imports_cell) { window._pyforest_update_imports_cell('import numpy as np\\nimport matplotlib.pyplot as plt\\nimport seaborn as sns\\nfrom sklearn.feature_extraction.text import CountVectorizer\\nimport pandas as pd\\nimport sys'); }\n",
       "    "
      ],
      "text/plain": [
       "<IPython.core.display.Javascript object>"
      ]
     },
     "metadata": {},
     "output_type": "display_data"
    },
    {
     "data": {
      "text/html": [
       "<div>\n",
       "<style scoped>\n",
       "    .dataframe tbody tr th:only-of-type {\n",
       "        vertical-align: middle;\n",
       "    }\n",
       "\n",
       "    .dataframe tbody tr th {\n",
       "        vertical-align: top;\n",
       "    }\n",
       "\n",
       "    .dataframe thead th {\n",
       "        text-align: right;\n",
       "    }\n",
       "</style>\n",
       "<table border=\"1\" class=\"dataframe\">\n",
       "  <thead>\n",
       "    <tr style=\"text-align: right;\">\n",
       "      <th></th>\n",
       "      <th>image_type</th>\n",
       "      <th>extracted_text</th>\n",
       "      <th>text_length</th>\n",
       "      <th>token_text</th>\n",
       "      <th>lemma_text</th>\n",
       "      <th>date_extracted</th>\n",
       "    </tr>\n",
       "  </thead>\n",
       "  <tbody>\n",
       "    <tr>\n",
       "      <th>0</th>\n",
       "      <td>Final Project/installation files/files/jpg//te...</td>\n",
       "      <td>PATSARA THAI RESTAURAN  528 CARNARVON ST V3L1...</td>\n",
       "      <td>370</td>\n",
       "      <td>[PATSARA, THAI, RESTAURAN, 528, CARNARVON, ST,...</td>\n",
       "      <td>[PATSARA, THAI, RESTAURAN, 528, CARNARVON, ST,...</td>\n",
       "      <td>0528-12-12,2022-12-03,4595-12-12,2039-12-12,20...</td>\n",
       "    </tr>\n",
       "    <tr>\n",
       "      <th>1</th>\n",
       "      <td>l Project/installation files/files/jpg//testin...</td>\n",
       "      <td>VRAKBANK  ALKANZJEWELLERY LL  PURCHASE  00  0...</td>\n",
       "      <td>227</td>\n",
       "      <td>[VRAKBANK, ALKANZJEWELLERY, PURCHASE, 00, 0011...</td>\n",
       "      <td>[VRAKBANK, ALKANZJEWELLERY, PURCHASE, 00, 0011...</td>\n",
       "      <td>1631-12-12</td>\n",
       "    </tr>\n",
       "    <tr>\n",
       "      <th>2</th>\n",
       "      <td>l Project/installation files/files/jpg//testin...</td>\n",
       "      <td>GRASS ROOTS CATEKSA  12666 T2ND AVE. CEDAR  S...</td>\n",
       "      <td>349</td>\n",
       "      <td>[GRASS, ROOTS, CATEKSA, 12666, T2ND, AVE., CED...</td>\n",
       "      <td>[GRASS, ROOTS, CATEKSA, 12666, T2ND, AVE., CED...</td>\n",
       "      <td>2022-12-02,2022-12-28,2022-12-08</td>\n",
       "    </tr>\n",
       "    <tr>\n",
       "      <th>3</th>\n",
       "      <td>Final Project/installation files/files/jpg//te...</td>\n",
       "      <td>World Famous Chicken  World Ltd  Address:1-12...</td>\n",
       "      <td>587</td>\n",
       "      <td>[World, Famous, Chicken, World, Ltd, Address:1...</td>\n",
       "      <td>[World, Famous, Chicken, World, Ltd, Address:1...</td>\n",
       "      <td>2022-12-01,2022-08-04,2022-12-08,2022-12-08,20...</td>\n",
       "    </tr>\n",
       "  </tbody>\n",
       "</table>\n",
       "</div>"
      ],
      "text/plain": [
       "                                          image_type  \\\n",
       "0  Final Project/installation files/files/jpg//te...   \n",
       "1  l Project/installation files/files/jpg//testin...   \n",
       "2  l Project/installation files/files/jpg//testin...   \n",
       "3  Final Project/installation files/files/jpg//te...   \n",
       "\n",
       "                                      extracted_text  text_length  \\\n",
       "0   PATSARA THAI RESTAURAN  528 CARNARVON ST V3L1...          370   \n",
       "1   VRAKBANK  ALKANZJEWELLERY LL  PURCHASE  00  0...          227   \n",
       "2   GRASS ROOTS CATEKSA  12666 T2ND AVE. CEDAR  S...          349   \n",
       "3   World Famous Chicken  World Ltd  Address:1-12...          587   \n",
       "\n",
       "                                          token_text  \\\n",
       "0  [PATSARA, THAI, RESTAURAN, 528, CARNARVON, ST,...   \n",
       "1  [VRAKBANK, ALKANZJEWELLERY, PURCHASE, 00, 0011...   \n",
       "2  [GRASS, ROOTS, CATEKSA, 12666, T2ND, AVE., CED...   \n",
       "3  [World, Famous, Chicken, World, Ltd, Address:1...   \n",
       "\n",
       "                                          lemma_text  \\\n",
       "0  [PATSARA, THAI, RESTAURAN, 528, CARNARVON, ST,...   \n",
       "1  [VRAKBANK, ALKANZJEWELLERY, PURCHASE, 00, 0011...   \n",
       "2  [GRASS, ROOTS, CATEKSA, 12666, T2ND, AVE., CED...   \n",
       "3  [World, Famous, Chicken, World, Ltd, Address:1...   \n",
       "\n",
       "                                      date_extracted  \n",
       "0  0528-12-12,2022-12-03,4595-12-12,2039-12-12,20...  \n",
       "1                                         1631-12-12  \n",
       "2                   2022-12-02,2022-12-28,2022-12-08  \n",
       "3  2022-12-01,2022-08-04,2022-12-08,2022-12-08,20...  "
      ]
     },
     "execution_count": 11,
     "metadata": {},
     "output_type": "execute_result"
    }
   ],
   "source": [
    "#### extracting dates\n",
    "import datefinder\n",
    "date_list = {}\n",
    "for (\n",
    "    idx,\n",
    "    text,\n",
    ") in train_df[\"extracted_text\"].iteritems():\n",
    "    matches = datefinder.find_dates(text)\n",
    "    dates = []\n",
    "    for m in matches:\n",
    "        d = m.date().strftime(\"%Y-%m-%d\")\n",
    "        dates.append(d)\n",
    "        dates_str = \",\".join(dates)\n",
    "    date_list[idx] = dates_str\n",
    "\n",
    "date_df = pd.DataFrame.from_dict(\n",
    "    date_list,\n",
    "    orient=\"index\",\n",
    ")\n",
    "train_df2 = train_df.merge(\n",
    "    date_df,\n",
    "    left_index=True,\n",
    "    right_index=True,\n",
    "    how=\"inner\",\n",
    ")\n",
    "train_df2.rename(\n",
    "    columns={0: \"date_extracted\"},\n",
    "    inplace=True,\n",
    ")\n",
    "train_df2.head()"
   ]
  },
  {
   "cell_type": "code",
   "execution_count": 12,
   "id": "e982ae92",
   "metadata": {},
   "outputs": [],
   "source": [
    "#### pos extract\n",
    "\n",
    "def pos_tag_extract(\n",
    "    text_data,\n",
    "):\n",
    "    \"\"\"extracting POS\"\"\"\n",
    "    \n",
    "    pos_tag = nltk.pos_tag(text_data, tagset = \"universal\")\n",
    "    return pos_tag\n",
    "\n",
    "\n",
    "train_df[\"POS_tags\"] = train_df[\"lemma_text\"].apply(lemmatizing)\n",
    "#pos_tag_extract(train_df[\"lemma_text\"][81])"
   ]
  },
  {
   "cell_type": "code",
   "execution_count": 13,
   "id": "cbe836fc",
   "metadata": {},
   "outputs": [],
   "source": [
    "#### address extraction\n",
    "\n",
    "def extract_address(\n",
    "    text_data,\n",
    "):\n",
    "    \"\"\"extracting address based on Country\"\"\"\n",
    "    import pyap\n",
    "    addresses = pyap.parse(\n",
    "        text_data,\n",
    "        country=\"CA\",\n",
    "    )\n",
    "    return addresses\n",
    "\n",
    "\n",
    "train_df[\"address_extracted\"] = train_df[\"extracted_text\"].apply(extract_address)"
   ]
  },
  {
   "cell_type": "code",
   "execution_count": 14,
   "id": "0d953bf2",
   "metadata": {},
   "outputs": [
    {
     "data": {
      "application/javascript": [
       "\n",
       "        if (window._pyforest_update_imports_cell) { window._pyforest_update_imports_cell('import re\\nimport numpy as np\\nimport matplotlib.pyplot as plt\\nimport seaborn as sns\\nfrom sklearn.feature_extraction.text import CountVectorizer\\nimport pandas as pd\\nimport sys'); }\n",
       "    "
      ],
      "text/plain": [
       "<IPython.core.display.Javascript object>"
      ]
     },
     "metadata": {},
     "output_type": "display_data"
    },
    {
     "data": {
      "application/javascript": [
       "\n",
       "        if (window._pyforest_update_imports_cell) { window._pyforest_update_imports_cell('import re\\nimport numpy as np\\nimport matplotlib.pyplot as plt\\nimport seaborn as sns\\nfrom sklearn.feature_extraction.text import CountVectorizer\\nimport pandas as pd\\nimport sys'); }\n",
       "    "
      ],
      "text/plain": [
       "<IPython.core.display.Javascript object>"
      ]
     },
     "metadata": {},
     "output_type": "display_data"
    },
    {
     "data": {
      "application/javascript": [
       "\n",
       "        if (window._pyforest_update_imports_cell) { window._pyforest_update_imports_cell('import re\\nimport numpy as np\\nimport matplotlib.pyplot as plt\\nimport seaborn as sns\\nfrom sklearn.feature_extraction.text import CountVectorizer\\nimport pandas as pd\\nimport sys'); }\n",
       "    "
      ],
      "text/plain": [
       "<IPython.core.display.Javascript object>"
      ]
     },
     "metadata": {},
     "output_type": "display_data"
    },
    {
     "data": {
      "application/javascript": [
       "\n",
       "        if (window._pyforest_update_imports_cell) { window._pyforest_update_imports_cell('import re\\nimport numpy as np\\nimport matplotlib.pyplot as plt\\nimport seaborn as sns\\nfrom sklearn.feature_extraction.text import CountVectorizer\\nimport pandas as pd\\nimport sys'); }\n",
       "    "
      ],
      "text/plain": [
       "<IPython.core.display.Javascript object>"
      ]
     },
     "metadata": {},
     "output_type": "display_data"
    }
   ],
   "source": [
    "#### email extract\n",
    "\n",
    "def email_website_extract(\n",
    "    text_data,\n",
    "):\n",
    "    emails = re.findall(\n",
    "        r\"[a-z0-9\\.\\-+_]+@[a-z0-9\\.\\-+_]+\\.[a-z]+\",\n",
    "        text_data,\n",
    "    )\n",
    "    return emails\n",
    "\n",
    "\n",
    "train_df[\"emails_extracted\"] = train_df[\"extracted_text\"].apply(email_website_extract)"
   ]
  },
  {
   "cell_type": "code",
   "execution_count": 15,
   "id": "d4e21068",
   "metadata": {},
   "outputs": [
    {
     "data": {
      "text/plain": [
       "'extend support'"
      ]
     },
     "execution_count": 15,
     "metadata": {},
     "output_type": "execute_result"
    }
   ],
   "source": [
    "#### extract countries (need work)\n",
    "\"\"\"extend support\"\"\"\n",
    "#! pip install pycountry\n",
    "#! pip install geocoder\n",
    "#! pip install locationtagger\n",
    "# nltk.downloader.download('maxent_ne_chunker')\n",
    "# nltk.downloader.download('words')\n",
    "# nltk.downloader.download('treebank')\n",
    "# nltk.downloader.download('maxent_treebank_pos_tagger')\n",
    "# nltk.downloader.download('punkt')\n",
    "# nltk.download('averaged_perceptron_tagger')\n",
    "\n",
    "\n",
    "# def extract_country(\n",
    "#     text_data,\n",
    "# ):\n",
    "#     import locationtagger\n",
    "#     import nltk\n",
    "\n",
    "#     # extracting entities.\n",
    "#     place_entity = locationtagger.find_locations(text=text_data)\n",
    "\n",
    "#     # getting all country regions\n",
    "#     print(\"The countries regions in text : \")\n",
    "#     print(place_entity.country_regions)\n",
    "\n",
    "\n",
    "# extract_country(train_df[\"address_extracted\"][12])"
   ]
  },
  {
   "cell_type": "code",
   "execution_count": null,
   "id": "b0c96a6b",
   "metadata": {},
   "outputs": [],
   "source": [
    "# def find_synonyms(\n",
    "#     text_data,\n",
    "# ):\n",
    "#     synonym_dict = {}\n",
    "#     for text in text_data:\n",
    "#         synonyms = []\n",
    "#         for syn in wordnet.synsets(text):\n",
    "#             for l in syn.lemmas():\n",
    "#                 synonyms.append(l.name())\n",
    "#         synonym_dict[text] = list(set(synonyms))\n",
    "#     return synonym_dict\n",
    "\n",
    "\n",
    "# search_word = \"amount\"\n",
    "# dict_syn = find_synonyms([search_word])\n",
    "# dict_syn"
   ]
  },
  {
   "cell_type": "code",
   "execution_count": 16,
   "id": "10232f96",
   "metadata": {},
   "outputs": [
    {
     "data": {
      "application/javascript": [
       "\n",
       "        if (window._pyforest_update_imports_cell) { window._pyforest_update_imports_cell('import re\\nimport numpy as np\\nimport matplotlib.pyplot as plt\\nimport seaborn as sns\\nfrom sklearn.feature_extraction.text import CountVectorizer\\nimport pandas as pd\\nimport sys'); }\n",
       "    "
      ],
      "text/plain": [
       "<IPython.core.display.Javascript object>"
      ]
     },
     "metadata": {},
     "output_type": "display_data"
    },
    {
     "data": {
      "application/javascript": [
       "\n",
       "        if (window._pyforest_update_imports_cell) { window._pyforest_update_imports_cell('import re\\nimport numpy as np\\nimport matplotlib.pyplot as plt\\nimport seaborn as sns\\nfrom sklearn.feature_extraction.text import CountVectorizer\\nimport pandas as pd\\nimport sys'); }\n",
       "    "
      ],
      "text/plain": [
       "<IPython.core.display.Javascript object>"
      ]
     },
     "metadata": {},
     "output_type": "display_data"
    },
    {
     "data": {
      "application/javascript": [
       "\n",
       "        if (window._pyforest_update_imports_cell) { window._pyforest_update_imports_cell('import re\\nimport numpy as np\\nimport matplotlib.pyplot as plt\\nimport seaborn as sns\\nfrom sklearn.feature_extraction.text import CountVectorizer\\nimport pandas as pd\\nimport sys'); }\n",
       "    "
      ],
      "text/plain": [
       "<IPython.core.display.Javascript object>"
      ]
     },
     "metadata": {},
     "output_type": "display_data"
    },
    {
     "data": {
      "application/javascript": [
       "\n",
       "        if (window._pyforest_update_imports_cell) { window._pyforest_update_imports_cell('import re\\nimport numpy as np\\nimport matplotlib.pyplot as plt\\nimport seaborn as sns\\nfrom sklearn.feature_extraction.text import CountVectorizer\\nimport pandas as pd\\nimport sys'); }\n",
       "    "
      ],
      "text/plain": [
       "<IPython.core.display.Javascript object>"
      ]
     },
     "metadata": {},
     "output_type": "display_data"
    },
    {
     "data": {
      "application/javascript": [
       "\n",
       "        if (window._pyforest_update_imports_cell) { window._pyforest_update_imports_cell('import re\\nimport numpy as np\\nimport matplotlib.pyplot as plt\\nimport seaborn as sns\\nfrom sklearn.feature_extraction.text import CountVectorizer\\nimport pandas as pd\\nimport sys'); }\n",
       "    "
      ],
      "text/plain": [
       "<IPython.core.display.Javascript object>"
      ]
     },
     "metadata": {},
     "output_type": "display_data"
    },
    {
     "data": {
      "application/javascript": [
       "\n",
       "        if (window._pyforest_update_imports_cell) { window._pyforest_update_imports_cell('import re\\nimport numpy as np\\nimport matplotlib.pyplot as plt\\nimport seaborn as sns\\nfrom sklearn.feature_extraction.text import CountVectorizer\\nimport pandas as pd\\nimport sys'); }\n",
       "    "
      ],
      "text/plain": [
       "<IPython.core.display.Javascript object>"
      ]
     },
     "metadata": {},
     "output_type": "display_data"
    },
    {
     "data": {
      "application/javascript": [
       "\n",
       "        if (window._pyforest_update_imports_cell) { window._pyforest_update_imports_cell('import re\\nimport numpy as np\\nimport matplotlib.pyplot as plt\\nimport seaborn as sns\\nfrom sklearn.feature_extraction.text import CountVectorizer\\nimport pandas as pd\\nimport sys'); }\n",
       "    "
      ],
      "text/plain": [
       "<IPython.core.display.Javascript object>"
      ]
     },
     "metadata": {},
     "output_type": "display_data"
    },
    {
     "data": {
      "application/javascript": [
       "\n",
       "        if (window._pyforest_update_imports_cell) { window._pyforest_update_imports_cell('import re\\nimport numpy as np\\nimport matplotlib.pyplot as plt\\nimport seaborn as sns\\nfrom sklearn.feature_extraction.text import CountVectorizer\\nimport pandas as pd\\nimport sys'); }\n",
       "    "
      ],
      "text/plain": [
       "<IPython.core.display.Javascript object>"
      ]
     },
     "metadata": {},
     "output_type": "display_data"
    },
    {
     "data": {
      "application/javascript": [
       "\n",
       "        if (window._pyforest_update_imports_cell) { window._pyforest_update_imports_cell('import re\\nimport numpy as np\\nimport matplotlib.pyplot as plt\\nimport seaborn as sns\\nfrom sklearn.feature_extraction.text import CountVectorizer\\nimport pandas as pd\\nimport sys'); }\n",
       "    "
      ],
      "text/plain": [
       "<IPython.core.display.Javascript object>"
      ]
     },
     "metadata": {},
     "output_type": "display_data"
    },
    {
     "data": {
      "application/javascript": [
       "\n",
       "        if (window._pyforest_update_imports_cell) { window._pyforest_update_imports_cell('import re\\nimport numpy as np\\nimport matplotlib.pyplot as plt\\nimport seaborn as sns\\nfrom sklearn.feature_extraction.text import CountVectorizer\\nimport pandas as pd\\nimport sys'); }\n",
       "    "
      ],
      "text/plain": [
       "<IPython.core.display.Javascript object>"
      ]
     },
     "metadata": {},
     "output_type": "display_data"
    },
    {
     "data": {
      "application/javascript": [
       "\n",
       "        if (window._pyforest_update_imports_cell) { window._pyforest_update_imports_cell('import re\\nimport numpy as np\\nimport matplotlib.pyplot as plt\\nimport seaborn as sns\\nfrom sklearn.feature_extraction.text import CountVectorizer\\nimport pandas as pd\\nimport sys'); }\n",
       "    "
      ],
      "text/plain": [
       "<IPython.core.display.Javascript object>"
      ]
     },
     "metadata": {},
     "output_type": "display_data"
    },
    {
     "data": {
      "application/javascript": [
       "\n",
       "        if (window._pyforest_update_imports_cell) { window._pyforest_update_imports_cell('import re\\nimport numpy as np\\nimport matplotlib.pyplot as plt\\nimport seaborn as sns\\nfrom sklearn.feature_extraction.text import CountVectorizer\\nimport pandas as pd\\nimport sys'); }\n",
       "    "
      ],
      "text/plain": [
       "<IPython.core.display.Javascript object>"
      ]
     },
     "metadata": {},
     "output_type": "display_data"
    },
    {
     "data": {
      "application/javascript": [
       "\n",
       "        if (window._pyforest_update_imports_cell) { window._pyforest_update_imports_cell('import re\\nimport numpy as np\\nimport matplotlib.pyplot as plt\\nimport seaborn as sns\\nfrom sklearn.feature_extraction.text import CountVectorizer\\nimport pandas as pd\\nimport sys'); }\n",
       "    "
      ],
      "text/plain": [
       "<IPython.core.display.Javascript object>"
      ]
     },
     "metadata": {},
     "output_type": "display_data"
    },
    {
     "data": {
      "application/javascript": [
       "\n",
       "        if (window._pyforest_update_imports_cell) { window._pyforest_update_imports_cell('import re\\nimport numpy as np\\nimport matplotlib.pyplot as plt\\nimport seaborn as sns\\nfrom sklearn.feature_extraction.text import CountVectorizer\\nimport pandas as pd\\nimport sys'); }\n",
       "    "
      ],
      "text/plain": [
       "<IPython.core.display.Javascript object>"
      ]
     },
     "metadata": {},
     "output_type": "display_data"
    },
    {
     "data": {
      "application/javascript": [
       "\n",
       "        if (window._pyforest_update_imports_cell) { window._pyforest_update_imports_cell('import re\\nimport numpy as np\\nimport matplotlib.pyplot as plt\\nimport seaborn as sns\\nfrom sklearn.feature_extraction.text import CountVectorizer\\nimport pandas as pd\\nimport sys'); }\n",
       "    "
      ],
      "text/plain": [
       "<IPython.core.display.Javascript object>"
      ]
     },
     "metadata": {},
     "output_type": "display_data"
    },
    {
     "data": {
      "application/javascript": [
       "\n",
       "        if (window._pyforest_update_imports_cell) { window._pyforest_update_imports_cell('import re\\nimport numpy as np\\nimport matplotlib.pyplot as plt\\nimport seaborn as sns\\nfrom sklearn.feature_extraction.text import CountVectorizer\\nimport pandas as pd\\nimport sys'); }\n",
       "    "
      ],
      "text/plain": [
       "<IPython.core.display.Javascript object>"
      ]
     },
     "metadata": {},
     "output_type": "display_data"
    },
    {
     "data": {
      "application/javascript": [
       "\n",
       "        if (window._pyforest_update_imports_cell) { window._pyforest_update_imports_cell('import re\\nimport numpy as np\\nimport matplotlib.pyplot as plt\\nimport seaborn as sns\\nfrom sklearn.feature_extraction.text import CountVectorizer\\nimport pandas as pd\\nimport sys'); }\n",
       "    "
      ],
      "text/plain": [
       "<IPython.core.display.Javascript object>"
      ]
     },
     "metadata": {},
     "output_type": "display_data"
    },
    {
     "data": {
      "application/javascript": [
       "\n",
       "        if (window._pyforest_update_imports_cell) { window._pyforest_update_imports_cell('import re\\nimport numpy as np\\nimport matplotlib.pyplot as plt\\nimport seaborn as sns\\nfrom sklearn.feature_extraction.text import CountVectorizer\\nimport pandas as pd\\nimport sys'); }\n",
       "    "
      ],
      "text/plain": [
       "<IPython.core.display.Javascript object>"
      ]
     },
     "metadata": {},
     "output_type": "display_data"
    },
    {
     "data": {
      "application/javascript": [
       "\n",
       "        if (window._pyforest_update_imports_cell) { window._pyforest_update_imports_cell('import re\\nimport numpy as np\\nimport matplotlib.pyplot as plt\\nimport seaborn as sns\\nfrom sklearn.feature_extraction.text import CountVectorizer\\nimport pandas as pd\\nimport sys'); }\n",
       "    "
      ],
      "text/plain": [
       "<IPython.core.display.Javascript object>"
      ]
     },
     "metadata": {},
     "output_type": "display_data"
    },
    {
     "data": {
      "application/javascript": [
       "\n",
       "        if (window._pyforest_update_imports_cell) { window._pyforest_update_imports_cell('import re\\nimport numpy as np\\nimport matplotlib.pyplot as plt\\nimport seaborn as sns\\nfrom sklearn.feature_extraction.text import CountVectorizer\\nimport pandas as pd\\nimport sys'); }\n",
       "    "
      ],
      "text/plain": [
       "<IPython.core.display.Javascript object>"
      ]
     },
     "metadata": {},
     "output_type": "display_data"
    },
    {
     "data": {
      "application/javascript": [
       "\n",
       "        if (window._pyforest_update_imports_cell) { window._pyforest_update_imports_cell('import re\\nimport numpy as np\\nimport matplotlib.pyplot as plt\\nimport seaborn as sns\\nfrom sklearn.feature_extraction.text import CountVectorizer\\nimport pandas as pd\\nimport sys'); }\n",
       "    "
      ],
      "text/plain": [
       "<IPython.core.display.Javascript object>"
      ]
     },
     "metadata": {},
     "output_type": "display_data"
    },
    {
     "data": {
      "application/javascript": [
       "\n",
       "        if (window._pyforest_update_imports_cell) { window._pyforest_update_imports_cell('import re\\nimport numpy as np\\nimport matplotlib.pyplot as plt\\nimport seaborn as sns\\nfrom sklearn.feature_extraction.text import CountVectorizer\\nimport pandas as pd\\nimport sys'); }\n",
       "    "
      ],
      "text/plain": [
       "<IPython.core.display.Javascript object>"
      ]
     },
     "metadata": {},
     "output_type": "display_data"
    },
    {
     "data": {
      "application/javascript": [
       "\n",
       "        if (window._pyforest_update_imports_cell) { window._pyforest_update_imports_cell('import re\\nimport numpy as np\\nimport matplotlib.pyplot as plt\\nimport seaborn as sns\\nfrom sklearn.feature_extraction.text import CountVectorizer\\nimport pandas as pd\\nimport sys'); }\n",
       "    "
      ],
      "text/plain": [
       "<IPython.core.display.Javascript object>"
      ]
     },
     "metadata": {},
     "output_type": "display_data"
    },
    {
     "data": {
      "application/javascript": [
       "\n",
       "        if (window._pyforest_update_imports_cell) { window._pyforest_update_imports_cell('import re\\nimport numpy as np\\nimport matplotlib.pyplot as plt\\nimport seaborn as sns\\nfrom sklearn.feature_extraction.text import CountVectorizer\\nimport pandas as pd\\nimport sys'); }\n",
       "    "
      ],
      "text/plain": [
       "<IPython.core.display.Javascript object>"
      ]
     },
     "metadata": {},
     "output_type": "display_data"
    },
    {
     "data": {
      "application/javascript": [
       "\n",
       "        if (window._pyforest_update_imports_cell) { window._pyforest_update_imports_cell('import re\\nimport numpy as np\\nimport matplotlib.pyplot as plt\\nimport seaborn as sns\\nfrom sklearn.feature_extraction.text import CountVectorizer\\nimport pandas as pd\\nimport sys'); }\n",
       "    "
      ],
      "text/plain": [
       "<IPython.core.display.Javascript object>"
      ]
     },
     "metadata": {},
     "output_type": "display_data"
    },
    {
     "data": {
      "application/javascript": [
       "\n",
       "        if (window._pyforest_update_imports_cell) { window._pyforest_update_imports_cell('import re\\nimport numpy as np\\nimport matplotlib.pyplot as plt\\nimport seaborn as sns\\nfrom sklearn.feature_extraction.text import CountVectorizer\\nimport pandas as pd\\nimport sys'); }\n",
       "    "
      ],
      "text/plain": [
       "<IPython.core.display.Javascript object>"
      ]
     },
     "metadata": {},
     "output_type": "display_data"
    },
    {
     "data": {
      "application/javascript": [
       "\n",
       "        if (window._pyforest_update_imports_cell) { window._pyforest_update_imports_cell('import re\\nimport numpy as np\\nimport matplotlib.pyplot as plt\\nimport seaborn as sns\\nfrom sklearn.feature_extraction.text import CountVectorizer\\nimport pandas as pd\\nimport sys'); }\n",
       "    "
      ],
      "text/plain": [
       "<IPython.core.display.Javascript object>"
      ]
     },
     "metadata": {},
     "output_type": "display_data"
    },
    {
     "data": {
      "application/javascript": [
       "\n",
       "        if (window._pyforest_update_imports_cell) { window._pyforest_update_imports_cell('import re\\nimport numpy as np\\nimport matplotlib.pyplot as plt\\nimport seaborn as sns\\nfrom sklearn.feature_extraction.text import CountVectorizer\\nimport pandas as pd\\nimport sys'); }\n",
       "    "
      ],
      "text/plain": [
       "<IPython.core.display.Javascript object>"
      ]
     },
     "metadata": {},
     "output_type": "display_data"
    },
    {
     "data": {
      "application/javascript": [
       "\n",
       "        if (window._pyforest_update_imports_cell) { window._pyforest_update_imports_cell('import re\\nimport numpy as np\\nimport matplotlib.pyplot as plt\\nimport seaborn as sns\\nfrom sklearn.feature_extraction.text import CountVectorizer\\nimport pandas as pd\\nimport sys'); }\n",
       "    "
      ],
      "text/plain": [
       "<IPython.core.display.Javascript object>"
      ]
     },
     "metadata": {},
     "output_type": "display_data"
    },
    {
     "data": {
      "application/javascript": [
       "\n",
       "        if (window._pyforest_update_imports_cell) { window._pyforest_update_imports_cell('import re\\nimport numpy as np\\nimport matplotlib.pyplot as plt\\nimport seaborn as sns\\nfrom sklearn.feature_extraction.text import CountVectorizer\\nimport pandas as pd\\nimport sys'); }\n",
       "    "
      ],
      "text/plain": [
       "<IPython.core.display.Javascript object>"
      ]
     },
     "metadata": {},
     "output_type": "display_data"
    },
    {
     "data": {
      "application/javascript": [
       "\n",
       "        if (window._pyforest_update_imports_cell) { window._pyforest_update_imports_cell('import re\\nimport numpy as np\\nimport matplotlib.pyplot as plt\\nimport seaborn as sns\\nfrom sklearn.feature_extraction.text import CountVectorizer\\nimport pandas as pd\\nimport sys'); }\n",
       "    "
      ],
      "text/plain": [
       "<IPython.core.display.Javascript object>"
      ]
     },
     "metadata": {},
     "output_type": "display_data"
    },
    {
     "data": {
      "application/javascript": [
       "\n",
       "        if (window._pyforest_update_imports_cell) { window._pyforest_update_imports_cell('import re\\nimport numpy as np\\nimport matplotlib.pyplot as plt\\nimport seaborn as sns\\nfrom sklearn.feature_extraction.text import CountVectorizer\\nimport pandas as pd\\nimport sys'); }\n",
       "    "
      ],
      "text/plain": [
       "<IPython.core.display.Javascript object>"
      ]
     },
     "metadata": {},
     "output_type": "display_data"
    },
    {
     "data": {
      "application/javascript": [
       "\n",
       "        if (window._pyforest_update_imports_cell) { window._pyforest_update_imports_cell('import re\\nimport numpy as np\\nimport matplotlib.pyplot as plt\\nimport seaborn as sns\\nfrom sklearn.feature_extraction.text import CountVectorizer\\nimport pandas as pd\\nimport sys'); }\n",
       "    "
      ],
      "text/plain": [
       "<IPython.core.display.Javascript object>"
      ]
     },
     "metadata": {},
     "output_type": "display_data"
    },
    {
     "data": {
      "application/javascript": [
       "\n",
       "        if (window._pyforest_update_imports_cell) { window._pyforest_update_imports_cell('import re\\nimport numpy as np\\nimport matplotlib.pyplot as plt\\nimport seaborn as sns\\nfrom sklearn.feature_extraction.text import CountVectorizer\\nimport pandas as pd\\nimport sys'); }\n",
       "    "
      ],
      "text/plain": [
       "<IPython.core.display.Javascript object>"
      ]
     },
     "metadata": {},
     "output_type": "display_data"
    },
    {
     "data": {
      "application/javascript": [
       "\n",
       "        if (window._pyforest_update_imports_cell) { window._pyforest_update_imports_cell('import re\\nimport numpy as np\\nimport matplotlib.pyplot as plt\\nimport seaborn as sns\\nfrom sklearn.feature_extraction.text import CountVectorizer\\nimport pandas as pd\\nimport sys'); }\n",
       "    "
      ],
      "text/plain": [
       "<IPython.core.display.Javascript object>"
      ]
     },
     "metadata": {},
     "output_type": "display_data"
    },
    {
     "data": {
      "application/javascript": [
       "\n",
       "        if (window._pyforest_update_imports_cell) { window._pyforest_update_imports_cell('import re\\nimport numpy as np\\nimport matplotlib.pyplot as plt\\nimport seaborn as sns\\nfrom sklearn.feature_extraction.text import CountVectorizer\\nimport pandas as pd\\nimport sys'); }\n",
       "    "
      ],
      "text/plain": [
       "<IPython.core.display.Javascript object>"
      ]
     },
     "metadata": {},
     "output_type": "display_data"
    },
    {
     "data": {
      "application/javascript": [
       "\n",
       "        if (window._pyforest_update_imports_cell) { window._pyforest_update_imports_cell('import re\\nimport numpy as np\\nimport matplotlib.pyplot as plt\\nimport seaborn as sns\\nfrom sklearn.feature_extraction.text import CountVectorizer\\nimport pandas as pd\\nimport sys'); }\n",
       "    "
      ],
      "text/plain": [
       "<IPython.core.display.Javascript object>"
      ]
     },
     "metadata": {},
     "output_type": "display_data"
    },
    {
     "data": {
      "application/javascript": [
       "\n",
       "        if (window._pyforest_update_imports_cell) { window._pyforest_update_imports_cell('import re\\nimport numpy as np\\nimport matplotlib.pyplot as plt\\nimport seaborn as sns\\nfrom sklearn.feature_extraction.text import CountVectorizer\\nimport pandas as pd\\nimport sys'); }\n",
       "    "
      ],
      "text/plain": [
       "<IPython.core.display.Javascript object>"
      ]
     },
     "metadata": {},
     "output_type": "display_data"
    },
    {
     "data": {
      "application/javascript": [
       "\n",
       "        if (window._pyforest_update_imports_cell) { window._pyforest_update_imports_cell('import re\\nimport numpy as np\\nimport matplotlib.pyplot as plt\\nimport seaborn as sns\\nfrom sklearn.feature_extraction.text import CountVectorizer\\nimport pandas as pd\\nimport sys'); }\n",
       "    "
      ],
      "text/plain": [
       "<IPython.core.display.Javascript object>"
      ]
     },
     "metadata": {},
     "output_type": "display_data"
    },
    {
     "data": {
      "application/javascript": [
       "\n",
       "        if (window._pyforest_update_imports_cell) { window._pyforest_update_imports_cell('import re\\nimport numpy as np\\nimport matplotlib.pyplot as plt\\nimport seaborn as sns\\nfrom sklearn.feature_extraction.text import CountVectorizer\\nimport pandas as pd\\nimport sys'); }\n",
       "    "
      ],
      "text/plain": [
       "<IPython.core.display.Javascript object>"
      ]
     },
     "metadata": {},
     "output_type": "display_data"
    },
    {
     "data": {
      "application/javascript": [
       "\n",
       "        if (window._pyforest_update_imports_cell) { window._pyforest_update_imports_cell('import re\\nimport numpy as np\\nimport matplotlib.pyplot as plt\\nimport seaborn as sns\\nfrom sklearn.feature_extraction.text import CountVectorizer\\nimport pandas as pd\\nimport sys'); }\n",
       "    "
      ],
      "text/plain": [
       "<IPython.core.display.Javascript object>"
      ]
     },
     "metadata": {},
     "output_type": "display_data"
    },
    {
     "data": {
      "application/javascript": [
       "\n",
       "        if (window._pyforest_update_imports_cell) { window._pyforest_update_imports_cell('import re\\nimport numpy as np\\nimport matplotlib.pyplot as plt\\nimport seaborn as sns\\nfrom sklearn.feature_extraction.text import CountVectorizer\\nimport pandas as pd\\nimport sys'); }\n",
       "    "
      ],
      "text/plain": [
       "<IPython.core.display.Javascript object>"
      ]
     },
     "metadata": {},
     "output_type": "display_data"
    },
    {
     "data": {
      "application/javascript": [
       "\n",
       "        if (window._pyforest_update_imports_cell) { window._pyforest_update_imports_cell('import re\\nimport numpy as np\\nimport matplotlib.pyplot as plt\\nimport seaborn as sns\\nfrom sklearn.feature_extraction.text import CountVectorizer\\nimport pandas as pd\\nimport sys'); }\n",
       "    "
      ],
      "text/plain": [
       "<IPython.core.display.Javascript object>"
      ]
     },
     "metadata": {},
     "output_type": "display_data"
    },
    {
     "data": {
      "application/javascript": [
       "\n",
       "        if (window._pyforest_update_imports_cell) { window._pyforest_update_imports_cell('import re\\nimport numpy as np\\nimport matplotlib.pyplot as plt\\nimport seaborn as sns\\nfrom sklearn.feature_extraction.text import CountVectorizer\\nimport pandas as pd\\nimport sys'); }\n",
       "    "
      ],
      "text/plain": [
       "<IPython.core.display.Javascript object>"
      ]
     },
     "metadata": {},
     "output_type": "display_data"
    },
    {
     "data": {
      "application/javascript": [
       "\n",
       "        if (window._pyforest_update_imports_cell) { window._pyforest_update_imports_cell('import re\\nimport numpy as np\\nimport matplotlib.pyplot as plt\\nimport seaborn as sns\\nfrom sklearn.feature_extraction.text import CountVectorizer\\nimport pandas as pd\\nimport sys'); }\n",
       "    "
      ],
      "text/plain": [
       "<IPython.core.display.Javascript object>"
      ]
     },
     "metadata": {},
     "output_type": "display_data"
    },
    {
     "data": {
      "application/javascript": [
       "\n",
       "        if (window._pyforest_update_imports_cell) { window._pyforest_update_imports_cell('import re\\nimport numpy as np\\nimport matplotlib.pyplot as plt\\nimport seaborn as sns\\nfrom sklearn.feature_extraction.text import CountVectorizer\\nimport pandas as pd\\nimport sys'); }\n",
       "    "
      ],
      "text/plain": [
       "<IPython.core.display.Javascript object>"
      ]
     },
     "metadata": {},
     "output_type": "display_data"
    },
    {
     "data": {
      "application/javascript": [
       "\n",
       "        if (window._pyforest_update_imports_cell) { window._pyforest_update_imports_cell('import re\\nimport numpy as np\\nimport matplotlib.pyplot as plt\\nimport seaborn as sns\\nfrom sklearn.feature_extraction.text import CountVectorizer\\nimport pandas as pd\\nimport sys'); }\n",
       "    "
      ],
      "text/plain": [
       "<IPython.core.display.Javascript object>"
      ]
     },
     "metadata": {},
     "output_type": "display_data"
    },
    {
     "data": {
      "application/javascript": [
       "\n",
       "        if (window._pyforest_update_imports_cell) { window._pyforest_update_imports_cell('import re\\nimport numpy as np\\nimport matplotlib.pyplot as plt\\nimport seaborn as sns\\nfrom sklearn.feature_extraction.text import CountVectorizer\\nimport pandas as pd\\nimport sys'); }\n",
       "    "
      ],
      "text/plain": [
       "<IPython.core.display.Javascript object>"
      ]
     },
     "metadata": {},
     "output_type": "display_data"
    },
    {
     "data": {
      "application/javascript": [
       "\n",
       "        if (window._pyforest_update_imports_cell) { window._pyforest_update_imports_cell('import re\\nimport numpy as np\\nimport matplotlib.pyplot as plt\\nimport seaborn as sns\\nfrom sklearn.feature_extraction.text import CountVectorizer\\nimport pandas as pd\\nimport sys'); }\n",
       "    "
      ],
      "text/plain": [
       "<IPython.core.display.Javascript object>"
      ]
     },
     "metadata": {},
     "output_type": "display_data"
    },
    {
     "data": {
      "application/javascript": [
       "\n",
       "        if (window._pyforest_update_imports_cell) { window._pyforest_update_imports_cell('import re\\nimport numpy as np\\nimport matplotlib.pyplot as plt\\nimport seaborn as sns\\nfrom sklearn.feature_extraction.text import CountVectorizer\\nimport pandas as pd\\nimport sys'); }\n",
       "    "
      ],
      "text/plain": [
       "<IPython.core.display.Javascript object>"
      ]
     },
     "metadata": {},
     "output_type": "display_data"
    },
    {
     "data": {
      "application/javascript": [
       "\n",
       "        if (window._pyforest_update_imports_cell) { window._pyforest_update_imports_cell('import re\\nimport numpy as np\\nimport matplotlib.pyplot as plt\\nimport seaborn as sns\\nfrom sklearn.feature_extraction.text import CountVectorizer\\nimport pandas as pd\\nimport sys'); }\n",
       "    "
      ],
      "text/plain": [
       "<IPython.core.display.Javascript object>"
      ]
     },
     "metadata": {},
     "output_type": "display_data"
    },
    {
     "data": {
      "application/javascript": [
       "\n",
       "        if (window._pyforest_update_imports_cell) { window._pyforest_update_imports_cell('import re\\nimport numpy as np\\nimport matplotlib.pyplot as plt\\nimport seaborn as sns\\nfrom sklearn.feature_extraction.text import CountVectorizer\\nimport pandas as pd\\nimport sys'); }\n",
       "    "
      ],
      "text/plain": [
       "<IPython.core.display.Javascript object>"
      ]
     },
     "metadata": {},
     "output_type": "display_data"
    },
    {
     "data": {
      "application/javascript": [
       "\n",
       "        if (window._pyforest_update_imports_cell) { window._pyforest_update_imports_cell('import re\\nimport numpy as np\\nimport matplotlib.pyplot as plt\\nimport seaborn as sns\\nfrom sklearn.feature_extraction.text import CountVectorizer\\nimport pandas as pd\\nimport sys'); }\n",
       "    "
      ],
      "text/plain": [
       "<IPython.core.display.Javascript object>"
      ]
     },
     "metadata": {},
     "output_type": "display_data"
    },
    {
     "data": {
      "application/javascript": [
       "\n",
       "        if (window._pyforest_update_imports_cell) { window._pyforest_update_imports_cell('import re\\nimport numpy as np\\nimport matplotlib.pyplot as plt\\nimport seaborn as sns\\nfrom sklearn.feature_extraction.text import CountVectorizer\\nimport pandas as pd\\nimport sys'); }\n",
       "    "
      ],
      "text/plain": [
       "<IPython.core.display.Javascript object>"
      ]
     },
     "metadata": {},
     "output_type": "display_data"
    },
    {
     "data": {
      "application/javascript": [
       "\n",
       "        if (window._pyforest_update_imports_cell) { window._pyforest_update_imports_cell('import re\\nimport numpy as np\\nimport matplotlib.pyplot as plt\\nimport seaborn as sns\\nfrom sklearn.feature_extraction.text import CountVectorizer\\nimport pandas as pd\\nimport sys'); }\n",
       "    "
      ],
      "text/plain": [
       "<IPython.core.display.Javascript object>"
      ]
     },
     "metadata": {},
     "output_type": "display_data"
    },
    {
     "data": {
      "application/javascript": [
       "\n",
       "        if (window._pyforest_update_imports_cell) { window._pyforest_update_imports_cell('import re\\nimport numpy as np\\nimport matplotlib.pyplot as plt\\nimport seaborn as sns\\nfrom sklearn.feature_extraction.text import CountVectorizer\\nimport pandas as pd\\nimport sys'); }\n",
       "    "
      ],
      "text/plain": [
       "<IPython.core.display.Javascript object>"
      ]
     },
     "metadata": {},
     "output_type": "display_data"
    },
    {
     "data": {
      "application/javascript": [
       "\n",
       "        if (window._pyforest_update_imports_cell) { window._pyforest_update_imports_cell('import re\\nimport numpy as np\\nimport matplotlib.pyplot as plt\\nimport seaborn as sns\\nfrom sklearn.feature_extraction.text import CountVectorizer\\nimport pandas as pd\\nimport sys'); }\n",
       "    "
      ],
      "text/plain": [
       "<IPython.core.display.Javascript object>"
      ]
     },
     "metadata": {},
     "output_type": "display_data"
    },
    {
     "data": {
      "application/javascript": [
       "\n",
       "        if (window._pyforest_update_imports_cell) { window._pyforest_update_imports_cell('import re\\nimport numpy as np\\nimport matplotlib.pyplot as plt\\nimport seaborn as sns\\nfrom sklearn.feature_extraction.text import CountVectorizer\\nimport pandas as pd\\nimport sys'); }\n",
       "    "
      ],
      "text/plain": [
       "<IPython.core.display.Javascript object>"
      ]
     },
     "metadata": {},
     "output_type": "display_data"
    },
    {
     "data": {
      "application/javascript": [
       "\n",
       "        if (window._pyforest_update_imports_cell) { window._pyforest_update_imports_cell('import re\\nimport numpy as np\\nimport matplotlib.pyplot as plt\\nimport seaborn as sns\\nfrom sklearn.feature_extraction.text import CountVectorizer\\nimport pandas as pd\\nimport sys'); }\n",
       "    "
      ],
      "text/plain": [
       "<IPython.core.display.Javascript object>"
      ]
     },
     "metadata": {},
     "output_type": "display_data"
    },
    {
     "data": {
      "application/javascript": [
       "\n",
       "        if (window._pyforest_update_imports_cell) { window._pyforest_update_imports_cell('import re\\nimport numpy as np\\nimport matplotlib.pyplot as plt\\nimport seaborn as sns\\nfrom sklearn.feature_extraction.text import CountVectorizer\\nimport pandas as pd\\nimport sys'); }\n",
       "    "
      ],
      "text/plain": [
       "<IPython.core.display.Javascript object>"
      ]
     },
     "metadata": {},
     "output_type": "display_data"
    },
    {
     "data": {
      "application/javascript": [
       "\n",
       "        if (window._pyforest_update_imports_cell) { window._pyforest_update_imports_cell('import re\\nimport numpy as np\\nimport matplotlib.pyplot as plt\\nimport seaborn as sns\\nfrom sklearn.feature_extraction.text import CountVectorizer\\nimport pandas as pd\\nimport sys'); }\n",
       "    "
      ],
      "text/plain": [
       "<IPython.core.display.Javascript object>"
      ]
     },
     "metadata": {},
     "output_type": "display_data"
    },
    {
     "data": {
      "application/javascript": [
       "\n",
       "        if (window._pyforest_update_imports_cell) { window._pyforest_update_imports_cell('import re\\nimport numpy as np\\nimport matplotlib.pyplot as plt\\nimport seaborn as sns\\nfrom sklearn.feature_extraction.text import CountVectorizer\\nimport pandas as pd\\nimport sys'); }\n",
       "    "
      ],
      "text/plain": [
       "<IPython.core.display.Javascript object>"
      ]
     },
     "metadata": {},
     "output_type": "display_data"
    },
    {
     "data": {
      "application/javascript": [
       "\n",
       "        if (window._pyforest_update_imports_cell) { window._pyforest_update_imports_cell('import re\\nimport numpy as np\\nimport matplotlib.pyplot as plt\\nimport seaborn as sns\\nfrom sklearn.feature_extraction.text import CountVectorizer\\nimport pandas as pd\\nimport sys'); }\n",
       "    "
      ],
      "text/plain": [
       "<IPython.core.display.Javascript object>"
      ]
     },
     "metadata": {},
     "output_type": "display_data"
    },
    {
     "data": {
      "application/javascript": [
       "\n",
       "        if (window._pyforest_update_imports_cell) { window._pyforest_update_imports_cell('import re\\nimport numpy as np\\nimport matplotlib.pyplot as plt\\nimport seaborn as sns\\nfrom sklearn.feature_extraction.text import CountVectorizer\\nimport pandas as pd\\nimport sys'); }\n",
       "    "
      ],
      "text/plain": [
       "<IPython.core.display.Javascript object>"
      ]
     },
     "metadata": {},
     "output_type": "display_data"
    },
    {
     "data": {
      "application/javascript": [
       "\n",
       "        if (window._pyforest_update_imports_cell) { window._pyforest_update_imports_cell('import re\\nimport numpy as np\\nimport matplotlib.pyplot as plt\\nimport seaborn as sns\\nfrom sklearn.feature_extraction.text import CountVectorizer\\nimport pandas as pd\\nimport sys'); }\n",
       "    "
      ],
      "text/plain": [
       "<IPython.core.display.Javascript object>"
      ]
     },
     "metadata": {},
     "output_type": "display_data"
    },
    {
     "data": {
      "application/javascript": [
       "\n",
       "        if (window._pyforest_update_imports_cell) { window._pyforest_update_imports_cell('import re\\nimport numpy as np\\nimport matplotlib.pyplot as plt\\nimport seaborn as sns\\nfrom sklearn.feature_extraction.text import CountVectorizer\\nimport pandas as pd\\nimport sys'); }\n",
       "    "
      ],
      "text/plain": [
       "<IPython.core.display.Javascript object>"
      ]
     },
     "metadata": {},
     "output_type": "display_data"
    },
    {
     "data": {
      "application/javascript": [
       "\n",
       "        if (window._pyforest_update_imports_cell) { window._pyforest_update_imports_cell('import re\\nimport numpy as np\\nimport matplotlib.pyplot as plt\\nimport seaborn as sns\\nfrom sklearn.feature_extraction.text import CountVectorizer\\nimport pandas as pd\\nimport sys'); }\n",
       "    "
      ],
      "text/plain": [
       "<IPython.core.display.Javascript object>"
      ]
     },
     "metadata": {},
     "output_type": "display_data"
    },
    {
     "data": {
      "application/javascript": [
       "\n",
       "        if (window._pyforest_update_imports_cell) { window._pyforest_update_imports_cell('import re\\nimport numpy as np\\nimport matplotlib.pyplot as plt\\nimport seaborn as sns\\nfrom sklearn.feature_extraction.text import CountVectorizer\\nimport pandas as pd\\nimport sys'); }\n",
       "    "
      ],
      "text/plain": [
       "<IPython.core.display.Javascript object>"
      ]
     },
     "metadata": {},
     "output_type": "display_data"
    },
    {
     "data": {
      "application/javascript": [
       "\n",
       "        if (window._pyforest_update_imports_cell) { window._pyforest_update_imports_cell('import re\\nimport numpy as np\\nimport matplotlib.pyplot as plt\\nimport seaborn as sns\\nfrom sklearn.feature_extraction.text import CountVectorizer\\nimport pandas as pd\\nimport sys'); }\n",
       "    "
      ],
      "text/plain": [
       "<IPython.core.display.Javascript object>"
      ]
     },
     "metadata": {},
     "output_type": "display_data"
    },
    {
     "data": {
      "application/javascript": [
       "\n",
       "        if (window._pyforest_update_imports_cell) { window._pyforest_update_imports_cell('import re\\nimport numpy as np\\nimport matplotlib.pyplot as plt\\nimport seaborn as sns\\nfrom sklearn.feature_extraction.text import CountVectorizer\\nimport pandas as pd\\nimport sys'); }\n",
       "    "
      ],
      "text/plain": [
       "<IPython.core.display.Javascript object>"
      ]
     },
     "metadata": {},
     "output_type": "display_data"
    },
    {
     "data": {
      "application/javascript": [
       "\n",
       "        if (window._pyforest_update_imports_cell) { window._pyforest_update_imports_cell('import re\\nimport numpy as np\\nimport matplotlib.pyplot as plt\\nimport seaborn as sns\\nfrom sklearn.feature_extraction.text import CountVectorizer\\nimport pandas as pd\\nimport sys'); }\n",
       "    "
      ],
      "text/plain": [
       "<IPython.core.display.Javascript object>"
      ]
     },
     "metadata": {},
     "output_type": "display_data"
    },
    {
     "data": {
      "application/javascript": [
       "\n",
       "        if (window._pyforest_update_imports_cell) { window._pyforest_update_imports_cell('import re\\nimport numpy as np\\nimport matplotlib.pyplot as plt\\nimport seaborn as sns\\nfrom sklearn.feature_extraction.text import CountVectorizer\\nimport pandas as pd\\nimport sys'); }\n",
       "    "
      ],
      "text/plain": [
       "<IPython.core.display.Javascript object>"
      ]
     },
     "metadata": {},
     "output_type": "display_data"
    },
    {
     "data": {
      "application/javascript": [
       "\n",
       "        if (window._pyforest_update_imports_cell) { window._pyforest_update_imports_cell('import re\\nimport numpy as np\\nimport matplotlib.pyplot as plt\\nimport seaborn as sns\\nfrom sklearn.feature_extraction.text import CountVectorizer\\nimport pandas as pd\\nimport sys'); }\n",
       "    "
      ],
      "text/plain": [
       "<IPython.core.display.Javascript object>"
      ]
     },
     "metadata": {},
     "output_type": "display_data"
    },
    {
     "data": {
      "application/javascript": [
       "\n",
       "        if (window._pyforest_update_imports_cell) { window._pyforest_update_imports_cell('import re\\nimport numpy as np\\nimport matplotlib.pyplot as plt\\nimport seaborn as sns\\nfrom sklearn.feature_extraction.text import CountVectorizer\\nimport pandas as pd\\nimport sys'); }\n",
       "    "
      ],
      "text/plain": [
       "<IPython.core.display.Javascript object>"
      ]
     },
     "metadata": {},
     "output_type": "display_data"
    },
    {
     "data": {
      "application/javascript": [
       "\n",
       "        if (window._pyforest_update_imports_cell) { window._pyforest_update_imports_cell('import re\\nimport numpy as np\\nimport matplotlib.pyplot as plt\\nimport seaborn as sns\\nfrom sklearn.feature_extraction.text import CountVectorizer\\nimport pandas as pd\\nimport sys'); }\n",
       "    "
      ],
      "text/plain": [
       "<IPython.core.display.Javascript object>"
      ]
     },
     "metadata": {},
     "output_type": "display_data"
    },
    {
     "data": {
      "application/javascript": [
       "\n",
       "        if (window._pyforest_update_imports_cell) { window._pyforest_update_imports_cell('import re\\nimport numpy as np\\nimport matplotlib.pyplot as plt\\nimport seaborn as sns\\nfrom sklearn.feature_extraction.text import CountVectorizer\\nimport pandas as pd\\nimport sys'); }\n",
       "    "
      ],
      "text/plain": [
       "<IPython.core.display.Javascript object>"
      ]
     },
     "metadata": {},
     "output_type": "display_data"
    },
    {
     "data": {
      "application/javascript": [
       "\n",
       "        if (window._pyforest_update_imports_cell) { window._pyforest_update_imports_cell('import re\\nimport numpy as np\\nimport matplotlib.pyplot as plt\\nimport seaborn as sns\\nfrom sklearn.feature_extraction.text import CountVectorizer\\nimport pandas as pd\\nimport sys'); }\n",
       "    "
      ],
      "text/plain": [
       "<IPython.core.display.Javascript object>"
      ]
     },
     "metadata": {},
     "output_type": "display_data"
    },
    {
     "data": {
      "application/javascript": [
       "\n",
       "        if (window._pyforest_update_imports_cell) { window._pyforest_update_imports_cell('import re\\nimport numpy as np\\nimport matplotlib.pyplot as plt\\nimport seaborn as sns\\nfrom sklearn.feature_extraction.text import CountVectorizer\\nimport pandas as pd\\nimport sys'); }\n",
       "    "
      ],
      "text/plain": [
       "<IPython.core.display.Javascript object>"
      ]
     },
     "metadata": {},
     "output_type": "display_data"
    },
    {
     "data": {
      "application/javascript": [
       "\n",
       "        if (window._pyforest_update_imports_cell) { window._pyforest_update_imports_cell('import re\\nimport numpy as np\\nimport matplotlib.pyplot as plt\\nimport seaborn as sns\\nfrom sklearn.feature_extraction.text import CountVectorizer\\nimport pandas as pd\\nimport sys'); }\n",
       "    "
      ],
      "text/plain": [
       "<IPython.core.display.Javascript object>"
      ]
     },
     "metadata": {},
     "output_type": "display_data"
    },
    {
     "data": {
      "application/javascript": [
       "\n",
       "        if (window._pyforest_update_imports_cell) { window._pyforest_update_imports_cell('import re\\nimport numpy as np\\nimport matplotlib.pyplot as plt\\nimport seaborn as sns\\nfrom sklearn.feature_extraction.text import CountVectorizer\\nimport pandas as pd\\nimport sys'); }\n",
       "    "
      ],
      "text/plain": [
       "<IPython.core.display.Javascript object>"
      ]
     },
     "metadata": {},
     "output_type": "display_data"
    },
    {
     "data": {
      "application/javascript": [
       "\n",
       "        if (window._pyforest_update_imports_cell) { window._pyforest_update_imports_cell('import re\\nimport numpy as np\\nimport matplotlib.pyplot as plt\\nimport seaborn as sns\\nfrom sklearn.feature_extraction.text import CountVectorizer\\nimport pandas as pd\\nimport sys'); }\n",
       "    "
      ],
      "text/plain": [
       "<IPython.core.display.Javascript object>"
      ]
     },
     "metadata": {},
     "output_type": "display_data"
    },
    {
     "data": {
      "application/javascript": [
       "\n",
       "        if (window._pyforest_update_imports_cell) { window._pyforest_update_imports_cell('import re\\nimport numpy as np\\nimport matplotlib.pyplot as plt\\nimport seaborn as sns\\nfrom sklearn.feature_extraction.text import CountVectorizer\\nimport pandas as pd\\nimport sys'); }\n",
       "    "
      ],
      "text/plain": [
       "<IPython.core.display.Javascript object>"
      ]
     },
     "metadata": {},
     "output_type": "display_data"
    },
    {
     "data": {
      "application/javascript": [
       "\n",
       "        if (window._pyforest_update_imports_cell) { window._pyforest_update_imports_cell('import re\\nimport numpy as np\\nimport matplotlib.pyplot as plt\\nimport seaborn as sns\\nfrom sklearn.feature_extraction.text import CountVectorizer\\nimport pandas as pd\\nimport sys'); }\n",
       "    "
      ],
      "text/plain": [
       "<IPython.core.display.Javascript object>"
      ]
     },
     "metadata": {},
     "output_type": "display_data"
    },
    {
     "data": {
      "application/javascript": [
       "\n",
       "        if (window._pyforest_update_imports_cell) { window._pyforest_update_imports_cell('import re\\nimport numpy as np\\nimport matplotlib.pyplot as plt\\nimport seaborn as sns\\nfrom sklearn.feature_extraction.text import CountVectorizer\\nimport pandas as pd\\nimport sys'); }\n",
       "    "
      ],
      "text/plain": [
       "<IPython.core.display.Javascript object>"
      ]
     },
     "metadata": {},
     "output_type": "display_data"
    },
    {
     "data": {
      "application/javascript": [
       "\n",
       "        if (window._pyforest_update_imports_cell) { window._pyforest_update_imports_cell('import re\\nimport numpy as np\\nimport matplotlib.pyplot as plt\\nimport seaborn as sns\\nfrom sklearn.feature_extraction.text import CountVectorizer\\nimport pandas as pd\\nimport sys'); }\n",
       "    "
      ],
      "text/plain": [
       "<IPython.core.display.Javascript object>"
      ]
     },
     "metadata": {},
     "output_type": "display_data"
    },
    {
     "data": {
      "application/javascript": [
       "\n",
       "        if (window._pyforest_update_imports_cell) { window._pyforest_update_imports_cell('import re\\nimport numpy as np\\nimport matplotlib.pyplot as plt\\nimport seaborn as sns\\nfrom sklearn.feature_extraction.text import CountVectorizer\\nimport pandas as pd\\nimport sys'); }\n",
       "    "
      ],
      "text/plain": [
       "<IPython.core.display.Javascript object>"
      ]
     },
     "metadata": {},
     "output_type": "display_data"
    },
    {
     "data": {
      "application/javascript": [
       "\n",
       "        if (window._pyforest_update_imports_cell) { window._pyforest_update_imports_cell('import re\\nimport numpy as np\\nimport matplotlib.pyplot as plt\\nimport seaborn as sns\\nfrom sklearn.feature_extraction.text import CountVectorizer\\nimport pandas as pd\\nimport sys'); }\n",
       "    "
      ],
      "text/plain": [
       "<IPython.core.display.Javascript object>"
      ]
     },
     "metadata": {},
     "output_type": "display_data"
    },
    {
     "data": {
      "application/javascript": [
       "\n",
       "        if (window._pyforest_update_imports_cell) { window._pyforest_update_imports_cell('import re\\nimport numpy as np\\nimport matplotlib.pyplot as plt\\nimport seaborn as sns\\nfrom sklearn.feature_extraction.text import CountVectorizer\\nimport pandas as pd\\nimport sys'); }\n",
       "    "
      ],
      "text/plain": [
       "<IPython.core.display.Javascript object>"
      ]
     },
     "metadata": {},
     "output_type": "display_data"
    },
    {
     "data": {
      "application/javascript": [
       "\n",
       "        if (window._pyforest_update_imports_cell) { window._pyforest_update_imports_cell('import re\\nimport numpy as np\\nimport matplotlib.pyplot as plt\\nimport seaborn as sns\\nfrom sklearn.feature_extraction.text import CountVectorizer\\nimport pandas as pd\\nimport sys'); }\n",
       "    "
      ],
      "text/plain": [
       "<IPython.core.display.Javascript object>"
      ]
     },
     "metadata": {},
     "output_type": "display_data"
    },
    {
     "data": {
      "application/javascript": [
       "\n",
       "        if (window._pyforest_update_imports_cell) { window._pyforest_update_imports_cell('import re\\nimport numpy as np\\nimport matplotlib.pyplot as plt\\nimport seaborn as sns\\nfrom sklearn.feature_extraction.text import CountVectorizer\\nimport pandas as pd\\nimport sys'); }\n",
       "    "
      ],
      "text/plain": [
       "<IPython.core.display.Javascript object>"
      ]
     },
     "metadata": {},
     "output_type": "display_data"
    },
    {
     "data": {
      "application/javascript": [
       "\n",
       "        if (window._pyforest_update_imports_cell) { window._pyforest_update_imports_cell('import re\\nimport numpy as np\\nimport matplotlib.pyplot as plt\\nimport seaborn as sns\\nfrom sklearn.feature_extraction.text import CountVectorizer\\nimport pandas as pd\\nimport sys'); }\n",
       "    "
      ],
      "text/plain": [
       "<IPython.core.display.Javascript object>"
      ]
     },
     "metadata": {},
     "output_type": "display_data"
    },
    {
     "data": {
      "application/javascript": [
       "\n",
       "        if (window._pyforest_update_imports_cell) { window._pyforest_update_imports_cell('import re\\nimport numpy as np\\nimport matplotlib.pyplot as plt\\nimport seaborn as sns\\nfrom sklearn.feature_extraction.text import CountVectorizer\\nimport pandas as pd\\nimport sys'); }\n",
       "    "
      ],
      "text/plain": [
       "<IPython.core.display.Javascript object>"
      ]
     },
     "metadata": {},
     "output_type": "display_data"
    },
    {
     "data": {
      "application/javascript": [
       "\n",
       "        if (window._pyforest_update_imports_cell) { window._pyforest_update_imports_cell('import re\\nimport numpy as np\\nimport matplotlib.pyplot as plt\\nimport seaborn as sns\\nfrom sklearn.feature_extraction.text import CountVectorizer\\nimport pandas as pd\\nimport sys'); }\n",
       "    "
      ],
      "text/plain": [
       "<IPython.core.display.Javascript object>"
      ]
     },
     "metadata": {},
     "output_type": "display_data"
    },
    {
     "data": {
      "application/javascript": [
       "\n",
       "        if (window._pyforest_update_imports_cell) { window._pyforest_update_imports_cell('import re\\nimport numpy as np\\nimport matplotlib.pyplot as plt\\nimport seaborn as sns\\nfrom sklearn.feature_extraction.text import CountVectorizer\\nimport pandas as pd\\nimport sys'); }\n",
       "    "
      ],
      "text/plain": [
       "<IPython.core.display.Javascript object>"
      ]
     },
     "metadata": {},
     "output_type": "display_data"
    },
    {
     "data": {
      "application/javascript": [
       "\n",
       "        if (window._pyforest_update_imports_cell) { window._pyforest_update_imports_cell('import re\\nimport numpy as np\\nimport matplotlib.pyplot as plt\\nimport seaborn as sns\\nfrom sklearn.feature_extraction.text import CountVectorizer\\nimport pandas as pd\\nimport sys'); }\n",
       "    "
      ],
      "text/plain": [
       "<IPython.core.display.Javascript object>"
      ]
     },
     "metadata": {},
     "output_type": "display_data"
    },
    {
     "data": {
      "application/javascript": [
       "\n",
       "        if (window._pyforest_update_imports_cell) { window._pyforest_update_imports_cell('import re\\nimport numpy as np\\nimport matplotlib.pyplot as plt\\nimport seaborn as sns\\nfrom sklearn.feature_extraction.text import CountVectorizer\\nimport pandas as pd\\nimport sys'); }\n",
       "    "
      ],
      "text/plain": [
       "<IPython.core.display.Javascript object>"
      ]
     },
     "metadata": {},
     "output_type": "display_data"
    },
    {
     "data": {
      "application/javascript": [
       "\n",
       "        if (window._pyforest_update_imports_cell) { window._pyforest_update_imports_cell('import re\\nimport numpy as np\\nimport matplotlib.pyplot as plt\\nimport seaborn as sns\\nfrom sklearn.feature_extraction.text import CountVectorizer\\nimport pandas as pd\\nimport sys'); }\n",
       "    "
      ],
      "text/plain": [
       "<IPython.core.display.Javascript object>"
      ]
     },
     "metadata": {},
     "output_type": "display_data"
    },
    {
     "data": {
      "application/javascript": [
       "\n",
       "        if (window._pyforest_update_imports_cell) { window._pyforest_update_imports_cell('import re\\nimport numpy as np\\nimport matplotlib.pyplot as plt\\nimport seaborn as sns\\nfrom sklearn.feature_extraction.text import CountVectorizer\\nimport pandas as pd\\nimport sys'); }\n",
       "    "
      ],
      "text/plain": [
       "<IPython.core.display.Javascript object>"
      ]
     },
     "metadata": {},
     "output_type": "display_data"
    },
    {
     "data": {
      "application/javascript": [
       "\n",
       "        if (window._pyforest_update_imports_cell) { window._pyforest_update_imports_cell('import re\\nimport numpy as np\\nimport matplotlib.pyplot as plt\\nimport seaborn as sns\\nfrom sklearn.feature_extraction.text import CountVectorizer\\nimport pandas as pd\\nimport sys'); }\n",
       "    "
      ],
      "text/plain": [
       "<IPython.core.display.Javascript object>"
      ]
     },
     "metadata": {},
     "output_type": "display_data"
    },
    {
     "data": {
      "application/javascript": [
       "\n",
       "        if (window._pyforest_update_imports_cell) { window._pyforest_update_imports_cell('import re\\nimport numpy as np\\nimport matplotlib.pyplot as plt\\nimport seaborn as sns\\nfrom sklearn.feature_extraction.text import CountVectorizer\\nimport pandas as pd\\nimport sys'); }\n",
       "    "
      ],
      "text/plain": [
       "<IPython.core.display.Javascript object>"
      ]
     },
     "metadata": {},
     "output_type": "display_data"
    },
    {
     "data": {
      "application/javascript": [
       "\n",
       "        if (window._pyforest_update_imports_cell) { window._pyforest_update_imports_cell('import re\\nimport numpy as np\\nimport matplotlib.pyplot as plt\\nimport seaborn as sns\\nfrom sklearn.feature_extraction.text import CountVectorizer\\nimport pandas as pd\\nimport sys'); }\n",
       "    "
      ],
      "text/plain": [
       "<IPython.core.display.Javascript object>"
      ]
     },
     "metadata": {},
     "output_type": "display_data"
    },
    {
     "data": {
      "application/javascript": [
       "\n",
       "        if (window._pyforest_update_imports_cell) { window._pyforest_update_imports_cell('import re\\nimport numpy as np\\nimport matplotlib.pyplot as plt\\nimport seaborn as sns\\nfrom sklearn.feature_extraction.text import CountVectorizer\\nimport pandas as pd\\nimport sys'); }\n",
       "    "
      ],
      "text/plain": [
       "<IPython.core.display.Javascript object>"
      ]
     },
     "metadata": {},
     "output_type": "display_data"
    },
    {
     "data": {
      "application/javascript": [
       "\n",
       "        if (window._pyforest_update_imports_cell) { window._pyforest_update_imports_cell('import re\\nimport numpy as np\\nimport matplotlib.pyplot as plt\\nimport seaborn as sns\\nfrom sklearn.feature_extraction.text import CountVectorizer\\nimport pandas as pd\\nimport sys'); }\n",
       "    "
      ],
      "text/plain": [
       "<IPython.core.display.Javascript object>"
      ]
     },
     "metadata": {},
     "output_type": "display_data"
    },
    {
     "data": {
      "application/javascript": [
       "\n",
       "        if (window._pyforest_update_imports_cell) { window._pyforest_update_imports_cell('import re\\nimport numpy as np\\nimport matplotlib.pyplot as plt\\nimport seaborn as sns\\nfrom sklearn.feature_extraction.text import CountVectorizer\\nimport pandas as pd\\nimport sys'); }\n",
       "    "
      ],
      "text/plain": [
       "<IPython.core.display.Javascript object>"
      ]
     },
     "metadata": {},
     "output_type": "display_data"
    },
    {
     "data": {
      "application/javascript": [
       "\n",
       "        if (window._pyforest_update_imports_cell) { window._pyforest_update_imports_cell('import re\\nimport numpy as np\\nimport matplotlib.pyplot as plt\\nimport seaborn as sns\\nfrom sklearn.feature_extraction.text import CountVectorizer\\nimport pandas as pd\\nimport sys'); }\n",
       "    "
      ],
      "text/plain": [
       "<IPython.core.display.Javascript object>"
      ]
     },
     "metadata": {},
     "output_type": "display_data"
    },
    {
     "data": {
      "application/javascript": [
       "\n",
       "        if (window._pyforest_update_imports_cell) { window._pyforest_update_imports_cell('import re\\nimport numpy as np\\nimport matplotlib.pyplot as plt\\nimport seaborn as sns\\nfrom sklearn.feature_extraction.text import CountVectorizer\\nimport pandas as pd\\nimport sys'); }\n",
       "    "
      ],
      "text/plain": [
       "<IPython.core.display.Javascript object>"
      ]
     },
     "metadata": {},
     "output_type": "display_data"
    },
    {
     "data": {
      "application/javascript": [
       "\n",
       "        if (window._pyforest_update_imports_cell) { window._pyforest_update_imports_cell('import re\\nimport numpy as np\\nimport matplotlib.pyplot as plt\\nimport seaborn as sns\\nfrom sklearn.feature_extraction.text import CountVectorizer\\nimport pandas as pd\\nimport sys'); }\n",
       "    "
      ],
      "text/plain": [
       "<IPython.core.display.Javascript object>"
      ]
     },
     "metadata": {},
     "output_type": "display_data"
    },
    {
     "data": {
      "application/javascript": [
       "\n",
       "        if (window._pyforest_update_imports_cell) { window._pyforest_update_imports_cell('import re\\nimport numpy as np\\nimport matplotlib.pyplot as plt\\nimport seaborn as sns\\nfrom sklearn.feature_extraction.text import CountVectorizer\\nimport pandas as pd\\nimport sys'); }\n",
       "    "
      ],
      "text/plain": [
       "<IPython.core.display.Javascript object>"
      ]
     },
     "metadata": {},
     "output_type": "display_data"
    },
    {
     "data": {
      "application/javascript": [
       "\n",
       "        if (window._pyforest_update_imports_cell) { window._pyforest_update_imports_cell('import re\\nimport numpy as np\\nimport matplotlib.pyplot as plt\\nimport seaborn as sns\\nfrom sklearn.feature_extraction.text import CountVectorizer\\nimport pandas as pd\\nimport sys'); }\n",
       "    "
      ],
      "text/plain": [
       "<IPython.core.display.Javascript object>"
      ]
     },
     "metadata": {},
     "output_type": "display_data"
    },
    {
     "data": {
      "application/javascript": [
       "\n",
       "        if (window._pyforest_update_imports_cell) { window._pyforest_update_imports_cell('import re\\nimport numpy as np\\nimport matplotlib.pyplot as plt\\nimport seaborn as sns\\nfrom sklearn.feature_extraction.text import CountVectorizer\\nimport pandas as pd\\nimport sys'); }\n",
       "    "
      ],
      "text/plain": [
       "<IPython.core.display.Javascript object>"
      ]
     },
     "metadata": {},
     "output_type": "display_data"
    },
    {
     "data": {
      "application/javascript": [
       "\n",
       "        if (window._pyforest_update_imports_cell) { window._pyforest_update_imports_cell('import re\\nimport numpy as np\\nimport matplotlib.pyplot as plt\\nimport seaborn as sns\\nfrom sklearn.feature_extraction.text import CountVectorizer\\nimport pandas as pd\\nimport sys'); }\n",
       "    "
      ],
      "text/plain": [
       "<IPython.core.display.Javascript object>"
      ]
     },
     "metadata": {},
     "output_type": "display_data"
    },
    {
     "data": {
      "application/javascript": [
       "\n",
       "        if (window._pyforest_update_imports_cell) { window._pyforest_update_imports_cell('import re\\nimport numpy as np\\nimport matplotlib.pyplot as plt\\nimport seaborn as sns\\nfrom sklearn.feature_extraction.text import CountVectorizer\\nimport pandas as pd\\nimport sys'); }\n",
       "    "
      ],
      "text/plain": [
       "<IPython.core.display.Javascript object>"
      ]
     },
     "metadata": {},
     "output_type": "display_data"
    },
    {
     "data": {
      "application/javascript": [
       "\n",
       "        if (window._pyforest_update_imports_cell) { window._pyforest_update_imports_cell('import re\\nimport numpy as np\\nimport matplotlib.pyplot as plt\\nimport seaborn as sns\\nfrom sklearn.feature_extraction.text import CountVectorizer\\nimport pandas as pd\\nimport sys'); }\n",
       "    "
      ],
      "text/plain": [
       "<IPython.core.display.Javascript object>"
      ]
     },
     "metadata": {},
     "output_type": "display_data"
    },
    {
     "data": {
      "application/javascript": [
       "\n",
       "        if (window._pyforest_update_imports_cell) { window._pyforest_update_imports_cell('import re\\nimport numpy as np\\nimport matplotlib.pyplot as plt\\nimport seaborn as sns\\nfrom sklearn.feature_extraction.text import CountVectorizer\\nimport pandas as pd\\nimport sys'); }\n",
       "    "
      ],
      "text/plain": [
       "<IPython.core.display.Javascript object>"
      ]
     },
     "metadata": {},
     "output_type": "display_data"
    },
    {
     "data": {
      "application/javascript": [
       "\n",
       "        if (window._pyforest_update_imports_cell) { window._pyforest_update_imports_cell('import re\\nimport numpy as np\\nimport matplotlib.pyplot as plt\\nimport seaborn as sns\\nfrom sklearn.feature_extraction.text import CountVectorizer\\nimport pandas as pd\\nimport sys'); }\n",
       "    "
      ],
      "text/plain": [
       "<IPython.core.display.Javascript object>"
      ]
     },
     "metadata": {},
     "output_type": "display_data"
    },
    {
     "data": {
      "application/javascript": [
       "\n",
       "        if (window._pyforest_update_imports_cell) { window._pyforest_update_imports_cell('import re\\nimport numpy as np\\nimport matplotlib.pyplot as plt\\nimport seaborn as sns\\nfrom sklearn.feature_extraction.text import CountVectorizer\\nimport pandas as pd\\nimport sys'); }\n",
       "    "
      ],
      "text/plain": [
       "<IPython.core.display.Javascript object>"
      ]
     },
     "metadata": {},
     "output_type": "display_data"
    },
    {
     "data": {
      "application/javascript": [
       "\n",
       "        if (window._pyforest_update_imports_cell) { window._pyforest_update_imports_cell('import re\\nimport numpy as np\\nimport matplotlib.pyplot as plt\\nimport seaborn as sns\\nfrom sklearn.feature_extraction.text import CountVectorizer\\nimport pandas as pd\\nimport sys'); }\n",
       "    "
      ],
      "text/plain": [
       "<IPython.core.display.Javascript object>"
      ]
     },
     "metadata": {},
     "output_type": "display_data"
    },
    {
     "data": {
      "application/javascript": [
       "\n",
       "        if (window._pyforest_update_imports_cell) { window._pyforest_update_imports_cell('import re\\nimport numpy as np\\nimport matplotlib.pyplot as plt\\nimport seaborn as sns\\nfrom sklearn.feature_extraction.text import CountVectorizer\\nimport pandas as pd\\nimport sys'); }\n",
       "    "
      ],
      "text/plain": [
       "<IPython.core.display.Javascript object>"
      ]
     },
     "metadata": {},
     "output_type": "display_data"
    },
    {
     "data": {
      "application/javascript": [
       "\n",
       "        if (window._pyforest_update_imports_cell) { window._pyforest_update_imports_cell('import re\\nimport numpy as np\\nimport matplotlib.pyplot as plt\\nimport seaborn as sns\\nfrom sklearn.feature_extraction.text import CountVectorizer\\nimport pandas as pd\\nimport sys'); }\n",
       "    "
      ],
      "text/plain": [
       "<IPython.core.display.Javascript object>"
      ]
     },
     "metadata": {},
     "output_type": "display_data"
    },
    {
     "data": {
      "application/javascript": [
       "\n",
       "        if (window._pyforest_update_imports_cell) { window._pyforest_update_imports_cell('import re\\nimport numpy as np\\nimport matplotlib.pyplot as plt\\nimport seaborn as sns\\nfrom sklearn.feature_extraction.text import CountVectorizer\\nimport pandas as pd\\nimport sys'); }\n",
       "    "
      ],
      "text/plain": [
       "<IPython.core.display.Javascript object>"
      ]
     },
     "metadata": {},
     "output_type": "display_data"
    },
    {
     "data": {
      "application/javascript": [
       "\n",
       "        if (window._pyforest_update_imports_cell) { window._pyforest_update_imports_cell('import re\\nimport numpy as np\\nimport matplotlib.pyplot as plt\\nimport seaborn as sns\\nfrom sklearn.feature_extraction.text import CountVectorizer\\nimport pandas as pd\\nimport sys'); }\n",
       "    "
      ],
      "text/plain": [
       "<IPython.core.display.Javascript object>"
      ]
     },
     "metadata": {},
     "output_type": "display_data"
    },
    {
     "data": {
      "application/javascript": [
       "\n",
       "        if (window._pyforest_update_imports_cell) { window._pyforest_update_imports_cell('import re\\nimport numpy as np\\nimport matplotlib.pyplot as plt\\nimport seaborn as sns\\nfrom sklearn.feature_extraction.text import CountVectorizer\\nimport pandas as pd\\nimport sys'); }\n",
       "    "
      ],
      "text/plain": [
       "<IPython.core.display.Javascript object>"
      ]
     },
     "metadata": {},
     "output_type": "display_data"
    },
    {
     "data": {
      "application/javascript": [
       "\n",
       "        if (window._pyforest_update_imports_cell) { window._pyforest_update_imports_cell('import re\\nimport numpy as np\\nimport matplotlib.pyplot as plt\\nimport seaborn as sns\\nfrom sklearn.feature_extraction.text import CountVectorizer\\nimport pandas as pd\\nimport sys'); }\n",
       "    "
      ],
      "text/plain": [
       "<IPython.core.display.Javascript object>"
      ]
     },
     "metadata": {},
     "output_type": "display_data"
    },
    {
     "data": {
      "application/javascript": [
       "\n",
       "        if (window._pyforest_update_imports_cell) { window._pyforest_update_imports_cell('import re\\nimport numpy as np\\nimport matplotlib.pyplot as plt\\nimport seaborn as sns\\nfrom sklearn.feature_extraction.text import CountVectorizer\\nimport pandas as pd\\nimport sys'); }\n",
       "    "
      ],
      "text/plain": [
       "<IPython.core.display.Javascript object>"
      ]
     },
     "metadata": {},
     "output_type": "display_data"
    },
    {
     "data": {
      "application/javascript": [
       "\n",
       "        if (window._pyforest_update_imports_cell) { window._pyforest_update_imports_cell('import re\\nimport numpy as np\\nimport matplotlib.pyplot as plt\\nimport seaborn as sns\\nfrom sklearn.feature_extraction.text import CountVectorizer\\nimport pandas as pd\\nimport sys'); }\n",
       "    "
      ],
      "text/plain": [
       "<IPython.core.display.Javascript object>"
      ]
     },
     "metadata": {},
     "output_type": "display_data"
    },
    {
     "data": {
      "application/javascript": [
       "\n",
       "        if (window._pyforest_update_imports_cell) { window._pyforest_update_imports_cell('import re\\nimport numpy as np\\nimport matplotlib.pyplot as plt\\nimport seaborn as sns\\nfrom sklearn.feature_extraction.text import CountVectorizer\\nimport pandas as pd\\nimport sys'); }\n",
       "    "
      ],
      "text/plain": [
       "<IPython.core.display.Javascript object>"
      ]
     },
     "metadata": {},
     "output_type": "display_data"
    },
    {
     "data": {
      "application/javascript": [
       "\n",
       "        if (window._pyforest_update_imports_cell) { window._pyforest_update_imports_cell('import re\\nimport numpy as np\\nimport matplotlib.pyplot as plt\\nimport seaborn as sns\\nfrom sklearn.feature_extraction.text import CountVectorizer\\nimport pandas as pd\\nimport sys'); }\n",
       "    "
      ],
      "text/plain": [
       "<IPython.core.display.Javascript object>"
      ]
     },
     "metadata": {},
     "output_type": "display_data"
    },
    {
     "data": {
      "application/javascript": [
       "\n",
       "        if (window._pyforest_update_imports_cell) { window._pyforest_update_imports_cell('import re\\nimport numpy as np\\nimport matplotlib.pyplot as plt\\nimport seaborn as sns\\nfrom sklearn.feature_extraction.text import CountVectorizer\\nimport pandas as pd\\nimport sys'); }\n",
       "    "
      ],
      "text/plain": [
       "<IPython.core.display.Javascript object>"
      ]
     },
     "metadata": {},
     "output_type": "display_data"
    },
    {
     "data": {
      "application/javascript": [
       "\n",
       "        if (window._pyforest_update_imports_cell) { window._pyforest_update_imports_cell('import re\\nimport numpy as np\\nimport matplotlib.pyplot as plt\\nimport seaborn as sns\\nfrom sklearn.feature_extraction.text import CountVectorizer\\nimport pandas as pd\\nimport sys'); }\n",
       "    "
      ],
      "text/plain": [
       "<IPython.core.display.Javascript object>"
      ]
     },
     "metadata": {},
     "output_type": "display_data"
    },
    {
     "data": {
      "application/javascript": [
       "\n",
       "        if (window._pyforest_update_imports_cell) { window._pyforest_update_imports_cell('import re\\nimport numpy as np\\nimport matplotlib.pyplot as plt\\nimport seaborn as sns\\nfrom sklearn.feature_extraction.text import CountVectorizer\\nimport pandas as pd\\nimport sys'); }\n",
       "    "
      ],
      "text/plain": [
       "<IPython.core.display.Javascript object>"
      ]
     },
     "metadata": {},
     "output_type": "display_data"
    },
    {
     "data": {
      "application/javascript": [
       "\n",
       "        if (window._pyforest_update_imports_cell) { window._pyforest_update_imports_cell('import re\\nimport numpy as np\\nimport matplotlib.pyplot as plt\\nimport seaborn as sns\\nfrom sklearn.feature_extraction.text import CountVectorizer\\nimport pandas as pd\\nimport sys'); }\n",
       "    "
      ],
      "text/plain": [
       "<IPython.core.display.Javascript object>"
      ]
     },
     "metadata": {},
     "output_type": "display_data"
    },
    {
     "data": {
      "application/javascript": [
       "\n",
       "        if (window._pyforest_update_imports_cell) { window._pyforest_update_imports_cell('import re\\nimport numpy as np\\nimport matplotlib.pyplot as plt\\nimport seaborn as sns\\nfrom sklearn.feature_extraction.text import CountVectorizer\\nimport pandas as pd\\nimport sys'); }\n",
       "    "
      ],
      "text/plain": [
       "<IPython.core.display.Javascript object>"
      ]
     },
     "metadata": {},
     "output_type": "display_data"
    },
    {
     "data": {
      "application/javascript": [
       "\n",
       "        if (window._pyforest_update_imports_cell) { window._pyforest_update_imports_cell('import re\\nimport numpy as np\\nimport matplotlib.pyplot as plt\\nimport seaborn as sns\\nfrom sklearn.feature_extraction.text import CountVectorizer\\nimport pandas as pd\\nimport sys'); }\n",
       "    "
      ],
      "text/plain": [
       "<IPython.core.display.Javascript object>"
      ]
     },
     "metadata": {},
     "output_type": "display_data"
    },
    {
     "data": {
      "application/javascript": [
       "\n",
       "        if (window._pyforest_update_imports_cell) { window._pyforest_update_imports_cell('import re\\nimport numpy as np\\nimport matplotlib.pyplot as plt\\nimport seaborn as sns\\nfrom sklearn.feature_extraction.text import CountVectorizer\\nimport pandas as pd\\nimport sys'); }\n",
       "    "
      ],
      "text/plain": [
       "<IPython.core.display.Javascript object>"
      ]
     },
     "metadata": {},
     "output_type": "display_data"
    },
    {
     "data": {
      "application/javascript": [
       "\n",
       "        if (window._pyforest_update_imports_cell) { window._pyforest_update_imports_cell('import re\\nimport numpy as np\\nimport matplotlib.pyplot as plt\\nimport seaborn as sns\\nfrom sklearn.feature_extraction.text import CountVectorizer\\nimport pandas as pd\\nimport sys'); }\n",
       "    "
      ],
      "text/plain": [
       "<IPython.core.display.Javascript object>"
      ]
     },
     "metadata": {},
     "output_type": "display_data"
    },
    {
     "data": {
      "application/javascript": [
       "\n",
       "        if (window._pyforest_update_imports_cell) { window._pyforest_update_imports_cell('import re\\nimport numpy as np\\nimport matplotlib.pyplot as plt\\nimport seaborn as sns\\nfrom sklearn.feature_extraction.text import CountVectorizer\\nimport pandas as pd\\nimport sys'); }\n",
       "    "
      ],
      "text/plain": [
       "<IPython.core.display.Javascript object>"
      ]
     },
     "metadata": {},
     "output_type": "display_data"
    },
    {
     "data": {
      "application/javascript": [
       "\n",
       "        if (window._pyforest_update_imports_cell) { window._pyforest_update_imports_cell('import re\\nimport numpy as np\\nimport matplotlib.pyplot as plt\\nimport seaborn as sns\\nfrom sklearn.feature_extraction.text import CountVectorizer\\nimport pandas as pd\\nimport sys'); }\n",
       "    "
      ],
      "text/plain": [
       "<IPython.core.display.Javascript object>"
      ]
     },
     "metadata": {},
     "output_type": "display_data"
    },
    {
     "data": {
      "application/javascript": [
       "\n",
       "        if (window._pyforest_update_imports_cell) { window._pyforest_update_imports_cell('import re\\nimport numpy as np\\nimport matplotlib.pyplot as plt\\nimport seaborn as sns\\nfrom sklearn.feature_extraction.text import CountVectorizer\\nimport pandas as pd\\nimport sys'); }\n",
       "    "
      ],
      "text/plain": [
       "<IPython.core.display.Javascript object>"
      ]
     },
     "metadata": {},
     "output_type": "display_data"
    },
    {
     "data": {
      "application/javascript": [
       "\n",
       "        if (window._pyforest_update_imports_cell) { window._pyforest_update_imports_cell('import re\\nimport numpy as np\\nimport matplotlib.pyplot as plt\\nimport seaborn as sns\\nfrom sklearn.feature_extraction.text import CountVectorizer\\nimport pandas as pd\\nimport sys'); }\n",
       "    "
      ],
      "text/plain": [
       "<IPython.core.display.Javascript object>"
      ]
     },
     "metadata": {},
     "output_type": "display_data"
    },
    {
     "data": {
      "application/javascript": [
       "\n",
       "        if (window._pyforest_update_imports_cell) { window._pyforest_update_imports_cell('import re\\nimport numpy as np\\nimport matplotlib.pyplot as plt\\nimport seaborn as sns\\nfrom sklearn.feature_extraction.text import CountVectorizer\\nimport pandas as pd\\nimport sys'); }\n",
       "    "
      ],
      "text/plain": [
       "<IPython.core.display.Javascript object>"
      ]
     },
     "metadata": {},
     "output_type": "display_data"
    },
    {
     "data": {
      "application/javascript": [
       "\n",
       "        if (window._pyforest_update_imports_cell) { window._pyforest_update_imports_cell('import re\\nimport numpy as np\\nimport matplotlib.pyplot as plt\\nimport seaborn as sns\\nfrom sklearn.feature_extraction.text import CountVectorizer\\nimport pandas as pd\\nimport sys'); }\n",
       "    "
      ],
      "text/plain": [
       "<IPython.core.display.Javascript object>"
      ]
     },
     "metadata": {},
     "output_type": "display_data"
    },
    {
     "data": {
      "application/javascript": [
       "\n",
       "        if (window._pyforest_update_imports_cell) { window._pyforest_update_imports_cell('import re\\nimport numpy as np\\nimport matplotlib.pyplot as plt\\nimport seaborn as sns\\nfrom sklearn.feature_extraction.text import CountVectorizer\\nimport pandas as pd\\nimport sys'); }\n",
       "    "
      ],
      "text/plain": [
       "<IPython.core.display.Javascript object>"
      ]
     },
     "metadata": {},
     "output_type": "display_data"
    },
    {
     "data": {
      "application/javascript": [
       "\n",
       "        if (window._pyforest_update_imports_cell) { window._pyforest_update_imports_cell('import re\\nimport numpy as np\\nimport matplotlib.pyplot as plt\\nimport seaborn as sns\\nfrom sklearn.feature_extraction.text import CountVectorizer\\nimport pandas as pd\\nimport sys'); }\n",
       "    "
      ],
      "text/plain": [
       "<IPython.core.display.Javascript object>"
      ]
     },
     "metadata": {},
     "output_type": "display_data"
    },
    {
     "data": {
      "application/javascript": [
       "\n",
       "        if (window._pyforest_update_imports_cell) { window._pyforest_update_imports_cell('import re\\nimport numpy as np\\nimport matplotlib.pyplot as plt\\nimport seaborn as sns\\nfrom sklearn.feature_extraction.text import CountVectorizer\\nimport pandas as pd\\nimport sys'); }\n",
       "    "
      ],
      "text/plain": [
       "<IPython.core.display.Javascript object>"
      ]
     },
     "metadata": {},
     "output_type": "display_data"
    },
    {
     "data": {
      "application/javascript": [
       "\n",
       "        if (window._pyforest_update_imports_cell) { window._pyforest_update_imports_cell('import re\\nimport numpy as np\\nimport matplotlib.pyplot as plt\\nimport seaborn as sns\\nfrom sklearn.feature_extraction.text import CountVectorizer\\nimport pandas as pd\\nimport sys'); }\n",
       "    "
      ],
      "text/plain": [
       "<IPython.core.display.Javascript object>"
      ]
     },
     "metadata": {},
     "output_type": "display_data"
    },
    {
     "data": {
      "application/javascript": [
       "\n",
       "        if (window._pyforest_update_imports_cell) { window._pyforest_update_imports_cell('import re\\nimport numpy as np\\nimport matplotlib.pyplot as plt\\nimport seaborn as sns\\nfrom sklearn.feature_extraction.text import CountVectorizer\\nimport pandas as pd\\nimport sys'); }\n",
       "    "
      ],
      "text/plain": [
       "<IPython.core.display.Javascript object>"
      ]
     },
     "metadata": {},
     "output_type": "display_data"
    },
    {
     "data": {
      "application/javascript": [
       "\n",
       "        if (window._pyforest_update_imports_cell) { window._pyforest_update_imports_cell('import re\\nimport numpy as np\\nimport matplotlib.pyplot as plt\\nimport seaborn as sns\\nfrom sklearn.feature_extraction.text import CountVectorizer\\nimport pandas as pd\\nimport sys'); }\n",
       "    "
      ],
      "text/plain": [
       "<IPython.core.display.Javascript object>"
      ]
     },
     "metadata": {},
     "output_type": "display_data"
    },
    {
     "data": {
      "application/javascript": [
       "\n",
       "        if (window._pyforest_update_imports_cell) { window._pyforest_update_imports_cell('import re\\nimport numpy as np\\nimport matplotlib.pyplot as plt\\nimport seaborn as sns\\nfrom sklearn.feature_extraction.text import CountVectorizer\\nimport pandas as pd\\nimport sys'); }\n",
       "    "
      ],
      "text/plain": [
       "<IPython.core.display.Javascript object>"
      ]
     },
     "metadata": {},
     "output_type": "display_data"
    },
    {
     "data": {
      "application/javascript": [
       "\n",
       "        if (window._pyforest_update_imports_cell) { window._pyforest_update_imports_cell('import re\\nimport numpy as np\\nimport matplotlib.pyplot as plt\\nimport seaborn as sns\\nfrom sklearn.feature_extraction.text import CountVectorizer\\nimport pandas as pd\\nimport sys'); }\n",
       "    "
      ],
      "text/plain": [
       "<IPython.core.display.Javascript object>"
      ]
     },
     "metadata": {},
     "output_type": "display_data"
    },
    {
     "data": {
      "application/javascript": [
       "\n",
       "        if (window._pyforest_update_imports_cell) { window._pyforest_update_imports_cell('import re\\nimport numpy as np\\nimport matplotlib.pyplot as plt\\nimport seaborn as sns\\nfrom sklearn.feature_extraction.text import CountVectorizer\\nimport pandas as pd\\nimport sys'); }\n",
       "    "
      ],
      "text/plain": [
       "<IPython.core.display.Javascript object>"
      ]
     },
     "metadata": {},
     "output_type": "display_data"
    },
    {
     "data": {
      "application/javascript": [
       "\n",
       "        if (window._pyforest_update_imports_cell) { window._pyforest_update_imports_cell('import re\\nimport numpy as np\\nimport matplotlib.pyplot as plt\\nimport seaborn as sns\\nfrom sklearn.feature_extraction.text import CountVectorizer\\nimport pandas as pd\\nimport sys'); }\n",
       "    "
      ],
      "text/plain": [
       "<IPython.core.display.Javascript object>"
      ]
     },
     "metadata": {},
     "output_type": "display_data"
    },
    {
     "data": {
      "application/javascript": [
       "\n",
       "        if (window._pyforest_update_imports_cell) { window._pyforest_update_imports_cell('import re\\nimport numpy as np\\nimport matplotlib.pyplot as plt\\nimport seaborn as sns\\nfrom sklearn.feature_extraction.text import CountVectorizer\\nimport pandas as pd\\nimport sys'); }\n",
       "    "
      ],
      "text/plain": [
       "<IPython.core.display.Javascript object>"
      ]
     },
     "metadata": {},
     "output_type": "display_data"
    },
    {
     "data": {
      "application/javascript": [
       "\n",
       "        if (window._pyforest_update_imports_cell) { window._pyforest_update_imports_cell('import re\\nimport numpy as np\\nimport matplotlib.pyplot as plt\\nimport seaborn as sns\\nfrom sklearn.feature_extraction.text import CountVectorizer\\nimport pandas as pd\\nimport sys'); }\n",
       "    "
      ],
      "text/plain": [
       "<IPython.core.display.Javascript object>"
      ]
     },
     "metadata": {},
     "output_type": "display_data"
    },
    {
     "data": {
      "application/javascript": [
       "\n",
       "        if (window._pyforest_update_imports_cell) { window._pyforest_update_imports_cell('import re\\nimport numpy as np\\nimport matplotlib.pyplot as plt\\nimport seaborn as sns\\nfrom sklearn.feature_extraction.text import CountVectorizer\\nimport pandas as pd\\nimport sys'); }\n",
       "    "
      ],
      "text/plain": [
       "<IPython.core.display.Javascript object>"
      ]
     },
     "metadata": {},
     "output_type": "display_data"
    },
    {
     "data": {
      "application/javascript": [
       "\n",
       "        if (window._pyforest_update_imports_cell) { window._pyforest_update_imports_cell('import re\\nimport numpy as np\\nimport matplotlib.pyplot as plt\\nimport seaborn as sns\\nfrom sklearn.feature_extraction.text import CountVectorizer\\nimport pandas as pd\\nimport sys'); }\n",
       "    "
      ],
      "text/plain": [
       "<IPython.core.display.Javascript object>"
      ]
     },
     "metadata": {},
     "output_type": "display_data"
    },
    {
     "data": {
      "application/javascript": [
       "\n",
       "        if (window._pyforest_update_imports_cell) { window._pyforest_update_imports_cell('import re\\nimport numpy as np\\nimport matplotlib.pyplot as plt\\nimport seaborn as sns\\nfrom sklearn.feature_extraction.text import CountVectorizer\\nimport pandas as pd\\nimport sys'); }\n",
       "    "
      ],
      "text/plain": [
       "<IPython.core.display.Javascript object>"
      ]
     },
     "metadata": {},
     "output_type": "display_data"
    },
    {
     "data": {
      "application/javascript": [
       "\n",
       "        if (window._pyforest_update_imports_cell) { window._pyforest_update_imports_cell('import re\\nimport numpy as np\\nimport matplotlib.pyplot as plt\\nimport seaborn as sns\\nfrom sklearn.feature_extraction.text import CountVectorizer\\nimport pandas as pd\\nimport sys'); }\n",
       "    "
      ],
      "text/plain": [
       "<IPython.core.display.Javascript object>"
      ]
     },
     "metadata": {},
     "output_type": "display_data"
    },
    {
     "data": {
      "application/javascript": [
       "\n",
       "        if (window._pyforest_update_imports_cell) { window._pyforest_update_imports_cell('import re\\nimport numpy as np\\nimport matplotlib.pyplot as plt\\nimport seaborn as sns\\nfrom sklearn.feature_extraction.text import CountVectorizer\\nimport pandas as pd\\nimport sys'); }\n",
       "    "
      ],
      "text/plain": [
       "<IPython.core.display.Javascript object>"
      ]
     },
     "metadata": {},
     "output_type": "display_data"
    },
    {
     "data": {
      "application/javascript": [
       "\n",
       "        if (window._pyforest_update_imports_cell) { window._pyforest_update_imports_cell('import re\\nimport numpy as np\\nimport matplotlib.pyplot as plt\\nimport seaborn as sns\\nfrom sklearn.feature_extraction.text import CountVectorizer\\nimport pandas as pd\\nimport sys'); }\n",
       "    "
      ],
      "text/plain": [
       "<IPython.core.display.Javascript object>"
      ]
     },
     "metadata": {},
     "output_type": "display_data"
    },
    {
     "data": {
      "application/javascript": [
       "\n",
       "        if (window._pyforest_update_imports_cell) { window._pyforest_update_imports_cell('import re\\nimport numpy as np\\nimport matplotlib.pyplot as plt\\nimport seaborn as sns\\nfrom sklearn.feature_extraction.text import CountVectorizer\\nimport pandas as pd\\nimport sys'); }\n",
       "    "
      ],
      "text/plain": [
       "<IPython.core.display.Javascript object>"
      ]
     },
     "metadata": {},
     "output_type": "display_data"
    },
    {
     "data": {
      "application/javascript": [
       "\n",
       "        if (window._pyforest_update_imports_cell) { window._pyforest_update_imports_cell('import re\\nimport numpy as np\\nimport matplotlib.pyplot as plt\\nimport seaborn as sns\\nfrom sklearn.feature_extraction.text import CountVectorizer\\nimport pandas as pd\\nimport sys'); }\n",
       "    "
      ],
      "text/plain": [
       "<IPython.core.display.Javascript object>"
      ]
     },
     "metadata": {},
     "output_type": "display_data"
    },
    {
     "data": {
      "application/javascript": [
       "\n",
       "        if (window._pyforest_update_imports_cell) { window._pyforest_update_imports_cell('import re\\nimport numpy as np\\nimport matplotlib.pyplot as plt\\nimport seaborn as sns\\nfrom sklearn.feature_extraction.text import CountVectorizer\\nimport pandas as pd\\nimport sys'); }\n",
       "    "
      ],
      "text/plain": [
       "<IPython.core.display.Javascript object>"
      ]
     },
     "metadata": {},
     "output_type": "display_data"
    },
    {
     "data": {
      "application/javascript": [
       "\n",
       "        if (window._pyforest_update_imports_cell) { window._pyforest_update_imports_cell('import re\\nimport numpy as np\\nimport matplotlib.pyplot as plt\\nimport seaborn as sns\\nfrom sklearn.feature_extraction.text import CountVectorizer\\nimport pandas as pd\\nimport sys'); }\n",
       "    "
      ],
      "text/plain": [
       "<IPython.core.display.Javascript object>"
      ]
     },
     "metadata": {},
     "output_type": "display_data"
    },
    {
     "data": {
      "application/javascript": [
       "\n",
       "        if (window._pyforest_update_imports_cell) { window._pyforest_update_imports_cell('import re\\nimport numpy as np\\nimport matplotlib.pyplot as plt\\nimport seaborn as sns\\nfrom sklearn.feature_extraction.text import CountVectorizer\\nimport pandas as pd\\nimport sys'); }\n",
       "    "
      ],
      "text/plain": [
       "<IPython.core.display.Javascript object>"
      ]
     },
     "metadata": {},
     "output_type": "display_data"
    },
    {
     "data": {
      "application/javascript": [
       "\n",
       "        if (window._pyforest_update_imports_cell) { window._pyforest_update_imports_cell('import re\\nimport numpy as np\\nimport matplotlib.pyplot as plt\\nimport seaborn as sns\\nfrom sklearn.feature_extraction.text import CountVectorizer\\nimport pandas as pd\\nimport sys'); }\n",
       "    "
      ],
      "text/plain": [
       "<IPython.core.display.Javascript object>"
      ]
     },
     "metadata": {},
     "output_type": "display_data"
    },
    {
     "data": {
      "application/javascript": [
       "\n",
       "        if (window._pyforest_update_imports_cell) { window._pyforest_update_imports_cell('import re\\nimport numpy as np\\nimport matplotlib.pyplot as plt\\nimport seaborn as sns\\nfrom sklearn.feature_extraction.text import CountVectorizer\\nimport pandas as pd\\nimport sys'); }\n",
       "    "
      ],
      "text/plain": [
       "<IPython.core.display.Javascript object>"
      ]
     },
     "metadata": {},
     "output_type": "display_data"
    },
    {
     "data": {
      "application/javascript": [
       "\n",
       "        if (window._pyforest_update_imports_cell) { window._pyforest_update_imports_cell('import re\\nimport numpy as np\\nimport matplotlib.pyplot as plt\\nimport seaborn as sns\\nfrom sklearn.feature_extraction.text import CountVectorizer\\nimport pandas as pd\\nimport sys'); }\n",
       "    "
      ],
      "text/plain": [
       "<IPython.core.display.Javascript object>"
      ]
     },
     "metadata": {},
     "output_type": "display_data"
    },
    {
     "data": {
      "application/javascript": [
       "\n",
       "        if (window._pyforest_update_imports_cell) { window._pyforest_update_imports_cell('import re\\nimport numpy as np\\nimport matplotlib.pyplot as plt\\nimport seaborn as sns\\nfrom sklearn.feature_extraction.text import CountVectorizer\\nimport pandas as pd\\nimport sys'); }\n",
       "    "
      ],
      "text/plain": [
       "<IPython.core.display.Javascript object>"
      ]
     },
     "metadata": {},
     "output_type": "display_data"
    },
    {
     "data": {
      "application/javascript": [
       "\n",
       "        if (window._pyforest_update_imports_cell) { window._pyforest_update_imports_cell('import re\\nimport numpy as np\\nimport matplotlib.pyplot as plt\\nimport seaborn as sns\\nfrom sklearn.feature_extraction.text import CountVectorizer\\nimport pandas as pd\\nimport sys'); }\n",
       "    "
      ],
      "text/plain": [
       "<IPython.core.display.Javascript object>"
      ]
     },
     "metadata": {},
     "output_type": "display_data"
    },
    {
     "data": {
      "application/javascript": [
       "\n",
       "        if (window._pyforest_update_imports_cell) { window._pyforest_update_imports_cell('import re\\nimport numpy as np\\nimport matplotlib.pyplot as plt\\nimport seaborn as sns\\nfrom sklearn.feature_extraction.text import CountVectorizer\\nimport pandas as pd\\nimport sys'); }\n",
       "    "
      ],
      "text/plain": [
       "<IPython.core.display.Javascript object>"
      ]
     },
     "metadata": {},
     "output_type": "display_data"
    },
    {
     "data": {
      "application/javascript": [
       "\n",
       "        if (window._pyforest_update_imports_cell) { window._pyforest_update_imports_cell('import re\\nimport numpy as np\\nimport matplotlib.pyplot as plt\\nimport seaborn as sns\\nfrom sklearn.feature_extraction.text import CountVectorizer\\nimport pandas as pd\\nimport sys'); }\n",
       "    "
      ],
      "text/plain": [
       "<IPython.core.display.Javascript object>"
      ]
     },
     "metadata": {},
     "output_type": "display_data"
    }
   ],
   "source": [
    "#### trimming text array\n",
    "\n",
    "def text_array_trim(\n",
    "    text_data,\n",
    "):\n",
    "    \"\"\"this function trim lemmatized array for better price detection\"\"\"\n",
    "    \n",
    "    synonyms = []\n",
    "    for i in [\n",
    "        \"done\",\n",
    "        \"paid\",\n",
    "        \"visa\",\n",
    "        \"thank\",\n",
    "        \"approved\",\n",
    "        \"complete\",\n",
    "        \"paid\",\n",
    "        \"total\",\n",
    "    ]:\n",
    "        synonyms.append(i.lower())\n",
    "\n",
    "    trim_idx_list = []\n",
    "    for (\n",
    "        idx,\n",
    "        word,\n",
    "    ) in enumerate(text_data):\n",
    "        word_up = \"\".join(\n",
    "            re.split(\n",
    "                \"[^a-zA-Z]*\",\n",
    "                word,\n",
    "            )\n",
    "        )\n",
    "\n",
    "        if word_up.lower() in synonyms:\n",
    "            trim_idx_list.append(idx + 1)\n",
    "    if len(trim_idx_list) >= 1:\n",
    "        text_data_updated = text_data[: max(trim_idx_list) + 1]\n",
    "        return text_data_updated\n",
    "    else:\n",
    "        return text_data\n",
    "\n",
    "\n",
    "train_df[\"trim_lemma_text\"] = train_df[\"lemma_text\"].apply(text_array_trim)"
   ]
  },
  {
   "cell_type": "code",
   "execution_count": 17,
   "id": "8e507700",
   "metadata": {},
   "outputs": [],
   "source": [
    "#### finding price RAW\n",
    "\n",
    "def price_extraction(\n",
    "    text_data,\n",
    "):\n",
    "    \"\"\"this function extract price from the lemmatized array of words: RAW \"\"\"\n",
    "    synonyms = []\n",
    "    for i in [\n",
    "        \"totaldue\",\n",
    "        \"Tctal\",\n",
    "        \"Totai\",\n",
    "        \"total\",\n",
    "        \"totalamount\",\n",
    "        \"paid\",\n",
    "        \"due\",\n",
    "        \"amount\",\n",
    "    ]:\n",
    "        synonyms.append(i.lower())\n",
    "\n",
    "    idx_list = []\n",
    "    for (\n",
    "        idx,\n",
    "        word,\n",
    "    ) in enumerate(text_data):\n",
    "        word_up = word.translate(\n",
    "            str.maketrans(\n",
    "                \"\",\n",
    "                \"\",\n",
    "                string.punctuation,\n",
    "            )\n",
    "        )\n",
    "\n",
    "        if word_up.lower() in synonyms:\n",
    "            amt_idx = idx\n",
    "            idx_list.append(amt_idx + 1)\n",
    "            if word_up.lower() == \"total\":\n",
    "                idx_list.append(amt_idx - 1)\n",
    "        else:\n",
    "            if \"$\" in word.lower():\n",
    "                amt_idx = idx\n",
    "                idx_list.append(amt_idx)\n",
    "            else:\n",
    "                pass\n",
    "\n",
    "    if idx_list:\n",
    "        if len(idx_list) > 1:\n",
    "            value = []\n",
    "            for idx in idx_list:\n",
    "                value.append(text_data[idx])\n",
    "        else:\n",
    "            value = text_data[idx_list[0]]\n",
    "    else:\n",
    "        idx_list = \"NA\"\n",
    "        value = \"NA\"\n",
    "    final_result = {tuple(idx_list): value}\n",
    "    return final_result\n",
    "\n",
    "\n",
    "train_df[\"price_extracted_raw\"] = train_df[\"trim_lemma_text\"].apply(price_extraction)"
   ]
  },
  {
   "cell_type": "code",
   "execution_count": 18,
   "id": "33e7bd96",
   "metadata": {},
   "outputs": [],
   "source": [
    "#### processing raw price extractions\n",
    "\n",
    "def extract_price_from_dict(\n",
    "    dictionary,\n",
    "):\n",
    "    \"\"\"this function further process and optimize price detection\"\"\"\n",
    "    import re\n",
    "\n",
    "    clean_values = []\n",
    "    price_values = list(dictionary.values())\n",
    "    for ls in price_values:\n",
    "        if type(ls) == type(clean_values):\n",
    "            for l in ls:\n",
    "                if \"$\" in l:\n",
    "                    value = re.findall(\n",
    "                        r\"\\d+\\.\\d+\",\n",
    "                        l,\n",
    "                    )\n",
    "                    if value:\n",
    "                        clean_values.append(float(value[0]))\n",
    "                    else:\n",
    "                        value = re.findall(\n",
    "                            r\"\\d+\",\n",
    "                            l,\n",
    "                        )\n",
    "                        if value:\n",
    "                            clean_values.append(float(value[0]))\n",
    "        else:\n",
    "            if \"$\" in ls:\n",
    "                value = re.findall(\n",
    "                    r\"\\d+\\.\\d+\",\n",
    "                    ls,\n",
    "                )\n",
    "                if value:\n",
    "                    clean_values.append(float(value[0]))\n",
    "                else:\n",
    "                    value = re.findall(\n",
    "                        r\"\\d+\",\n",
    "                        ls,\n",
    "                    )\n",
    "                    if value:\n",
    "                        clean_values.append(float(value[0]))\n",
    "\n",
    "    if not clean_values or (max(clean_values) == 0.0):\n",
    "        for ls in price_values:\n",
    "            if type(ls) == type(clean_values):\n",
    "                for l in ls:\n",
    "                    value = re.findall(\n",
    "                        r\"\\d+\\.\\d+\",\n",
    "                        l,\n",
    "                    )\n",
    "                    if value:\n",
    "                        clean_values.append(float(value[0]))\n",
    "                    else:\n",
    "                        value = re.findall(\n",
    "                            r\"\\d+\",\n",
    "                            l,\n",
    "                        )\n",
    "                        if value:\n",
    "                            clean_values.append(float(value[0]))\n",
    "            else:\n",
    "                value = re.findall(\n",
    "                    r\"\\d+\\.\\d+\",\n",
    "                    ls,\n",
    "                )\n",
    "                if value:\n",
    "                    clean_values.append(float(value[0]))\n",
    "                else:\n",
    "                    value = re.findall(\n",
    "                        r\"\\d+\",\n",
    "                        ls,\n",
    "                    )\n",
    "                    if value:\n",
    "                        clean_values.append(float(value[0]))\n",
    "                        \n",
    "        if clean_values:\n",
    "            return \"CA$\" + str(max(clean_values))\n",
    "    else:\n",
    "        return \"CA$\" + str(max(clean_values))\n",
    "    \n",
    "#         if clean_values:\n",
    "#             return max(clean_values)\n",
    "#     else:\n",
    "#         return max(clean_values)\n",
    "\n",
    "\n",
    "\n",
    "train_df[\"price_extracted_clean\"] = train_df[\"price_extracted_raw\"].apply(\n",
    "    extract_price_from_dict\n",
    ")"
   ]
  },
  {
   "cell_type": "code",
   "execution_count": 19,
   "id": "4f9c4df5",
   "metadata": {},
   "outputs": [],
   "source": [
    "#### saving extracted features into csv\n",
    "\n",
    "train_df.to_csv(\n",
    "    path + \"train_df_extracted_info.csv\",\n",
    "    index=False,\n",
    ")"
   ]
  }
 ],
 "metadata": {
  "kernelspec": {
   "display_name": "Python 3 (ipykernel)",
   "language": "python",
   "name": "python3"
  },
  "language_info": {
   "codemirror_mode": {
    "name": "ipython",
    "version": 3
   },
   "file_extension": ".py",
   "mimetype": "text/x-python",
   "name": "python",
   "nbconvert_exporter": "python",
   "pygments_lexer": "ipython3",
   "version": "3.10.6"
  }
 },
 "nbformat": 4,
 "nbformat_minor": 5
}
